{
 "cells": [
  {
   "cell_type": "code",
   "execution_count": 1,
   "metadata": {},
   "outputs": [],
   "source": [
    "import h5py\n",
    "import matplotlib.pyplot as plt\n",
    "import numpy as np\n",
    "\n",
    "from neuropacks import NHP\n",
    "from pyuoi.decomposition import UoI_CUR, CUR\n",
    "from scipy.io import loadmat\n",
    "from sklearn.linear_model import LinearRegression\n",
    "from sklearn.model_selection import KFold\n",
    "\n",
    "%matplotlib inline"
   ]
  },
  {
   "cell_type": "code",
   "execution_count": 52,
   "metadata": {},
   "outputs": [],
   "source": [
    "nhp = NHP(data_path='/Users/psachdeva/data/NHP/indy_20160407_02.mat')"
   ]
  },
  {
   "cell_type": "code",
   "execution_count": 53,
   "metadata": {},
   "outputs": [],
   "source": [
    "Y = nhp.get_response_matrix(\n",
    "    bin_width=0.25, region='M1', transform=None\n",
    ")\n",
    "cursor_pos = nhp.get_binned_positions(bin_width=0.25)\n",
    "nz_indices = np.argwhere(Y.sum(axis=0) > 0).ravel()\n",
    "Y = Y[:, nz_indices]"
   ]
  },
  {
   "cell_type": "code",
   "execution_count": 82,
   "metadata": {},
   "outputs": [
    {
     "data": {
      "text/plain": [
       "(3272, 136)"
      ]
     },
     "execution_count": 82,
     "metadata": {},
     "output_type": "execute_result"
    }
   ],
   "source": [
    "Y.shape"
   ]
  },
  {
   "cell_type": "code",
   "execution_count": 55,
   "metadata": {},
   "outputs": [
    {
     "data": {
      "text/plain": [
       "(3272, 136)"
      ]
     },
     "execution_count": 55,
     "metadata": {},
     "output_type": "execute_result"
    }
   ],
   "source": [
    "Y.shape"
   ]
  },
  {
   "cell_type": "code",
   "execution_count": 73,
   "metadata": {},
   "outputs": [],
   "source": [
    "max_k = 20"
   ]
  },
  {
   "cell_type": "code",
   "execution_count": 74,
   "metadata": {},
   "outputs": [
    {
     "data": {
      "text/plain": [
       "CUR(algorithm='randomized', max_k=20, n_iter=5, random_state=None, tol=0.0)"
      ]
     },
     "execution_count": 74,
     "metadata": {},
     "output_type": "execute_result"
    }
   ],
   "source": [
    "uoi_cur = UoI_CUR(\n",
    "    n_boots=20,\n",
    "    max_k=max_k,\n",
    "    boots_frac=0.8\n",
    ")\n",
    "uoi_cur2 = UoI_CUR(\n",
    "    n_boots=20,\n",
    "    max_k=max_k,\n",
    "    boots_frac=0.8\n",
    ")\n",
    "cur = CUR(max_k=max_k)\n",
    "uoi_cur.fit(Y)\n",
    "uoi_cur2.fit(Y, ks=max_k)\n",
    "cur.fit(Y, c=max_k+20)"
   ]
  },
  {
   "cell_type": "code",
   "execution_count": 75,
   "metadata": {},
   "outputs": [
    {
     "name": "stdout",
     "output_type": "stream",
     "text": [
      "17\n",
      "13\n",
      "27\n"
     ]
    }
   ],
   "source": [
    "print(uoi_cur.column_indices_.size)\n",
    "print(uoi_cur2.column_indices_.size)\n",
    "print(cur.column_indices_.size)"
   ]
  },
  {
   "cell_type": "code",
   "execution_count": 76,
   "metadata": {},
   "outputs": [
    {
     "data": {
      "text/plain": [
       "array([  6,  11,  15,  29,  43,  46,  55,  68,  78,  84,  90,  99, 104,\n",
       "       108, 120, 122, 124])"
      ]
     },
     "execution_count": 76,
     "metadata": {},
     "output_type": "execute_result"
    }
   ],
   "source": [
    "uoi_cur.column_indices_"
   ]
  },
  {
   "cell_type": "code",
   "execution_count": 77,
   "metadata": {},
   "outputs": [
    {
     "data": {
      "text/plain": [
       "array([ 11,  15,  29,  43,  46,  55,  84,  90,  99, 104, 108, 120, 124])"
      ]
     },
     "execution_count": 77,
     "metadata": {},
     "output_type": "execute_result"
    }
   ],
   "source": [
    "uoi_cur2.column_indices_"
   ]
  },
  {
   "cell_type": "code",
   "execution_count": 78,
   "metadata": {},
   "outputs": [
    {
     "data": {
      "text/plain": [
       "array([  3,  15,  31,  35,  37,  45,  50,  68,  92, 112, 123, 125, 132])"
      ]
     },
     "execution_count": 78,
     "metadata": {},
     "output_type": "execute_result"
    }
   ],
   "source": [
    "np.sort(cur.column_indices_[:13]"
   ]
  },
  {
   "cell_type": "code",
   "execution_count": null,
   "metadata": {},
   "outputs": [],
   "source": [
    "max_ks = np.arange(25, 150, 5)\n",
    "n_max_ks = max_ks.size\n",
    "n_splits = 10\n",
    "uoi_columns_dict = {}\n",
    "cur_columns_dict = {}\n",
    "uoi_decoding = np.zeros(n_max_ks)\n",
    "cur_decoding = np.zeros(n_max_ks)\n",
    "uoi_scores_x = np.zeros((n_max_ks, n_splits))\n",
    "uoi_scores_y = np.zeros(uoi_scores_x.shape)\n",
    "cur_scores_x = np.zeros(uoi_scores_x.shape)\n",
    "cur_scores_y = np.zeros(uoi_scores_x.shape)"
   ]
  },
  {
   "cell_type": "code",
   "execution_count": null,
   "metadata": {},
   "outputs": [],
   "source": [
    "for k_idx, max_k in enumerate(max_ks):\n",
    "    uoi_cur = UoI_CUR(\n",
    "        n_boots=20,\n",
    "        max_k=max_k,\n",
    "        boots_frac=0.8\n",
    "    )\n",
    "    uoi_cur.fit(Y)\n",
    "\n",
    "    uoi_columns = uoi_cur.columns_\n",
    "    uoi_columns_dict[k_idx] = uoi_columns\n",
    "    \n",
    "    n_columns = uoi_columns.size\n",
    "    \n",
    "    cur = CUR(max_k=max_k)\n",
    "    cur.fit(Y, c=n_columns)\n",
    "    cur_columns = np.sort(cur.columns_[:n_columns])\n",
    "    cur_columns_dict[k_idx] = cur_columns\n",
    "    \n",
    "    Y_uoi = Y[:, uoi_columns]\n",
    "    Y_cur = Y[:, cur_columns]\n",
    "    \n",
    "    Y_uoi_err = Y - np.dot(Y_uoi, np.dot(np.linalg.pinv(Y_uoi), Y))\n",
    "    Y_cur_err = Y - np.dot(Y_cur, np.dot(np.linalg.pinv(Y_cur), Y))\n",
    "    uoi_decoding[k_idx] = np.sum(np.abs(Y_uoi_err))/Y.size\n",
    "    cur_decoding[k_idx] = np.sum(np.abs(Y_cur_err))/Y.size\n",
    "\n",
    "    kf = KFold(n_splits=10)\n",
    "    for fold_idx, (train_idx, test_idx) in enumerate(kf.split(Y)):\n",
    "        Y_train, pos_train_x, pos_train_y = Y[train_idx], cursor_pos[train_idx, 0], cursor_pos[train_idx, 1]\n",
    "        Y_test, pos_test_x, pos_test_y = Y[test_idx], cursor_pos[test_idx, 0], cursor_pos[test_idx, 1]\n",
    "\n",
    "        # decode with uoi columns\n",
    "        ols = LinearRegression()\n",
    "        ols.fit(Y_train[:, uoi_columns], pos_train_x)\n",
    "        uoi_scores_x[k_idx, fold_idx] = ols.score(Y_test[:, uoi_columns], pos_test_x)\n",
    "        \n",
    "        ols = LinearRegression()\n",
    "        ols.fit(Y_train[:, uoi_columns], pos_train_y)\n",
    "        uoi_scores_y[k_idx, fold_idx] = ols.score(Y_test[:, uoi_columns], pos_test_y)\n",
    "\n",
    "        # decode with cur columns\n",
    "        ols = LinearRegression()\n",
    "        ols.fit(Y_train[:, cur_columns], pos_train_x)\n",
    "        cur_scores_x[k_idx, fold_idx] = ols.score(Y_test[:, cur_columns], pos_test_x)\n",
    "        \n",
    "        ols = LinearRegression()\n",
    "        ols.fit(Y_train[:, cur_columns], pos_train_y)\n",
    "        cur_scores_y[k_idx, fold_idx] = ols.score(Y_test[:, cur_columns], pos_test_y)"
   ]
  },
  {
   "cell_type": "code",
   "execution_count": null,
   "metadata": {},
   "outputs": [],
   "source": [
    "fig, axes = plt.subplots(2, 1, figsize=(8, 6), sharex=True)\n",
    "\n",
    "axes[0].plot(max_ks, np.median(uoi_scores_x, axis=1), color='r', linewidth=3)\n",
    "axes[0].plot(max_ks, np.median(cur_scores_x, axis=1), color='k', linewidth=3)\n",
    "\n",
    "axes[1].plot(max_ks, np.median(uoi_scores_y, axis=1), color='r', linewidth=3, label=r'\\textbf{UoI}$_{\\textbf{CSS}}$')\n",
    "axes[1].plot(max_ks, np.median(cur_scores_y, axis=1), color='k', linewidth=3, label=r'\\textbf{CSS}')\n",
    "\n",
    "axes[1].set_xlabel(r'$k_{\\text{max}}$', fontsize=25)\n",
    "\n",
    "fig.text(\n",
    "    x=-0.025, y=0.55, s=r'\\textbf{Explained}' '\\n' r'\\textbf{Variance}',\n",
    "    rotation=90,\n",
    "    horizontalalignment='center',\n",
    "    verticalalignment='center',\n",
    "    fontsize=23\n",
    ")\n",
    "axes[0].set_ylabel(r'$x$ position', fontsize=23)\n",
    "axes[1].set_ylabel(r'$y$ position', fontsize=23)\n",
    "\n",
    "axes[1].set_xlim([25, 145])\n",
    "axes[1].set_xticks([25, 50, 75, 100, 125, 145])\n",
    "\n",
    "axes[1].legend(loc=4, prop={'size': 20})\n",
    "\n",
    "axes[0].set_title(r'\\textbf{Hand Position Decoding Accuracy}', fontsize=25)\n",
    "plt.tight_layout()\n",
    "\n",
    "plt.savefig('m1_cur_decoding_position.pdf', bbox_inches='tight')"
   ]
  },
  {
   "cell_type": "code",
   "execution_count": null,
   "metadata": {},
   "outputs": [],
   "source": [
    "fig, axes = plt.subplots(2, 1, figsize=(8, 6), sharex=True)\n",
    "axes[0].plot(max_ks, uoi_decoding, color='r', linewidth=3, label=r'\\textbf{UoI}$_{\\textbf{CSS}}$')\n",
    "axes[0].plot(max_ks, cur_decoding, color='k', linewidth=3, label=r'\\textbf{CSS}')\n",
    "\n",
    "axes[0].set_xlim([25, 145])\n",
    "axes[0].set_xticks([25, 50, 75, 100, 125, 145])\n",
    "\n",
    "axes[0].set_ylabel(r'\\textbf{Error}', fontsize=22)\n",
    "axes[0].set_title(r'\\textbf{Reconstruction Error of Data Matrix}', fontsize=23)\n",
    "axes[0].legend(loc=0, prop={'size': 20})\n",
    "\n",
    "\n",
    "axes[1].plot(\n",
    "    max_ks, [uoi_columns_dict[key].size for key in uoi_columns_dict.keys()],\n",
    "    color='k',\n",
    "    linewidth=3)\n",
    "\n",
    "axes[1].set_xlim([25, 145])\n",
    "axes[1].set_xticks([25, 50, 75, 100, 125, 145])\n",
    "\n",
    "axes[1].set_title(r'\\textbf{Number of Columns Selected}', fontsize=23)\n",
    "axes[1].set_xlabel(r'$k_{\\text{max}}$', fontsize=25)\n",
    "axes[1].set_ylabel(r'\\textbf{Num. Columns}', fontsize=22)\n",
    "                   \n",
    "plt.tight_layout()\n",
    "plt.savefig('m1_cur_error.pdf', bbox_inches='tight')"
   ]
  },
  {
   "cell_type": "code",
   "execution_count": null,
   "metadata": {},
   "outputs": [],
   "source": [
    "results = h5py.File('cur_results.h5', 'w')\n",
    "results['uoi_decoding_x'] = uoi_scores_x\n",
    "results['uoi_decoding_y'] = uoi_scores_y\n",
    "results['cur_decoding_x'] = cur_scores_x\n",
    "results['cur_decoding_y'] = cur_scores_y\n",
    "results['uoi_reconstruction'] = uoi_decoding\n",
    "results['cur_reconstruction'] = cur_decoding\n",
    "results.attrs['file'] = 'indy_20160411_01.mat'\n",
    "results.attrs['bin_size'] = 0.25\n",
    "for idx, column in uoi_columns_dict.items():\n",
    "    results['uoi_columns/' + str(max_ks[idx])] = column\n",
    "    \n",
    "for idx, column in cur_columns_dict.items():\n",
    "    results['cur_columns/' + str(max_ks[idx])] = column\n",
    "results.close()"
   ]
  }
 ],
 "metadata": {
  "kernelspec": {
   "display_name": "Python 3 (base)",
   "language": "python",
   "name": "base"
  },
  "varInspector": {
   "cols": {
    "lenName": 16,
    "lenType": 16,
    "lenVar": 40
   },
   "kernels_config": {
    "python": {
     "delete_cmd_postfix": "",
     "delete_cmd_prefix": "del ",
     "library": "var_list.py",
     "varRefreshCmd": "print(var_dic_list())"
    },
    "r": {
     "delete_cmd_postfix": ") ",
     "delete_cmd_prefix": "rm(",
     "library": "var_list.r",
     "varRefreshCmd": "cat(var_dic_list()) "
    }
   },
   "types_to_exclude": [
    "module",
    "function",
    "builtin_function_or_method",
    "instance",
    "_Feature"
   ],
   "window_display": false
  }
 },
 "nbformat": 4,
 "nbformat_minor": 2
}
