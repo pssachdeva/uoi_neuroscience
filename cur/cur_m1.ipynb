{
 "cells": [
  {
   "cell_type": "code",
   "execution_count": 4,
   "metadata": {},
   "outputs": [],
   "source": [
    "import h5py\n",
    "import matplotlib.pyplot as plt\n",
    "import numpy as np\n",
    "\n",
    "from neuropacks import NHP\n",
    "from pyuoi.decomposition import UoI_CUR, CUR\n",
    "from scipy.io import loadmat\n",
    "from sklearn.linear_model import LinearRegression\n",
    "from sklearn.model_selection import KFold\n",
    "from sklearn.decomposition import TruncatedSVD\n",
    "\n",
    "%matplotlib inline"
   ]
  },
  {
   "cell_type": "code",
   "execution_count": 51,
   "metadata": {},
   "outputs": [],
   "source": [
    "n_components = 50\n",
    "tsvd = TruncatedSVD(n_components=n_components)\n",
    "tsvd.fit(Y)\n",
    "V = tsvd.components_.T\n",
    "pi = (n_components + 20) * np.sum(V**2, axis=1) / n_components"
   ]
  },
  {
   "cell_type": "code",
   "execution_count": 111,
   "metadata": {},
   "outputs": [],
   "source": [
    "f = loadmat('DATA.mat')"
   ]
  },
  {
   "cell_type": "code",
   "execution_count": 114,
   "metadata": {},
   "outputs": [
    {
     "data": {
      "text/plain": [
       "(268, 307)"
      ]
     },
     "execution_count": 114,
     "metadata": {},
     "output_type": "execute_result"
    }
   ],
   "source": [
    "f['F'].shape"
   ]
  },
  {
   "cell_type": "code",
   "execution_count": 153,
   "metadata": {},
   "outputs": [
    {
     "data": {
      "text/plain": [
       "CUR(algorithm='randomized', max_k=50, n_iter=5, random_state=None, tol=0.0)"
      ]
     },
     "execution_count": 153,
     "metadata": {},
     "output_type": "execute_result"
    }
   ],
   "source": [
    "uoi_cur = UoI_CUR(\n",
    "    n_boots=4,\n",
    "    max_k=50,\n",
    "    boots_frac=0.9\n",
    ")\n",
    "uoi_cur.fit(f['F'], ks=50)\n",
    "\n",
    "cur = CUR(max_k=50)\n",
    "cur.fit(f['F'], c=70)"
   ]
  },
  {
   "cell_type": "code",
   "execution_count": 154,
   "metadata": {},
   "outputs": [
    {
     "name": "stdout",
     "output_type": "stream",
     "text": [
      "(3,)\n",
      "(79,)\n"
     ]
    }
   ],
   "source": [
    "print(uoi_cur.column_indices_.shape)\n",
    "print(cur.column_indices_.shape)"
   ]
  },
  {
   "cell_type": "code",
   "execution_count": 125,
   "metadata": {},
   "outputs": [
    {
     "data": {
      "text/plain": [
       "array([  3,   4,  16,  18,  22,  28,  34,  38,  42,  47,  52,  53,  54,\n",
       "        71,  72,  78,  80,  85,  88,  89,  93,  94, 100, 107, 108, 111,\n",
       "       119, 120, 123, 125, 134, 135, 139, 151, 162, 164, 166, 169, 170,\n",
       "       173, 183, 185, 202, 204, 212, 213, 214, 215, 216, 226, 238, 240,\n",
       "       241, 244, 247, 250, 251, 253, 257, 265, 269, 276, 280, 284, 288,\n",
       "       289, 296, 298, 299, 301, 302])"
      ]
     },
     "execution_count": 125,
     "metadata": {},
     "output_type": "execute_result"
    }
   ],
   "source": [
    "np.sort(cur.column_indices_)"
   ]
  },
  {
   "cell_type": "code",
   "execution_count": 53,
   "metadata": {},
   "outputs": [
    {
     "data": {
      "text/plain": [
       "[<matplotlib.lines.Line2D at 0x1c2782e9e8>]"
      ]
     },
     "execution_count": 53,
     "metadata": {},
     "output_type": "execute_result"
    },
    {
     "data": {
      "image/png": "[encoded data removed]",
      "text/plain": [
       "<Figure size 432x288 with 1 Axes>"
      ]
     },
     "metadata": {
      "needs_background": "light"
     },
     "output_type": "display_data"
    }
   ],
   "source": [
    "plt.plot(np.flip(np.sort(pi)), marker='o')"
   ]
  },
  {
   "cell_type": "code",
   "execution_count": 2,
   "metadata": {},
   "outputs": [],
   "source": [
    "nhp = NHP(data_path='/Users/psachdeva/data/NHP/indy_20160407_02.mat')"
   ]
  },
  {
   "cell_type": "code",
   "execution_count": 3,
   "metadata": {},
   "outputs": [],
   "source": [
    "Y = nhp.get_response_matrix(\n",
    "    bin_width=0.20, region='M1', transform=None\n",
    ")\n",
    "cursor_pos = nhp.get_binned_positions(bin_width=0.20)\n",
    "nz_indices = np.argwhere(Y.sum(axis=0) > 0).ravel()\n",
    "Y = Y[:, nz_indices]"
   ]
  },
  {
   "cell_type": "code",
   "execution_count": 21,
   "metadata": {},
   "outputs": [],
   "source": [
    "n_reps = 1\n",
    "ks = np.arange(1, 101)\n",
    "n_ks = ks.size\n",
    "\n",
    "n_columns_uoi = np.zeros((n_reps, n_ks))\n",
    "n_columns_uoi2 = np.zeros((n_reps, n_ks))\n",
    "n_columns_cur = np.zeros((n_reps, n_ks))"
   ]
  },
  {
   "cell_type": "code",
   "execution_count": null,
   "metadata": {
    "code_folding": []
   },
   "outputs": [],
   "source": [
    "max_k = \n",
    "uoi_cur = UoI_CUR(\n",
    "    n_boots=20,\n",
    "    max_k=max_k,\n",
    "    boots_frac=0.8\n",
    ")\n",
    "uoi_cur2 = UoI_CUR(\n",
    "    n_boots=20,\n",
    "    max_k=max_k,\n",
    "    boots_frac=0.8\n",
    ")\n",
    "cur = CUR(max_k=max_k)\n",
    "\n",
    "# fits\n",
    "uoi_cur.fit(Y)\n",
    "uoi_cur2.fit(Y, ks=max_k)\n",
    "cur.fit(Y, c=max_k+20)\n"
   ]
  },
  {
   "cell_type": "code",
   "execution_count": 22,
   "metadata": {},
   "outputs": [
    {
     "name": "stdout",
     "output_type": "stream",
     "text": [
      "0\n",
      "0\n",
      "1\n",
      "2\n",
      "3\n",
      "4\n",
      "5\n",
      "6\n",
      "7\n",
      "8\n",
      "9\n",
      "10\n",
      "11\n",
      "12\n",
      "13\n",
      "14\n",
      "15\n",
      "16\n",
      "17\n",
      "18\n",
      "19\n",
      "20\n",
      "21\n",
      "22\n",
      "23\n",
      "24\n",
      "25\n",
      "26\n",
      "27\n",
      "28\n",
      "29\n",
      "30\n",
      "31\n",
      "32\n",
      "33\n",
      "34\n",
      "35\n",
      "36\n",
      "37\n",
      "38\n",
      "39\n",
      "40\n",
      "41\n",
      "42\n",
      "43\n",
      "44\n",
      "45\n",
      "46\n",
      "47\n",
      "48\n",
      "49\n",
      "50\n",
      "51\n",
      "52\n",
      "53\n",
      "54\n",
      "55\n",
      "56\n",
      "57\n",
      "58\n",
      "59\n",
      "60\n",
      "61\n",
      "62\n",
      "63\n",
      "64\n",
      "65\n",
      "66\n",
      "67\n",
      "68\n",
      "69\n",
      "70\n",
      "71\n",
      "72\n",
      "73\n",
      "74\n",
      "75\n",
      "76\n",
      "77\n",
      "78\n",
      "79\n",
      "80\n",
      "81\n",
      "82\n",
      "83\n",
      "84\n",
      "85\n",
      "86\n",
      "87\n",
      "88\n",
      "89\n",
      "90\n",
      "91\n",
      "92\n",
      "93\n",
      "94\n",
      "95\n",
      "96\n",
      "97\n",
      "98\n",
      "99\n"
     ]
    }
   ],
   "source": [
    "for rep in range(n_reps):\n",
    "    print(rep)\n",
    "    for k_idx, k in enumerate(ks):\n",
    "        print(k_idx)\n",
    "        k = int(k)\n",
    "        uoi_cur = UoI_CUR(\n",
    "            n_boots=20,\n",
    "            max_k=k,\n",
    "            boots_frac=0.8\n",
    "        )\n",
    "        uoi_cur2 = UoI_CUR(\n",
    "            n_boots=20,\n",
    "            max_k=k,\n",
    "            boots_frac=0.8\n",
    "        )\n",
    "        cur = CUR(max_k=k)\n",
    "\n",
    "        # fits\n",
    "        uoi_cur.fit(Y)\n",
    "        uoi_cur2.fit(Y, ks=k)\n",
    "        cur.fit(Y, c=k+20)\n",
    "        \n",
    "        n_columns_uoi[rep, k_idx] = uoi_cur.column_indices_.size\n",
    "        n_columns_uoi2[rep, k_idx] = uoi_cur2.column_indices_.size\n",
    "        n_columns_cur[rep, k_idx] = cur.column_indices_.size"
   ]
  },
  {
   "cell_type": "code",
   "execution_count": 106,
   "metadata": {},
   "outputs": [
    {
     "data": {
      "image/png": "[encoded data removed]",
      "text/plain": [
       "<Figure size 504x288 with 1 Axes>"
      ]
     },
     "metadata": {
      "needs_background": "light"
     },
     "output_type": "display_data"
    }
   ],
   "source": [
    "fig, ax = plt.subplots(1, 1, figsize=(7, 4))\n",
    "ax.plot(n_columns_uoi[0], color='pink', linewidth=2)\n",
    "ax.plot(n_columns_uoi2[0], color='r', linewidth=2)\n",
    "ax.plot(n_columns_cur[0], color='gray', linewidth=2)\n",
    "\n",
    "ax.set_xlim([0, 100])\n",
    "ax.set_ylim([0, 100])\n",
    "ax.set_xlabel(r'$k_{\\text{max}}$', fontsize=20)\n",
    "ax.set_ylabel(r'\\textbf{Number of}' '\\n' r'\\textbf{selected columns}', fontsize=20)\n",
    "\n",
    "plt.tight_layout()\n",
    "plt.savefig('cur2.pdf')"
   ]
  },
  {
   "cell_type": "code",
   "execution_count": 139,
   "metadata": {},
   "outputs": [
    {
     "data": {
      "text/plain": [
       "CUR(algorithm='randomized', max_k=70, n_iter=5, random_state=None, tol=0.0)"
      ]
     },
     "execution_count": 139,
     "metadata": {},
     "output_type": "execute_result"
    }
   ],
   "source": [
    "k = 70\n",
    "\n",
    "uoi_cur = UoI_CUR(\n",
    "    n_boots=5,\n",
    "    max_k=k,\n",
    "    boots_frac=0.9\n",
    ")\n",
    "cur = CUR(max_k=k)\n",
    "\n",
    "# fits\n",
    "uoi_cur.fit(Y, ks=k, cs=k)\n",
    "cur.fit(Y, c=k)"
   ]
  },
  {
   "cell_type": "code",
   "execution_count": 140,
   "metadata": {},
   "outputs": [
    {
     "name": "stdout",
     "output_type": "stream",
     "text": [
      "60\n",
      "69\n"
     ]
    }
   ],
   "source": [
    "print(uoi_cur.column_indices_.size)\n",
    "print(cur.column_indices_.size)"
   ]
  },
  {
   "cell_type": "code",
   "execution_count": 108,
   "metadata": {},
   "outputs": [
    {
     "name": "stdout",
     "output_type": "stream",
     "text": [
      "[  0   3   4   8  11  12  14  15  17  20  21  22  27  28  29  31  32  35\n",
      "  43  44  45  46  50  52  55  57  61  62  64  68  69  76  77  78  80  82\n",
      "  83  84  86  89  90  92  93  97  98  99 103 104 108 112 116 120 122 123\n",
      " 124 125 126 127 132]\n",
      "[  0   2   3   4   6   8  11  12  14  15  17  20  21  22  24  27  28  29\n",
      "  31  32  35  37  44  45  46  49  52  57  61  62  63  66  68  69  71  76\n",
      "  77  78  80  82  83  84  86  93  97  98 101 104 106 110 112 114 117 122\n",
      " 123 125 126 127 132]\n"
     ]
    }
   ],
   "source": [
    "uoi_columns = uoi_cur.column_indices_\n",
    "cur_columns = np.sort(cur.column_indices_[:uoi_columns.size])\n",
    "\n",
    "print(uoi_columns)\n",
    "print(cur_columns)"
   ]
  },
  {
   "cell_type": "code",
   "execution_count": 109,
   "metadata": {},
   "outputs": [
    {
     "name": "stdout",
     "output_type": "stream",
     "text": [
      "UoI x:  0.18327244385273145\n",
      "CUR x:  0.20303930517449187\n",
      "UoI y:  0.26832082224796217\n",
      "CUR y:  0.2262800942831691\n",
      "Total x:  0.3210512872495973\n",
      "Total y:  0.33895954853127874\n",
      "--\n",
      "UoI x:  0.2260931799535444\n",
      "CUR x:  0.24101276772241254\n",
      "UoI y:  0.3120989662711424\n",
      "CUR y:  0.2987573573661846\n",
      "Total x:  0.3449356267040572\n",
      "Total y:  0.39996250412826095\n",
      "--\n",
      "UoI x:  0.18573240217586917\n",
      "CUR x:  0.17670685439102296\n",
      "UoI y:  0.24869277637539855\n",
      "CUR y:  0.23676457942431958\n",
      "Total x:  0.3083422643317357\n",
      "Total y:  0.323195100647806\n",
      "--\n",
      "UoI x:  0.1925079760228705\n",
      "CUR x:  0.19542437572810345\n",
      "UoI y:  0.2589102020022509\n",
      "CUR y:  0.20116957963452353\n",
      "Total x:  0.3028619490221824\n",
      "Total y:  0.2932461827811417\n",
      "--\n",
      "UoI x:  0.15992905413828162\n",
      "CUR x:  0.17971933964749542\n",
      "UoI y:  0.2397942042102473\n",
      "CUR y:  0.18735876898785242\n",
      "Total x:  0.2996198201467437\n",
      "Total y:  0.31662520682488315\n",
      "--\n"
     ]
    }
   ],
   "source": [
    "kf = KFold(n_splits=5, shuffle=True)\n",
    "for fold_idx, (train_idx, test_idx) in enumerate(kf.split(Y)):\n",
    "    Y_train, pos_train_x, pos_train_y = Y[train_idx], cursor_pos[train_idx, 0], cursor_pos[train_idx, 1]\n",
    "    Y_test, pos_test_x, pos_test_y = Y[test_idx], cursor_pos[test_idx, 0], cursor_pos[test_idx, 1]\n",
    "\n",
    "    # decode with uoi columns\n",
    "    ols = LinearRegression()\n",
    "    ols.fit(Y_train[:, uoi_columns], pos_train_x)\n",
    "    print('UoI x: ', ols.score(Y_test[:, uoi_columns], pos_test_x))\n",
    "\n",
    "    # decode with cur columns\n",
    "    ols = LinearRegression()\n",
    "    ols.fit(Y_train[:, cur_columns], pos_train_x)\n",
    "    print('CUR x: ', ols.score(Y_test[:, cur_columns], pos_test_x))\n",
    "\n",
    "    ols = LinearRegression()\n",
    "    ols.fit(Y_train[:, uoi_columns], pos_train_y)\n",
    "    print('UoI y: ', ols.score(Y_test[:, uoi_columns], pos_test_y))\n",
    "\n",
    "    ols = LinearRegression()\n",
    "    ols.fit(Y_train[:, cur_columns], pos_train_y)\n",
    "    print('CUR y: ', ols.score(Y_test[:, cur_columns], pos_test_y))\n",
    "    \n",
    "    ols = LinearRegression()\n",
    "    ols.fit(Y_train, pos_train_x)\n",
    "    print('Total x: ', ols.score(Y_test, pos_test_x))\n",
    "    \n",
    "    ols = LinearRegression()\n",
    "    ols.fit(Y_train, pos_train_y)\n",
    "    print('Total y: ', ols.score(Y_test, pos_test_y))\n",
    "    \n",
    "    print('--')"
   ]
  },
  {
   "cell_type": "code",
   "execution_count": 114,
   "metadata": {},
   "outputs": [],
   "source": [
    "max_ks = np.arange(25, 150, 5)\n",
    "n_max_ks = max_ks.size\n",
    "n_splits = 10\n",
    "uoi_columns_dict = {}\n",
    "cur_columns_dict = {}\n",
    "uoi_decoding = np.zeros(n_max_ks)\n",
    "cur_decoding = np.zeros(n_max_ks)\n",
    "uoi_scores_x = np.zeros((n_max_ks, n_splits))\n",
    "uoi_scores_y = np.zeros(uoi_scores_x.shape)\n",
    "cur_scores_x = np.zeros(uoi_scores_x.shape)\n",
    "cur_scores_y = np.zeros(uoi_scores_x.shape)"
   ]
  },
  {
   "cell_type": "code",
   "execution_count": null,
   "metadata": {},
   "outputs": [],
   "source": [
    "for k_idx, max_k in enumerate(max_ks):\n",
    "    uoi_cur = UoI_CUR(\n",
    "        n_boots=20,\n",
    "        max_k=max_k,\n",
    "        boots_frac=0.8\n",
    "    )\n",
    "    uoi_cur.fit(Y)\n",
    "\n",
    "    uoi_columns = uoi_cur.columns_\n",
    "    uoi_columns_dict[k_idx] = uoi_columns\n",
    "    \n",
    "    n_columns = uoi_columns.size\n",
    "    \n",
    "    cur = CUR(max_k=max_k)\n",
    "    cur.fit(Y, c=n_columns)\n",
    "    cur_columns = np.sort(cur.columns_[:n_columns])\n",
    "    cur_columns_dict[k_idx] = cur_columns\n",
    "    \n",
    "    Y_uoi = Y[:, uoi_columns]\n",
    "    Y_cur = Y[:, cur_columns]\n",
    "    \n",
    "    Y_uoi_err = Y - np.dot(Y_uoi, np.dot(np.linalg.pinv(Y_uoi), Y))\n",
    "    Y_cur_err = Y - np.dot(Y_cur, np.dot(np.linalg.pinv(Y_cur), Y))\n",
    "    uoi_decoding[k_idx] = np.sum(np.abs(Y_uoi_err))/Y.size\n",
    "    cur_decoding[k_idx] = np.sum(np.abs(Y_cur_err))/Y.size\n",
    "\n",
    "    kf = KFold(n_splits=10)\n",
    "    for fold_idx, (train_idx, test_idx) in enumerate(kf.split(Y)):\n",
    "        Y_train, pos_train_x, pos_train_y = Y[train_idx], cursor_pos[train_idx, 0], cursor_pos[train_idx, 1]\n",
    "        Y_test, pos_test_x, pos_test_y = Y[test_idx], cursor_pos[test_idx, 0], cursor_pos[test_idx, 1]\n",
    "\n",
    "        # decode with uoi columns\n",
    "        ols = LinearRegression()\n",
    "        ols.fit(Y_train[:, uoi_columns], pos_train_x)\n",
    "        uoi_scores_x[k_idx, fold_idx] = ols.score(Y_test[:, uoi_columns], pos_test_x)\n",
    "        \n",
    "        ols = LinearRegression()\n",
    "        ols.fit(Y_train[:, uoi_columns], pos_train_y)\n",
    "        uoi_scores_y[k_idx, fold_idx] = ols.score(Y_test[:, uoi_columns], pos_test_y)\n",
    "\n",
    "        # decode with cur columns\n",
    "        ols = LinearRegression()\n",
    "        ols.fit(Y_train[:, cur_columns], pos_train_x)\n",
    "        cur_scores_x[k_idx, fold_idx] = ols.score(Y_test[:, cur_columns], pos_test_x)\n",
    "        \n",
    "        ols = LinearRegression()\n",
    "        ols.fit(Y_train[:, cur_columns], pos_train_y)\n",
    "        cur_scores_y[k_idx, fold_idx] = ols.score(Y_test[:, cur_columns], pos_test_y)"
   ]
  },
  {
   "cell_type": "code",
   "execution_count": null,
   "metadata": {},
   "outputs": [],
   "source": [
    "fig, axes = plt.subplots(2, 1, figsize=(8, 6), sharex=True)\n",
    "\n",
    "axes[0].plot(max_ks, np.median(uoi_scores_x, axis=1), color='r', linewidth=3)\n",
    "axes[0].plot(max_ks, np.median(cur_scores_x, axis=1), color='k', linewidth=3)\n",
    "\n",
    "axes[1].plot(max_ks, np.median(uoi_scores_y, axis=1), color='r', linewidth=3, label=r'\\textbf{UoI}$_{\\textbf{CSS}}$')\n",
    "axes[1].plot(max_ks, np.median(cur_scores_y, axis=1), color='k', linewidth=3, label=r'\\textbf{CSS}')\n",
    "\n",
    "axes[1].set_xlabel(r'$k_{\\text{max}}$', fontsize=25)\n",
    "\n",
    "fig.text(\n",
    "    x=-0.025, y=0.55, s=r'\\textbf{Explained}' '\\n' r'\\textbf{Variance}',\n",
    "    rotation=90,\n",
    "    horizontalalignment='center',\n",
    "    verticalalignment='center',\n",
    "    fontsize=23\n",
    ")\n",
    "axes[0].set_ylabel(r'$x$ position', fontsize=23)\n",
    "axes[1].set_ylabel(r'$y$ position', fontsize=23)\n",
    "\n",
    "axes[1].set_xlim([25, 145])\n",
    "axes[1].set_xticks([25, 50, 75, 100, 125, 145])\n",
    "\n",
    "axes[1].legend(loc=4, prop={'size': 20})\n",
    "\n",
    "axes[0].set_title(r'\\textbf{Hand Position Decoding Accuracy}', fontsize=25)\n",
    "plt.tight_layout()\n",
    "\n",
    "plt.savefig('m1_cur_decoding_position.pdf', bbox_inches='tight')"
   ]
  },
  {
   "cell_type": "code",
   "execution_count": null,
   "metadata": {},
   "outputs": [],
   "source": [
    "fig, axes = plt.subplots(2, 1, figsize=(8, 6), sharex=True)\n",
    "axes[0].plot(max_ks, uoi_decoding, color='r', linewidth=3, label=r'\\textbf{UoI}$_{\\textbf{CSS}}$')\n",
    "axes[0].plot(max_ks, cur_decoding, color='k', linewidth=3, label=r'\\textbf{CSS}')\n",
    "\n",
    "axes[0].set_xlim([25, 145])\n",
    "axes[0].set_xticks([25, 50, 75, 100, 125, 145])\n",
    "\n",
    "axes[0].set_ylabel(r'\\textbf{Error}', fontsize=22)\n",
    "axes[0].set_title(r'\\textbf{Reconstruction Error of Data Matrix}', fontsize=23)\n",
    "axes[0].legend(loc=0, prop={'size': 20})\n",
    "\n",
    "\n",
    "axes[1].plot(\n",
    "    max_ks, [uoi_columns_dict[key].size for key in uoi_columns_dict.keys()],\n",
    "    color='k',\n",
    "    linewidth=3)\n",
    "\n",
    "axes[1].set_xlim([25, 145])\n",
    "axes[1].set_xticks([25, 50, 75, 100, 125, 145])\n",
    "\n",
    "axes[1].set_title(r'\\textbf{Number of Columns Selected}', fontsize=23)\n",
    "axes[1].set_xlabel(r'$k_{\\text{max}}$', fontsize=25)\n",
    "axes[1].set_ylabel(r'\\textbf{Num. Columns}', fontsize=22)\n",
    "                   \n",
    "plt.tight_layout()\n",
    "plt.savefig('m1_cur_error.pdf', bbox_inches='tight')"
   ]
  },
  {
   "cell_type": "code",
   "execution_count": null,
   "metadata": {},
   "outputs": [],
   "source": [
    "results = h5py.File('cur_results.h5', 'w')\n",
    "results['uoi_decoding_x'] = uoi_scores_x\n",
    "results['uoi_decoding_y'] = uoi_scores_y\n",
    "results['cur_decoding_x'] = cur_scores_x\n",
    "results['cur_decoding_y'] = cur_scores_y\n",
    "results['uoi_reconstruction'] = uoi_decoding\n",
    "results['cur_reconstruction'] = cur_decoding\n",
    "results.attrs['file'] = 'indy_20160411_01.mat'\n",
    "results.attrs['bin_size'] = 0.25\n",
    "for idx, column in uoi_columns_dict.items():\n",
    "    results['uoi_columns/' + str(max_ks[idx])] = column\n",
    "    \n",
    "for idx, column in cur_columns_dict.items():\n",
    "    results['cur_columns/' + str(max_ks[idx])] = column\n",
    "results.close()"
   ]
  },
  {
   "cell_type": "code",
   "execution_count": null,
   "metadata": {},
   "outputs": [],
   "source": [
    "results = h5py.File()"
   ]
  }
 ],
 "metadata": {
  "kernelspec": {
   "display_name": "Python 3 (base)",
   "language": "python",
   "name": "base"
  },
  "varInspector": {
   "cols": {
    "lenName": 16,
    "lenType": 16,
    "lenVar": 40
   },
   "kernels_config": {
    "python": {
     "delete_cmd_postfix": "",
     "delete_cmd_prefix": "del ",
     "library": "var_list.py",
     "varRefreshCmd": "print(var_dic_list())"
    },
    "r": {
     "delete_cmd_postfix": ") ",
     "delete_cmd_prefix": "rm(",
     "library": "var_list.r",
     "varRefreshCmd": "cat(var_dic_list()) "
    }
   },
   "types_to_exclude": [
    "module",
    "function",
    "builtin_function_or_method",
    "instance",
    "_Feature"
   ],
   "window_display": false
  }
 },
 "nbformat": 4,
 "nbformat_minor": 2
}
