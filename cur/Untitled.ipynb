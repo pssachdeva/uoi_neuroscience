{
 "cells": [
  {
   "cell_type": "code",
   "execution_count": 1,
   "metadata": {},
   "outputs": [],
   "source": [
    "import matplotlib.pyplot as plt\n",
    "import numpy as np\n",
    "\n",
    "from neuropacks import HC6\n",
    "from pyuoi.decomposition import CUR\n",
    "from scipy.io import loadmat\n",
    "from sklearn.linear_model import LinearRegression\n",
    "\n",
    "%matplotlib inline"
   ]
  },
  {
   "cell_type": "code",
   "execution_count": 2,
   "metadata": {},
   "outputs": [],
   "source": [
    "hc6 = HC6('/Users/psachdeva/data/hc6/Bon')"
   ]
  },
  {
   "cell_type": "code",
   "execution_count": 35,
   "metadata": {},
   "outputs": [],
   "source": [
    "day = 6\n",
    "epoch = 0\n",
    "bin_width = 0.5\n",
    "max_k = 20"
   ]
  },
  {
   "cell_type": "code",
   "execution_count": 36,
   "metadata": {},
   "outputs": [],
   "source": [
    "Y = hc6.get_response_matrix(\n",
    "    day=day,\n",
    "    epoch=epoch,\n",
    "    bin_width=bin_width,\n",
    "    transform=None,\n",
    "    clean=True\n",
    ")"
   ]
  },
  {
   "cell_type": "code",
   "execution_count": 37,
   "metadata": {},
   "outputs": [],
   "source": [
    "x_binned, y_binned = hc6.get_binned_positions(\n",
    "    day=day,\n",
    "    epoch=epoch,\n",
    "    bin_width=bin_width\n",
    ")"
   ]
  },
  {
   "cell_type": "code",
   "execution_count": 38,
   "metadata": {},
   "outputs": [
    {
     "data": {
      "text/plain": [
       "CUR(algorithm='randomized', boots_frac=0.9, max_k=20, n_boots=48, n_iter=5,\n",
       "  random_state=None, tol=0.0)"
      ]
     },
     "execution_count": 38,
     "metadata": {},
     "output_type": "execute_result"
    }
   ],
   "source": [
    "cur = CUR(n_boots=48, max_k=max_k, boots_frac=0.9)\n",
    "cur.fit(Y[:1500])"
   ]
  },
  {
   "cell_type": "code",
   "execution_count": 39,
   "metadata": {},
   "outputs": [
    {
     "name": "stdout",
     "output_type": "stream",
     "text": [
      "[ 0  8 12 14 15 18 21 26 27 33 35 38 43 47 52 56]\n"
     ]
    },
    {
     "data": {
      "text/plain": [
       "16"
      ]
     },
     "execution_count": 39,
     "metadata": {},
     "output_type": "execute_result"
    }
   ],
   "source": [
    "print(cur.columns_)\n",
    "cur.columns_.size"
   ]
  },
  {
   "cell_type": "code",
   "execution_count": 40,
   "metadata": {},
   "outputs": [],
   "source": [
    "_, _, V = np.linalg.svd(Y[:1500])\n",
    "\n",
    "cur_flags = CUR.column_select(V[:max_k].T, max_k + 20)\n",
    "n_cur = np.count_nonzero(cur_flags)"
   ]
  },
  {
   "cell_type": "code",
   "execution_count": 41,
   "metadata": {},
   "outputs": [
    {
     "name": "stdout",
     "output_type": "stream",
     "text": [
      "[ 0  8 12 14 15 17 18 21 24 25 26 27 33 35 38 43 47 49 52 56]\n",
      "20\n"
     ]
    }
   ],
   "source": [
    "print(np.argwhere(cur_flags).ravel())\n",
    "print(np.count_nonzero(cur_flags))"
   ]
  },
  {
   "cell_type": "code",
   "execution_count": 42,
   "metadata": {},
   "outputs": [
    {
     "name": "stdout",
     "output_type": "stream",
     "text": [
      "-20.22076600314309\n",
      "-6.375324393089686\n"
     ]
    }
   ],
   "source": [
    "ols = LinearRegression()\n",
    "ols.fit(Y[:1500][:, cur.columns_], x_binned[:1500])\n",
    "print(ols.score(Y[1500:][:, cur.columns_], x_binned[1500:]))\n",
    "ols.fit(Y[:1500][:, cur.columns_], y_binned[:1500])\n",
    "print(ols.score(Y[1500:][:, cur.columns_], y_binned[1500:]))"
   ]
  },
  {
   "cell_type": "code",
   "execution_count": 43,
   "metadata": {},
   "outputs": [
    {
     "name": "stdout",
     "output_type": "stream",
     "text": [
      "-20.705232523923765\n",
      "-6.2552405872297525\n"
     ]
    }
   ],
   "source": [
    "ols = LinearRegression()\n",
    "ols.fit(Y[:1500][:, cur_flags], x_binned[:1500])\n",
    "print(ols.score(Y[1500:][:, cur_flags], x_binned[1500:]))\n",
    "ols.fit(Y[:1500][:, cur_flags], y_binned[:1500])\n",
    "print(ols.score(Y[1500:][:, cur_flags], y_binned[1500:]))"
   ]
  },
  {
   "cell_type": "code",
   "execution_count": 49,
   "metadata": {},
   "outputs": [
    {
     "name": "stdout",
     "output_type": "stream",
     "text": [
      "1.0\n",
      "-0.005884869505028645\n",
      "-0.006169811142721304\n",
      "-0.010078471199981733\n",
      "-0.011665330560216347\n",
      "-0.003460937137131248\n",
      "-0.01258330682509845\n",
      "-0.03810926412868976\n",
      "1.0\n",
      "-0.009097492521896733\n",
      "-0.012491901707256892\n",
      "-0.000958332748030033\n",
      "1.0\n",
      "-0.015783828466537697\n",
      "1.0\n",
      "1.0\n",
      "0.000427261953735103\n",
      "0.014646873288445938\n",
      "1.0\n",
      "-0.02574117821642985\n",
      "-0.002862953338117924\n",
      "1.0\n",
      "0.0005707453297447707\n",
      "-0.001175710415964648\n",
      "7.269956008759682e-05\n",
      "-0.02718465379020296\n",
      "1.0\n",
      "1.0\n",
      "-0.028703925085315163\n",
      "-0.010846953558965255\n",
      "-0.006002321590959703\n",
      "-0.011886629174175045\n",
      "0.014258177290042195\n",
      "1.0\n",
      "-0.017358490230272583\n",
      "1.0\n",
      "-0.06303666517017681\n",
      "-0.007652321656582695\n",
      "1.0\n",
      "-0.010448125224198801\n",
      "-0.01655165071471809\n",
      "-0.037148205866377904\n",
      "-0.016275059240489886\n",
      "1.0\n",
      "-0.01570728834628099\n",
      "-0.0015121817032339724\n",
      "-0.0034364261168384758\n",
      "1.0\n",
      "0.0008134095920734329\n",
      "-0.011305848976584043\n",
      "-0.019847313034718542\n",
      "-0.009283493208290139\n",
      "1.0\n",
      "-0.006072939631632135\n",
      "-0.016885466312082098\n",
      "-0.025455649363328222\n",
      "1.0\n",
      "-0.014041238834627379\n",
      "0.0004657232508834541\n",
      "-0.04431361487312868\n",
      "-0.004612573578131052\n"
     ]
    }
   ],
   "source": [
    "for neuron in range(Y.shape[1]):\n",
    "    ols = LinearRegression()\n",
    "    ols.fit(Y[:1500][:, cur.columns_], Y[:1500, neuron])\n",
    "    print(ols.score(Y[1500:][:, cur.columns_], Y[1500:, neuron]))"
   ]
  },
  {
   "cell_type": "code",
   "execution_count": 50,
   "metadata": {},
   "outputs": [
    {
     "name": "stdout",
     "output_type": "stream",
     "text": [
      "1.0\n",
      "-0.004663031926419148\n",
      "-0.34874988992758826\n",
      "-0.00727345541784863\n",
      "-0.011835782517987115\n",
      "-0.0031575222414657045\n",
      "-0.012672726152015425\n",
      "-0.04249280694003409\n",
      "1.0\n",
      "-0.009749017334915067\n",
      "-0.012491901707256892\n",
      "-0.0008084925466078641\n",
      "1.0\n",
      "-0.017564274614707776\n",
      "1.0\n",
      "1.0\n",
      "-0.007425728066072335\n",
      "1.0\n",
      "1.0\n",
      "-0.14598632763707986\n",
      "-0.002286132740528579\n",
      "1.0\n",
      "-0.0018708141689143254\n",
      "-0.01208281485181062\n",
      "1.0\n",
      "1.0\n",
      "1.0\n",
      "1.0\n",
      "-0.009741376084670073\n",
      "0.00028526137868034596\n",
      "-0.037917799416404385\n",
      "-0.012777285809268955\n",
      "0.004976789716877317\n",
      "1.0\n",
      "-0.01984045096325282\n",
      "1.0\n",
      "-0.05217158491348517\n",
      "-0.009247078953353416\n",
      "1.0\n",
      "-0.014087022894546884\n",
      "-0.017913082417092774\n",
      "-0.03633960582738749\n",
      "-0.016052650364271948\n",
      "1.0\n",
      "-0.015381596023392508\n",
      "-0.0043276610424940465\n",
      "-0.0034364261168384758\n",
      "1.0\n",
      "0.0015169728383672698\n",
      "1.0\n",
      "-0.03397351840327323\n",
      "-0.010944871843576285\n",
      "1.0\n",
      "-0.007997051758616536\n",
      "-0.018617025300977863\n",
      "-0.006612670615887994\n",
      "1.0\n",
      "-0.014041238834627379\n",
      "0.0011646477262122756\n",
      "-0.041638552982663724\n",
      "-0.002191774645977418\n"
     ]
    }
   ],
   "source": [
    "for neuron in range(Y.shape[1]):\n",
    "    ols = LinearRegression()\n",
    "    ols.fit(Y[:1500][:, cur_flags], Y[:1500, neuron])\n",
    "    print(ols.score(Y[1500:][:, cur_flags], Y[1500:, neuron]))"
   ]
  },
  {
   "cell_type": "code",
   "execution_count": null,
   "metadata": {},
   "outputs": [],
   "source": []
  }
 ],
 "metadata": {
  "kernelspec": {
   "display_name": "Python 3 (base)",
   "language": "python",
   "name": "base"
  },
  "varInspector": {
   "cols": {
    "lenName": 16,
    "lenType": 16,
    "lenVar": 40
   },
   "kernels_config": {
    "python": {
     "delete_cmd_postfix": "",
     "delete_cmd_prefix": "del ",
     "library": "var_list.py",
     "varRefreshCmd": "print(var_dic_list())"
    },
    "r": {
     "delete_cmd_postfix": ") ",
     "delete_cmd_prefix": "rm(",
     "library": "var_list.r",
     "varRefreshCmd": "cat(var_dic_list()) "
    }
   },
   "types_to_exclude": [
    "module",
    "function",
    "builtin_function_or_method",
    "instance",
    "_Feature"
   ],
   "window_display": false
  }
 },
 "nbformat": 4,
 "nbformat_minor": 2
}
