{
 "cells": [
  {
   "cell_type": "code",
   "execution_count": 2,
   "metadata": {},
   "outputs": [],
   "source": [
    "import h5py\n",
    "import matplotlib.pyplot as plt\n",
    "import numpy as np\n",
    "\n",
    "from neuropacks import NHP\n",
    "from utils import apply_kalman_filter, apply_linear_decoder\n",
    "%matplotlib inline"
   ]
  },
  {
   "cell_type": "code",
   "execution_count": 2,
   "metadata": {},
   "outputs": [],
   "source": [
    "monkey = 'indy_20160407_02'"
   ]
  },
  {
   "cell_type": "code",
   "execution_count": 3,
   "metadata": {},
   "outputs": [],
   "source": [
    "results_path = '/home/psachdeva/fits/uoineuro/cur/' + monkey + '.h5'\n",
    "data_path = '/storage/data/nhp/' + monkey + '.mat'"
   ]
  },
  {
   "cell_type": "code",
   "execution_count": 4,
   "metadata": {},
   "outputs": [],
   "source": [
    "results = h5py.File(results_path, 'r')\n",
    "nhp = NHP(data_path=data_path)"
   ]
  },
  {
   "cell_type": "code",
   "execution_count": 8,
   "metadata": {},
   "outputs": [
    {
     "data": {
      "text/plain": [
       "array([0, 1, 2, 3, 4])"
      ]
     },
     "execution_count": 8,
     "metadata": {},
     "output_type": "execute_result"
    }
   ],
   "source": [
    "np.arange(5)[0:]"
   ]
  },
  {
   "cell_type": "code",
   "execution_count": 6,
   "metadata": {},
   "outputs": [],
   "source": [
    "Y = results['data/Y']\n",
    "\n",
    "positions = nhp.get_binned_positions(bin_width=0.25)\n",
    "x = positions[:, 0]\n",
    "y = positions[:, 1]"
   ]
  },
  {
   "cell_type": "code",
   "execution_count": 7,
   "metadata": {},
   "outputs": [],
   "source": [
    "ks = np.arange(30, 136, 2)\n",
    "n_ks = ks.size\n",
    "reps = 20"
   ]
  },
  {
   "cell_type": "code",
   "execution_count": 8,
   "metadata": {},
   "outputs": [
    {
     "data": {
      "text/plain": [
       "array([3.40993062e-01, 3.28030517e-01, 3.16656019e-01, 2.96659524e-01,\n",
       "       2.87554117e-01, 2.71043992e-01, 2.65572438e-01, 2.49435204e-01,\n",
       "       2.33596544e-01, 2.20134511e-01, 2.11381826e-01, 1.92375729e-01,\n",
       "       1.90387822e-01, 1.75592294e-01, 1.65477939e-01, 1.55751495e-01,\n",
       "       1.49500570e-01, 1.41588589e-01, 1.34468137e-01, 1.30184226e-01,\n",
       "       1.24727189e-01, 1.21042062e-01, 1.15142697e-01, 1.07473742e-01,\n",
       "       1.04417933e-01, 9.84065704e-02, 8.97225281e-02, 8.31358205e-02,\n",
       "       7.73225546e-02, 6.91380136e-02, 6.28826785e-02, 6.02628034e-02,\n",
       "       5.80995196e-02, 5.32185718e-02, 4.62710191e-02, 4.13170868e-02,\n",
       "       3.68170770e-02, 3.34660231e-02, 2.90911145e-02, 2.47459372e-02,\n",
       "       2.20465208e-02, 1.83203289e-02, 1.62820679e-02, 1.27669524e-02,\n",
       "       1.12606463e-02, 8.57888702e-03, 5.68557359e-03, 4.15073325e-03,\n",
       "       2.97841232e-03, 2.08157694e-03, 1.59070179e-03, 6.90323452e-04,\n",
       "       3.15368696e-04])"
      ]
     },
     "execution_count": 8,
     "metadata": {},
     "output_type": "execute_result"
    }
   ],
   "source": [
    "np.mean(results['uoi/reconstructions'], axis=0)"
   ]
  },
  {
   "cell_type": "code",
   "execution_count": 9,
   "metadata": {},
   "outputs": [
    {
     "data": {
      "text/plain": [
       "array([3.40993062e-01, 3.28030517e-01, 3.16656019e-01, 2.96659524e-01,\n",
       "       2.87554117e-01, 2.71043992e-01, 2.65572438e-01, 2.49435204e-01,\n",
       "       2.33596544e-01, 2.20134511e-01, 2.11381826e-01, 1.92375729e-01,\n",
       "       1.90387822e-01, 1.75592294e-01, 1.65477939e-01, 1.55751495e-01,\n",
       "       1.49500570e-01, 1.41588589e-01, 1.34468137e-01, 1.30184226e-01,\n",
       "       1.24727189e-01, 1.21042062e-01, 1.15142697e-01, 1.07473742e-01,\n",
       "       1.04417933e-01, 9.84065704e-02, 8.97225281e-02, 8.31358205e-02,\n",
       "       7.73225546e-02, 6.91380136e-02, 6.28826785e-02, 6.02628034e-02,\n",
       "       5.80995196e-02, 5.32185718e-02, 4.62710191e-02, 4.13170868e-02,\n",
       "       3.68170770e-02, 3.34660231e-02, 2.90911145e-02, 2.47459372e-02,\n",
       "       2.20465208e-02, 1.83203289e-02, 1.62820679e-02, 1.27669524e-02,\n",
       "       1.12606463e-02, 8.57888702e-03, 5.68557359e-03, 4.15073325e-03,\n",
       "       2.97841232e-03, 2.08157694e-03, 1.59070179e-03, 6.90323452e-04,\n",
       "       3.15368696e-04])"
      ]
     },
     "execution_count": 9,
     "metadata": {},
     "output_type": "execute_result"
    }
   ],
   "source": [
    "np.mean(results['uoi/reconstructions'], axis=0)"
   ]
  },
  {
   "cell_type": "code",
   "execution_count": 10,
   "metadata": {},
   "outputs": [
    {
     "data": {
      "text/plain": [
       "[<matplotlib.lines.Line2D at 0x7ff575869f90>]"
      ]
     },
     "execution_count": 10,
     "metadata": {},
     "output_type": "execute_result"
    },
    {
     "data": {
      "image/png": "[encoded data removed]",
      "text/plain": [
       "<Figure size 432x288 with 1 Axes>"
      ]
     },
     "metadata": {
      "needs_background": "light"
     },
     "output_type": "display_data"
    }
   ],
   "source": [
    "plt.plot(np.mean(results['uoi/reconstructions'], axis=0), color='r')\n",
    "plt.plot(np.mean(results['css/reconstructions'], axis=0), color='k')"
   ]
  },
  {
   "cell_type": "code",
   "execution_count": 9,
   "metadata": {},
   "outputs": [],
   "source": [
    "uoi_scores = np.zeros((reps, n_ks, 2))\n",
    "css_scores = np.zeros((reps, n_ks, 2))"
   ]
  },
  {
   "cell_type": "code",
   "execution_count": 10,
   "metadata": {},
   "outputs": [],
   "source": [
    "_, _, _, base_corrs = apply_kalman_filter(x, y, Y, score=True, train_frac=0.8)"
   ]
  },
  {
   "cell_type": "code",
   "execution_count": 11,
   "metadata": {},
   "outputs": [
    {
     "name": "stdout",
     "output_type": "stream",
     "text": [
      "Rep  0\n",
      "kidx  0\n",
      "kidx  1\n",
      "kidx  2\n",
      "kidx  3\n",
      "kidx  4\n",
      "kidx  5\n",
      "kidx  6\n",
      "kidx  7\n",
      "kidx  8\n",
      "kidx  9\n",
      "kidx  10\n",
      "kidx  11\n",
      "kidx  12\n",
      "kidx  13\n",
      "kidx  14\n",
      "kidx  15\n",
      "kidx  16\n",
      "kidx  17\n",
      "kidx  18\n",
      "kidx  19\n",
      "kidx  20\n",
      "kidx  21\n",
      "kidx  22\n",
      "kidx  23\n",
      "kidx  24\n",
      "kidx  25\n",
      "kidx  26\n",
      "kidx  27\n",
      "kidx  28\n",
      "kidx  29\n",
      "kidx  30\n",
      "kidx  31\n",
      "kidx  32\n",
      "kidx  33\n",
      "kidx  34\n",
      "kidx  35\n",
      "kidx  36\n",
      "kidx  37\n",
      "kidx  38\n",
      "kidx  39\n",
      "kidx  40\n",
      "kidx  41\n",
      "kidx  42\n",
      "kidx  43\n",
      "kidx  44\n",
      "kidx  45\n",
      "kidx  46\n",
      "kidx  47\n",
      "kidx  48\n",
      "kidx  49\n",
      "kidx  50\n",
      "kidx  51\n",
      "kidx  52\n",
      "Rep  1\n",
      "kidx  0\n",
      "kidx  1\n",
      "kidx  2\n",
      "kidx  3\n",
      "kidx  4\n",
      "kidx  5\n",
      "kidx  6\n",
      "kidx  7\n",
      "kidx  8\n",
      "kidx  9\n",
      "kidx  10\n",
      "kidx  11\n",
      "kidx  12\n",
      "kidx  13\n",
      "kidx  14\n",
      "kidx  15\n",
      "kidx  16\n",
      "kidx  17\n",
      "kidx  18\n",
      "kidx  19\n",
      "kidx  20\n",
      "kidx  21\n",
      "kidx  22\n",
      "kidx  23\n",
      "kidx  24\n",
      "kidx  25\n",
      "kidx  26\n",
      "kidx  27\n",
      "kidx  28\n",
      "kidx  29\n",
      "kidx  30\n",
      "kidx  31\n",
      "kidx  32\n",
      "kidx  33\n",
      "kidx  34\n",
      "kidx  35\n",
      "kidx  36\n",
      "kidx  37\n",
      "kidx  38\n",
      "kidx  39\n",
      "kidx  40\n",
      "kidx  41\n",
      "kidx  42\n",
      "kidx  43\n",
      "kidx  44\n",
      "kidx  45\n",
      "kidx  46\n",
      "kidx  47\n",
      "kidx  48\n",
      "kidx  49\n",
      "kidx  50\n",
      "kidx  51\n",
      "kidx  52\n",
      "Rep  2\n",
      "kidx  0\n",
      "kidx  1\n",
      "kidx  2\n",
      "kidx  3\n",
      "kidx  4\n",
      "kidx  5\n",
      "kidx  6\n",
      "kidx  7\n",
      "kidx  8\n",
      "kidx  9\n",
      "kidx  10\n",
      "kidx  11\n",
      "kidx  12\n",
      "kidx  13\n"
     ]
    },
    {
     "ename": "KeyboardInterrupt",
     "evalue": "",
     "output_type": "error",
     "traceback": [
      "\u001b[0;31m---------------------------------------------------------------------------\u001b[0m",
      "\u001b[0;31mKeyboardInterrupt\u001b[0m                         Traceback (most recent call last)",
      "\u001b[0;32m<ipython-input-11-fb8bff7d5fba>\u001b[0m in \u001b[0;36m<module>\u001b[0;34m\u001b[0m\n\u001b[1;32m      4\u001b[0m         \u001b[0mprint\u001b[0m\u001b[0;34m(\u001b[0m\u001b[0;34m'kidx '\u001b[0m\u001b[0;34m,\u001b[0m \u001b[0mk_idx\u001b[0m\u001b[0;34m)\u001b[0m\u001b[0;34m\u001b[0m\u001b[0;34m\u001b[0m\u001b[0m\n\u001b[1;32m      5\u001b[0m         \u001b[0muoi_c\u001b[0m \u001b[0;34m=\u001b[0m \u001b[0mresults\u001b[0m\u001b[0;34m[\u001b[0m\u001b[0;34m'uoi/columns/%s/%s'\u001b[0m \u001b[0;34m%\u001b[0m\u001b[0;34m(\u001b[0m\u001b[0mrep\u001b[0m\u001b[0;34m,\u001b[0m \u001b[0mk\u001b[0m\u001b[0;34m)\u001b[0m\u001b[0;34m]\u001b[0m\u001b[0;34m[\u001b[0m\u001b[0;34m:\u001b[0m\u001b[0;34m]\u001b[0m\u001b[0;34m\u001b[0m\u001b[0;34m\u001b[0m\u001b[0m\n\u001b[0;32m----> 6\u001b[0;31m         \u001b[0m_\u001b[0m\u001b[0;34m,\u001b[0m \u001b[0m_\u001b[0m\u001b[0;34m,\u001b[0m \u001b[0m_\u001b[0m\u001b[0;34m,\u001b[0m \u001b[0mcorrs\u001b[0m \u001b[0;34m=\u001b[0m \u001b[0mapply_kalman_filter\u001b[0m\u001b[0;34m(\u001b[0m\u001b[0mx\u001b[0m\u001b[0;34m,\u001b[0m \u001b[0my\u001b[0m\u001b[0;34m,\u001b[0m \u001b[0mY\u001b[0m\u001b[0;34m[\u001b[0m\u001b[0;34m:\u001b[0m\u001b[0;34m,\u001b[0m \u001b[0muoi_c\u001b[0m\u001b[0;34m]\u001b[0m\u001b[0;34m,\u001b[0m \u001b[0mscore\u001b[0m\u001b[0;34m=\u001b[0m\u001b[0;32mTrue\u001b[0m\u001b[0;34m,\u001b[0m \u001b[0mtrain_frac\u001b[0m\u001b[0;34m=\u001b[0m\u001b[0;36m0.8\u001b[0m\u001b[0;34m)\u001b[0m\u001b[0;34m\u001b[0m\u001b[0;34m\u001b[0m\u001b[0m\n\u001b[0m\u001b[1;32m      7\u001b[0m         \u001b[0muoi_scores\u001b[0m\u001b[0;34m[\u001b[0m\u001b[0mrep\u001b[0m\u001b[0;34m,\u001b[0m \u001b[0mk_idx\u001b[0m\u001b[0;34m,\u001b[0m \u001b[0;36m0\u001b[0m\u001b[0;34m]\u001b[0m \u001b[0;34m=\u001b[0m \u001b[0mcorrs\u001b[0m\u001b[0;34m[\u001b[0m\u001b[0;36m0\u001b[0m\u001b[0;34m]\u001b[0m\u001b[0;34m\u001b[0m\u001b[0;34m\u001b[0m\u001b[0m\n\u001b[1;32m      8\u001b[0m         \u001b[0muoi_scores\u001b[0m\u001b[0;34m[\u001b[0m\u001b[0mrep\u001b[0m\u001b[0;34m,\u001b[0m \u001b[0mk_idx\u001b[0m\u001b[0;34m,\u001b[0m \u001b[0;36m1\u001b[0m\u001b[0;34m]\u001b[0m \u001b[0;34m=\u001b[0m \u001b[0mcorrs\u001b[0m\u001b[0;34m[\u001b[0m\u001b[0;36m1\u001b[0m\u001b[0;34m]\u001b[0m\u001b[0;34m\u001b[0m\u001b[0;34m\u001b[0m\u001b[0m\n",
      "\u001b[0;32m~/projects/uoi_neuroscience/cur/utils.py\u001b[0m in \u001b[0;36mapply_kalman_filter\u001b[0;34m(x, y, Y, dt, train_frac, score)\u001b[0m\n\u001b[1;32m    202\u001b[0m         observation_offsets=d)\n\u001b[1;32m    203\u001b[0m \u001b[0;34m\u001b[0m\u001b[0m\n\u001b[0;32m--> 204\u001b[0;31m     \u001b[0mX_test_hat\u001b[0m\u001b[0;34m,\u001b[0m \u001b[0m_\u001b[0m \u001b[0;34m=\u001b[0m \u001b[0mkf\u001b[0m\u001b[0;34m.\u001b[0m\u001b[0mfilter\u001b[0m\u001b[0;34m(\u001b[0m\u001b[0mZ_test\u001b[0m\u001b[0;34m)\u001b[0m\u001b[0;34m\u001b[0m\u001b[0;34m\u001b[0m\u001b[0m\n\u001b[0m\u001b[1;32m    205\u001b[0m \u001b[0;34m\u001b[0m\u001b[0m\n\u001b[1;32m    206\u001b[0m     \u001b[0;32mif\u001b[0m \u001b[0mscore\u001b[0m\u001b[0;34m:\u001b[0m\u001b[0;34m\u001b[0m\u001b[0;34m\u001b[0m\u001b[0m\n",
      "\u001b[0;32m~/anaconda3/envs/neuro/lib/python3.7/site-packages/pykalman/standard.py\u001b[0m in \u001b[0;36mfilter\u001b[0;34m(self, X)\u001b[0m\n\u001b[1;32m   1173\u001b[0m                 \u001b[0mtransition_offsets\u001b[0m\u001b[0;34m,\u001b[0m \u001b[0mobservation_offsets\u001b[0m\u001b[0;34m,\u001b[0m\u001b[0;34m\u001b[0m\u001b[0;34m\u001b[0m\u001b[0m\n\u001b[1;32m   1174\u001b[0m                 \u001b[0minitial_state_mean\u001b[0m\u001b[0;34m,\u001b[0m \u001b[0minitial_state_covariance\u001b[0m\u001b[0;34m,\u001b[0m\u001b[0;34m\u001b[0m\u001b[0;34m\u001b[0m\u001b[0m\n\u001b[0;32m-> 1175\u001b[0;31m                 \u001b[0mZ\u001b[0m\u001b[0;34m\u001b[0m\u001b[0;34m\u001b[0m\u001b[0m\n\u001b[0m\u001b[1;32m   1176\u001b[0m             )\n\u001b[1;32m   1177\u001b[0m         )\n",
      "\u001b[0;32m~/anaconda3/envs/neuro/lib/python3.7/site-packages/pykalman/standard.py\u001b[0m in \u001b[0;36m_filter\u001b[0;34m(transition_matrices, observation_matrices, transition_covariance, observation_covariance, transition_offsets, observation_offsets, initial_state_mean, initial_state_covariance, observations)\u001b[0m\n\u001b[1;32m    391\u001b[0m                 \u001b[0mpredicted_state_means\u001b[0m\u001b[0;34m[\u001b[0m\u001b[0mt\u001b[0m\u001b[0;34m]\u001b[0m\u001b[0;34m,\u001b[0m\u001b[0;34m\u001b[0m\u001b[0;34m\u001b[0m\u001b[0m\n\u001b[1;32m    392\u001b[0m                 \u001b[0mpredicted_state_covariances\u001b[0m\u001b[0;34m[\u001b[0m\u001b[0mt\u001b[0m\u001b[0;34m]\u001b[0m\u001b[0;34m,\u001b[0m\u001b[0;34m\u001b[0m\u001b[0;34m\u001b[0m\u001b[0m\n\u001b[0;32m--> 393\u001b[0;31m                 \u001b[0mobservations\u001b[0m\u001b[0;34m[\u001b[0m\u001b[0mt\u001b[0m\u001b[0;34m]\u001b[0m\u001b[0;34m\u001b[0m\u001b[0;34m\u001b[0m\u001b[0m\n\u001b[0m\u001b[1;32m    394\u001b[0m             )\n\u001b[1;32m    395\u001b[0m         )\n",
      "\u001b[0;32m~/anaconda3/envs/neuro/lib/python3.7/site-packages/pykalman/standard.py\u001b[0m in \u001b[0;36m_filter_correct\u001b[0;34m(observation_matrix, observation_covariance, observation_offset, predicted_state_mean, predicted_state_covariance, observation)\u001b[0m\n\u001b[1;32m    271\u001b[0m             np.dot(predicted_state_covariance,\n\u001b[1;32m    272\u001b[0m                    np.dot(observation_matrix.T,\n\u001b[0;32m--> 273\u001b[0;31m                           linalg.pinv(predicted_observation_covariance)))\n\u001b[0m\u001b[1;32m    274\u001b[0m         )\n\u001b[1;32m    275\u001b[0m \u001b[0;34m\u001b[0m\u001b[0m\n",
      "\u001b[0;32m~/anaconda3/envs/neuro/lib/python3.7/site-packages/scipy/linalg/basic.py\u001b[0m in \u001b[0;36mpinv\u001b[0;34m(a, cond, rcond, return_rank, check_finite)\u001b[0m\n\u001b[1;32m   1318\u001b[0m         \u001b[0mcond\u001b[0m \u001b[0;34m=\u001b[0m \u001b[0mrcond\u001b[0m\u001b[0;34m\u001b[0m\u001b[0;34m\u001b[0m\u001b[0m\n\u001b[1;32m   1319\u001b[0m \u001b[0;34m\u001b[0m\u001b[0m\n\u001b[0;32m-> 1320\u001b[0;31m     \u001b[0mx\u001b[0m\u001b[0;34m,\u001b[0m \u001b[0mresids\u001b[0m\u001b[0;34m,\u001b[0m \u001b[0mrank\u001b[0m\u001b[0;34m,\u001b[0m \u001b[0ms\u001b[0m \u001b[0;34m=\u001b[0m \u001b[0mlstsq\u001b[0m\u001b[0;34m(\u001b[0m\u001b[0ma\u001b[0m\u001b[0;34m,\u001b[0m \u001b[0mb\u001b[0m\u001b[0;34m,\u001b[0m \u001b[0mcond\u001b[0m\u001b[0;34m=\u001b[0m\u001b[0mcond\u001b[0m\u001b[0;34m,\u001b[0m \u001b[0mcheck_finite\u001b[0m\u001b[0;34m=\u001b[0m\u001b[0;32mFalse\u001b[0m\u001b[0;34m)\u001b[0m\u001b[0;34m\u001b[0m\u001b[0;34m\u001b[0m\u001b[0m\n\u001b[0m\u001b[1;32m   1321\u001b[0m \u001b[0;34m\u001b[0m\u001b[0m\n\u001b[1;32m   1322\u001b[0m     \u001b[0;32mif\u001b[0m \u001b[0mreturn_rank\u001b[0m\u001b[0;34m:\u001b[0m\u001b[0;34m\u001b[0m\u001b[0;34m\u001b[0m\u001b[0m\n",
      "\u001b[0;32m~/anaconda3/envs/neuro/lib/python3.7/site-packages/scipy/linalg/basic.py\u001b[0m in \u001b[0;36mlstsq\u001b[0;34m(a, b, cond, overwrite_a, overwrite_b, check_finite, lapack_driver)\u001b[0m\n\u001b[1;32m   1232\u001b[0m \u001b[0;34m\u001b[0m\u001b[0m\n\u001b[1;32m   1233\u001b[0m                 x, s, rank, info = lapack_func(a1, b1, lwork,\n\u001b[0;32m-> 1234\u001b[0;31m                                                iwork, cond, False, False)\n\u001b[0m\u001b[1;32m   1235\u001b[0m             \u001b[0;32melse\u001b[0m\u001b[0;34m:\u001b[0m  \u001b[0;31m# complex data\u001b[0m\u001b[0;34m\u001b[0m\u001b[0;34m\u001b[0m\u001b[0m\n\u001b[1;32m   1236\u001b[0m                 lwork, rwork, iwork = _compute_lwork(lapack_lwork, m, n,\n",
      "\u001b[0;31mKeyboardInterrupt\u001b[0m: "
     ]
    }
   ],
   "source": [
    "for rep in range(reps):\n",
    "    print('Rep ', rep)\n",
    "    for k_idx, k in enumerate(ks):\n",
    "        print('kidx ', k_idx)\n",
    "        uoi_c = results['uoi/columns/%s/%s' %(rep, k)][:]\n",
    "        _, _, _, corrs = apply_kalman_filter(x, y, Y[:, uoi_c], score=True, train_frac=0.8)\n",
    "        uoi_scores[rep, k_idx, 0] = corrs[0]\n",
    "        uoi_scores[rep, k_idx, 1] = corrs[1]\n",
    "        \n",
    "        css_c = results['css/columns/%s/%s' %(rep, k)][:]\n",
    "        _, _, _, corrs = apply_kalman_filter(x, y, Y[:, css_c], score=True, train_frac=0.8)\n",
    "        css_scores[rep, k_idx, 0] = corrs[0]\n",
    "        css_scores[rep, k_idx, 1] = corrs[1]"
   ]
  },
  {
   "cell_type": "code",
   "execution_count": 24,
   "metadata": {},
   "outputs": [
    {
     "data": {
      "text/plain": [
       "[<matplotlib.lines.Line2D at 0x7fb968a62710>]"
      ]
     },
     "execution_count": 24,
     "metadata": {},
     "output_type": "execute_result"
    },
    {
     "data": {
      "image/png": "[encoded data removed]",
      "text/plain": [
       "<Figure size 432x288 with 1 Axes>"
      ]
     },
     "metadata": {
      "needs_background": "light"
     },
     "output_type": "display_data"
    }
   ],
   "source": [
    "plt.plot(np.arange(30, 136, 2), np.mean(np.mean(uoi_scores, axis=0), axis=1), color='r')\n",
    "plt.plot(np.arange(30, 136, 2), np.mean(np.mean(css_scores, axis=0), axis=1), color='gray')"
   ]
  },
  {
   "cell_type": "code",
   "execution_count": 28,
   "metadata": {},
   "outputs": [
    {
     "data": {
      "text/plain": [
       "array([0.76222251, 0.71788591, 0.68417092, 0.72842891])"
      ]
     },
     "execution_count": 28,
     "metadata": {},
     "output_type": "execute_result"
    }
   ],
   "source": [
    "base_corrs"
   ]
  },
  {
   "cell_type": "code",
   "execution_count": 23,
   "metadata": {},
   "outputs": [
    {
     "data": {
      "text/plain": [
       "array([ 34,  51,  96,  99, 102, 124])"
      ]
     },
     "execution_count": 23,
     "metadata": {},
     "output_type": "execute_result"
    }
   ],
   "source": [
    "results['css/columns/%s/%s' %(0, 30)][:]"
   ]
  },
  {
   "cell_type": "code",
   "execution_count": null,
   "metadata": {},
   "outputs": [],
   "source": [
    "results['uoi/columns/%s/%s' %(rep, k)][:]"
   ]
  },
  {
   "cell_type": "code",
   "execution_count": 20,
   "metadata": {},
   "outputs": [
    {
     "data": {
      "text/plain": [
       "array([0.11615337, 0.2204698 , 0.23416204, 0.24533073, 0.05779622,\n",
       "       0.16972479, 0.2189941 , 0.25265446, 0.35915334, 0.43767528,\n",
       "       0.20420957, 0.13070878, 0.09673795, 0.24734725, 0.23244773,\n",
       "       0.23309504, 0.20126211, 0.18661181, 0.2253523 , 0.21029744])"
      ]
     },
     "execution_count": 20,
     "metadata": {},
     "output_type": "execute_result"
    }
   ],
   "source": [
    "uoi_scores[:, 0, 0]"
   ]
  },
  {
   "cell_type": "code",
   "execution_count": 21,
   "metadata": {},
   "outputs": [
    {
     "data": {
      "text/plain": [
       "array([0.36851759, 0.49782553, 0.34257434, 0.66436784, 0.46489741,\n",
       "       0.33980718, 0.34488654, 0.333291  , 0.55643612, 0.47355015,\n",
       "       0.39974345, 0.35117034, 0.52562747, 0.39943316, 0.38208398,\n",
       "       0.07504085, 0.16023959, 0.46683587, 0.08905512, 0.40106966])"
      ]
     },
     "execution_count": 21,
     "metadata": {},
     "output_type": "execute_result"
    }
   ],
   "source": [
    "css_scores[:, 0, 0]"
   ]
  },
  {
   "cell_type": "code",
   "execution_count": 16,
   "metadata": {},
   "outputs": [
    {
     "data": {
      "text/plain": [
       "[<matplotlib.lines.Line2D at 0x7fb968a7b310>]"
      ]
     },
     "execution_count": 16,
     "metadata": {},
     "output_type": "execute_result"
    },
    {
     "data": {
      "image/png": "[encoded data removed]",
      "text/plain": [
       "<Figure size 432x288 with 1 Axes>"
      ]
     },
     "metadata": {
      "needs_background": "light"
     },
     "output_type": "display_data"
    }
   ],
   "source": [
    "plt.plot(np.median(uoi_scores, axis=0)[:, 0], color='r')\n",
    "plt.plot(np.median(css_scores, axis=0)[:, 0], color='gray')"
   ]
  },
  {
   "cell_type": "code",
   "execution_count": 12,
   "metadata": {},
   "outputs": [],
   "source": [
    "n_cols = [[results['uoi/columns/' + str(rep) + '/' + str(idx)][:].size for idx in np.arange(30, 136, 2)] for rep in range(20)]"
   ]
  },
  {
   "cell_type": "code",
   "execution_count": 15,
   "metadata": {},
   "outputs": [
    {
     "data": {
      "text/plain": [
       "[[<matplotlib.lines.Line2D at 0x7fc903260d10>],\n",
       " [<matplotlib.lines.Line2D at 0x7fc903260290>],\n",
       " [<matplotlib.lines.Line2D at 0x7fc9031e97d0>],\n",
       " [<matplotlib.lines.Line2D at 0x7fc9031e9cd0>],\n",
       " [<matplotlib.lines.Line2D at 0x7fc90329a2d0>],\n",
       " [<matplotlib.lines.Line2D at 0x7fc9031f4790>],\n",
       " [<matplotlib.lines.Line2D at 0x7fc9031f4850>],\n",
       " [<matplotlib.lines.Line2D at 0x7fc9031f4cd0>],\n",
       " [<matplotlib.lines.Line2D at 0x7fc9031f42d0>],\n",
       " [<matplotlib.lines.Line2D at 0x7fc9031f4d50>],\n",
       " [<matplotlib.lines.Line2D at 0x7fc9031e9d50>],\n",
       " [<matplotlib.lines.Line2D at 0x7fc903207550>],\n",
       " [<matplotlib.lines.Line2D at 0x7fc903207a50>],\n",
       " [<matplotlib.lines.Line2D at 0x7fc903207f50>],\n",
       " [<matplotlib.lines.Line2D at 0x7fc90320e490>],\n",
       " [<matplotlib.lines.Line2D at 0x7fc90320e990>],\n",
       " [<matplotlib.lines.Line2D at 0x7fc90320ee90>],\n",
       " [<matplotlib.lines.Line2D at 0x7fc9031fbc10>],\n",
       " [<matplotlib.lines.Line2D at 0x7fc9032168d0>],\n",
       " [<matplotlib.lines.Line2D at 0x7fc903216dd0>]]"
      ]
     },
     "execution_count": 15,
     "metadata": {},
     "output_type": "execute_result"
    },
    {
     "data": {
      "image/png": "[encoded data removed]",
      "text/plain": [
       "<Figure size 432x288 with 1 Axes>"
      ]
     },
     "metadata": {
      "needs_background": "light"
     },
     "output_type": "display_data"
    }
   ],
   "source": [
    "[plt.plot(np.arange(30, 136, 2), n_cols[idx]) for idx in range(20)]"
   ]
  },
  {
   "cell_type": "code",
   "execution_count": 27,
   "metadata": {},
   "outputs": [
    {
     "data": {
      "text/plain": [
       "[<matplotlib.lines.Line2D at 0x7fc9030eb150>]"
      ]
     },
     "execution_count": 27,
     "metadata": {},
     "output_type": "execute_result"
    },
    {
     "data": {
      "image/png": "[encoded data removed]",
      "text/plain": [
       "<Figure size 432x288 with 1 Axes>"
      ]
     },
     "metadata": {
      "needs_background": "light"
     },
     "output_type": "display_data"
    }
   ],
   "source": [
    "plt.plot(np.ediff1d(np.mean(np.array(n_cols), axis=0)))"
   ]
  },
  {
   "cell_type": "code",
   "execution_count": null,
   "metadata": {},
   "outputs": [],
   "source": []
  }
 ],
 "metadata": {
  "kernelspec": {
   "display_name": "neuro",
   "language": "python",
   "name": "neuro"
  },
  "language_info": {
   "codemirror_mode": {
    "name": "ipython",
    "version": 3
   },
   "file_extension": ".py",
   "mimetype": "text/x-python",
   "name": "python",
   "nbconvert_exporter": "python",
   "pygments_lexer": "ipython3",
   "version": "3.7.4"
  }
 },
 "nbformat": 4,
 "nbformat_minor": 2
}
