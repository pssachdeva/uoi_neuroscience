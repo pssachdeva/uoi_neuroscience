{
 "cells": [
  {
   "cell_type": "code",
   "execution_count": 1,
   "metadata": {},
   "outputs": [],
   "source": [
    "import h5py\n",
    "import matplotlib.pyplot as plt\n",
    "import numpy as np\n",
    "\n",
    "from cur import *\n",
    "from neuropacks import NHP\n",
    "from pyuoi.decomposition import UoI_CUR, CUR\n",
    "\n",
    "%matplotlib inline"
   ]
  },
  {
   "cell_type": "code",
   "execution_count": 2,
   "metadata": {},
   "outputs": [],
   "source": [
    "monkeys = [\n",
    "    'indy_20160407_02',\n",
    "    'indy_20160411_01',\n",
    "    'indy_20160411_02',\n",
    "    'indy_20160418_01',\n",
    "    'indy_20160419_01',\n",
    "    'indy_20160420_01',\n",
    "    'indy_20160426_01',\n",
    "    'indy_20160622_01'\n",
    "]"
   ]
  },
  {
   "cell_type": "code",
   "execution_count": 3,
   "metadata": {},
   "outputs": [],
   "source": [
    "uoi_decoding_x = []\n",
    "uoi_decoding_y = []\n",
    "cur_decoding_x = []\n",
    "cur_decoding_y = []"
   ]
  },
  {
   "cell_type": "code",
   "execution_count": 4,
   "metadata": {},
   "outputs": [
    {
     "name": "stdout",
     "output_type": "stream",
     "text": [
      "indy_20160407_02\n",
      "indy_20160411_01\n",
      "indy_20160411_02\n",
      "indy_20160418_01\n",
      "indy_20160419_01\n",
      "indy_20160420_01\n",
      "indy_20160426_01\n",
      "indy_20160622_01\n"
     ]
    }
   ],
   "source": [
    "for monkey in monkeys:\n",
    "    print(monkey)\n",
    "    data_path = '/Users/psachdeva/data/NHP/' + monkey + '.mat'\n",
    "    cur_results, uoi_results = decoding_comparison_nhp(\n",
    "        data_path=data_path, bin_width=0.25, region='M1'\n",
    "    )\n",
    "    \n",
    "    cur_decoding_x.append(cur_results[1])\n",
    "    cur_decoding_y.append(cur_results[2])\n",
    "    uoi_decoding_x.append(uoi_results[1])\n",
    "    uoi_decoding_y.append(uoi_results[2])"
   ]
  },
  {
   "cell_type": "code",
   "execution_count": 21,
   "metadata": {},
   "outputs": [
    {
     "data": {
      "text/plain": [
       "[<matplotlib.lines.Line2D at 0x1c19a98ef0>]"
      ]
     },
     "execution_count": 21,
     "metadata": {},
     "output_type": "execute_result"
    },
    {
     "data": {
      "image/png": "[encoded data removed]",
      "text/plain": [
       "<Figure size 432x288 with 1 Axes>"
      ]
     },
     "metadata": {
      "needs_background": "light"
     },
     "output_type": "display_data"
    }
   ],
   "source": [
    "plt.plot(np.median(cur_decoding_y[1], axis=1), color='k')\n",
    "plt.plot(np.median(uoi_decoding_y[1], axis=1), color='r')"
   ]
  },
  {
   "cell_type": "code",
   "execution_count": 23,
   "metadata": {},
   "outputs": [],
   "source": [
    "f = h5py.File('/Users/psachdeva/fits/uoineuro/cur/cur.h5', 'a')\n",
    "for idx, monkey in enumerate(monkeys):\n",
    "    group = f.require_group(monkey)\n",
    "    group['decoding_x_uoi'] = uoi_decoding_x[idx]\n",
    "    group['decoding_y_uoi'] = uoi_decoding_y[idx]\n",
    "    group['decoding_x_cur'] = cur_decoding_x[idx]\n",
    "    group['decoding_y_cur'] = cur_decoding_y[idx]\n",
    "    \n",
    "f.close()"
   ]
  },
  {
   "cell_type": "code",
   "execution_count": null,
   "metadata": {},
   "outputs": [],
   "source": []
  }
 ],
 "metadata": {
  "kernelspec": {
   "display_name": "Python 3 (base)",
   "language": "python",
   "name": "base"
  },
  "language_info": {
   "codemirror_mode": {
    "name": "ipython",
    "version": 3
   },
   "file_extension": ".py",
   "mimetype": "text/x-python",
   "name": "python",
   "nbconvert_exporter": "python",
   "pygments_lexer": "ipython3",
   "version": "3.6.8"
  },
  "varInspector": {
   "cols": {
    "lenName": 16,
    "lenType": 16,
    "lenVar": 40
   },
   "kernels_config": {
    "python": {
     "delete_cmd_postfix": "",
     "delete_cmd_prefix": "del ",
     "library": "var_list.py",
     "varRefreshCmd": "print(var_dic_list())"
    },
    "r": {
     "delete_cmd_postfix": ") ",
     "delete_cmd_prefix": "rm(",
     "library": "var_list.r",
     "varRefreshCmd": "cat(var_dic_list()) "
    }
   },
   "types_to_exclude": [
    "module",
    "function",
    "builtin_function_or_method",
    "instance",
    "_Feature"
   ],
   "window_display": false
  }
 },
 "nbformat": 4,
 "nbformat_minor": 2
}
