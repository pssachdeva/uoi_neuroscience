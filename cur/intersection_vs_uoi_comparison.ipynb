{
 "cells": [
  {
   "cell_type": "code",
   "execution_count": 1,
   "metadata": {},
   "outputs": [],
   "source": [
    "import h5py\n",
    "import matplotlib.pyplot as plt\n",
    "import numpy as np\n",
    "\n",
    "from neuropacks import NHP\n",
    "from pyuoi.decomposition import UoI_CUR, CUR\n",
    "from scipy.io import loadmat\n",
    "from sklearn.linear_model import LinearRegression\n",
    "from sklearn.model_selection import KFold\n",
    "from sklearn.decomposition import TruncatedSVD\n",
    "\n",
    "%matplotlib inline"
   ]
  },
  {
   "cell_type": "code",
   "execution_count": 2,
   "metadata": {},
   "outputs": [],
   "source": [
    "paths = [\n",
    "    '/Users/psachdeva/data/NHP/indy_20160407_02.mat',\n",
    "    '/Users/psachdeva/data/NHP/indy_20160411_01.mat',\n",
    "    '/Users/psachdeva/data/NHP/indy_20160411_02.mat',\n",
    "    '/Users/psachdeva/data/NHP/indy_20160418_01.mat',\n",
    "    '/Users/psachdeva/data/NHP/indy_20160419_01.mat'\n",
    "]"
   ]
  },
  {
   "cell_type": "code",
   "execution_count": 3,
   "metadata": {},
   "outputs": [],
   "source": [
    "nhps = []\n",
    "Ys = []\n",
    "for path in paths:\n",
    "    nhp = NHP(data_path=path)\n",
    "    nhps.append(nhp)\n",
    "    Y = nhp.get_response_matrix(\n",
    "        bin_width=0.25, region='M1', transform=None\n",
    "    )\n",
    "    nz_indices = np.argwhere(Y.sum(axis=0) > 0).ravel()\n",
    "    Y = Y[:, nz_indices]\n",
    "    Ys.append(Y)"
   ]
  },
  {
   "cell_type": "code",
   "execution_count": 5,
   "metadata": {},
   "outputs": [
    {
     "name": "stdout",
     "output_type": "stream",
     "text": [
      "0\n",
      "1\n",
      "2\n",
      "3\n",
      "4\n"
     ]
    }
   ],
   "source": [
    "n_columns_uois = []\n",
    "n_columns_uois_alt = []\n",
    "\n",
    "for ii, Y in enumerate(Ys):\n",
    "    print(ii)\n",
    "    ks = np.arange(1, Y.shape[1])\n",
    "    n_ks = ks.size\n",
    "    \n",
    "    n_columns_uoi = np.zeros(n_ks)\n",
    "    n_columns_uoi_alt = np.zeros(n_ks)\n",
    "    \n",
    "    for k_idx, k in enumerate(ks):\n",
    "        uoicur = UoI_CUR(\n",
    "            n_boots=20,\n",
    "            max_k=k,\n",
    "            boots_frac=0.8\n",
    "        )\n",
    "    \n",
    "        uoicur.fit(Y)\n",
    "        n_columns_uoi[k_idx] = uoicur.column_indices_.size\n",
    "        uoicur.fit(Y, ks=int(k))\n",
    "        n_columns_uoi_alt[k_idx] = uoicur.column_indices_.size\n",
    "    \n",
    "    n_columns_uois.append(n_columns_uoi)\n",
    "    n_columns_uois_alt.append(n_columns_uoi_alt)"
   ]
  },
  {
   "cell_type": "code",
   "execution_count": 73,
   "metadata": {},
   "outputs": [
    {
     "data": {
      "image/png": "[encoded data removed]",
      "text/plain": [
       "<Figure size 720x144 with 5 Axes>"
      ]
     },
     "metadata": {
      "needs_background": "light"
     },
     "output_type": "display_data"
    }
   ],
   "source": [
    "fig, axes = plt.subplots(1, 5, figsize=(10, 2))\n",
    "\n",
    "for ii in range(5):\n",
    "    axes[ii].plot(n_columns_uois[ii], color='k', linewidth=3, alpha=1.)\n",
    "    axes[ii].plot(n_columns_uois_alt[ii], color='r', linewidth=3, alpha=1.)\n",
    "    axes[ii].set_xscale('log')\n",
    "    axes[ii].set_yscale('log')\n",
    "    axes[ii].set_xlim(left=1, right=175)\n",
    "    axes[ii].set_ylim(bottom=1, top=175)\n",
    "    axes[ii].set_yticks([])\n",
    "    axes[ii].set_xticks([])\n",
    "    axes[ii].set_aspect('equal')\n",
    "    axes[ii].set_title(r'\\textbf{Monkey %s}' %(ii+1), fontsize=15)\n",
    "    axes[ii].tick_params(labelsize=15)\n",
    "    axes[ii].plot([1, 175], [1, 175], color='gray', linestyle='--')\n",
    "\n",
    "axes[0].set_xticks([1, 10, 100])\n",
    "axes[0].set_yticks([1, 10, 100])\n",
    "\n",
    "axes[0].set_xlabel(r'$k_{\\text{max}}$', fontsize=15)\n",
    "axes[0].set_ylabel(r'\\textbf{Number of}' '\\n' r'\\textbf{Selected Columns}', fontsize=13)\n",
    "plt.savefig('uoi_vs_intersection_comparison.pdf', bbox_inches='tight')"
   ]
  }
 ],
 "metadata": {
  "kernelspec": {
   "display_name": "Python 3 (base)",
   "language": "python",
   "name": "base"
  },
  "language_info": {
   "codemirror_mode": {
    "name": "ipython",
    "version": 3
   },
   "file_extension": ".py",
   "mimetype": "text/x-python",
   "name": "python",
   "nbconvert_exporter": "python",
   "pygments_lexer": "ipython3",
   "version": "3.7.3"
  },
  "varInspector": {
   "cols": {
    "lenName": 16,
    "lenType": 16,
    "lenVar": 40
   },
   "kernels_config": {
    "python": {
     "delete_cmd_postfix": "",
     "delete_cmd_prefix": "del ",
     "library": "var_list.py",
     "varRefreshCmd": "print(var_dic_list())"
    },
    "r": {
     "delete_cmd_postfix": ") ",
     "delete_cmd_prefix": "rm(",
     "library": "var_list.r",
     "varRefreshCmd": "cat(var_dic_list()) "
    }
   },
   "types_to_exclude": [
    "module",
    "function",
    "builtin_function_or_method",
    "instance",
    "_Feature"
   ],
   "window_display": false
  }
 },
 "nbformat": 4,
 "nbformat_minor": 2
}
