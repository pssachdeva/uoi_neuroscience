{
 "cells": [
  {
   "cell_type": "code",
   "execution_count": 1,
   "metadata": {},
   "outputs": [],
   "source": [
    "import h5py\n",
    "import numpy as np\n",
    "\n",
    "from sklearn.linear_model import LassoCV\n",
    "from sklearn.metrics import r2_score\n",
    "\n",
    "from neuropacks import ECOG"
   ]
  },
  {
   "cell_type": "code",
   "execution_count": 2,
   "metadata": {},
   "outputs": [],
   "source": [
    "ecog = ECOG(data_path='/Users/psachdeva/data/ECoG/data/r32_b7.mat')"
   ]
  },
  {
   "cell_type": "code",
   "execution_count": 3,
   "metadata": {},
   "outputs": [],
   "source": [
    "# load design matrix\n",
    "X = ecog.get_design_matrix(\n",
    "    form='abf',\n",
    "    n_gaussians=7\n",
    ")\n",
    "\n",
    "# load responses\n",
    "Y = ecog.get_response_matrix(\n",
    "    bounds=(40, 60),\n",
    "    band='HG',\n",
    "    electrodes=None,\n",
    "    transform=None\n",
    ")"
   ]
  },
  {
   "cell_type": "code",
   "execution_count": 2,
   "metadata": {},
   "outputs": [],
   "source": [
    "# load ecog object\n",
    "ecog = ECOG(data_path='/Users/psachdeva/data/ECoG/data/r32_b7.mat')\n",
    "# load fits\n",
    "fits = h5py.File('fits/ecog/ecog.h5', 'r')"
   ]
  },
  {
   "cell_type": "code",
   "execution_count": 3,
   "metadata": {},
   "outputs": [],
   "source": [
    "# load design matrix\n",
    "X = ecog.get_design_matrix(\n",
    "    form='bf',\n",
    "    n_gaussians=7\n",
    ")"
   ]
  },
  {
   "cell_type": "code",
   "execution_count": 4,
   "metadata": {},
   "outputs": [],
   "source": [
    "# load responses\n",
    "Y = ecog.get_response_matrix(\n",
    "    bounds=(40, 60),\n",
    "    band='HG',\n",
    "    electrodes=None,\n",
    "    transform=None\n",
    ")"
   ]
  },
  {
   "cell_type": "code",
   "execution_count": 4,
   "metadata": {},
   "outputs": [],
   "source": [
    "for i in range(Y.shape[1]):\n",
    "    # fit lasso object\n",
    "    lasso = LassoCV(\n",
    "        normalize=False,\n",
    "        cv=10,\n",
    "        max_iter=100000\n",
    "    )\n",
    "    lasso.fit(X, Y[:, i])"
   ]
  },
  {
   "cell_type": "code",
   "execution_count": 5,
   "metadata": {},
   "outputs": [],
   "source": [
    "# choose an electrode and fold\n",
    "electrode = 12\n",
    "fold = 3"
   ]
  },
  {
   "cell_type": "code",
   "execution_count": 6,
   "metadata": {},
   "outputs": [],
   "source": [
    "# extract training and test sets\n",
    "training_idx = fits['HG_bf_Lasso/training_folds/fold_%g' %fold][:]\n",
    "test_idx = fits['HG_bf_Lasso/test_folds/fold_%g' %fold][:]\n",
    "X_train = X[training_idx, :]\n",
    "y_train = Y[training_idx, :][:, electrode]"
   ]
  },
  {
   "cell_type": "code",
   "execution_count": 7,
   "metadata": {
    "code_folding": []
   },
   "outputs": [],
   "source": [
    "# fit lasso object\n",
    "lasso = LassoCV(\n",
    "    normalize=True,\n",
    "    cv=10,\n",
    "    max_iter=100000\n",
    ")"
   ]
  },
  {
   "cell_type": "code",
   "execution_count": 8,
   "metadata": {},
   "outputs": [
    {
     "data": {
      "text/plain": [
       "LassoCV(alphas=None, copy_X=True, cv=10, eps=0.001, fit_intercept=True,\n",
       "    max_iter=100000, n_alphas=100, n_jobs=None, normalize=True,\n",
       "    positive=False, precompute='auto', random_state=None,\n",
       "    selection='cyclic', tol=0.0001, verbose=False)"
      ]
     },
     "execution_count": 8,
     "metadata": {},
     "output_type": "execute_result"
    }
   ],
   "source": [
    "lasso.fit(X_train, y_train)"
   ]
  },
  {
   "cell_type": "code",
   "execution_count": 9,
   "metadata": {},
   "outputs": [
    {
     "name": "stdout",
     "output_type": "stream",
     "text": [
      "[-0.18590894 -0.          0.          0.          0.          0.90709511\n",
      "  0.81805925]\n",
      "[-0.18590894 -0.          0.          0.          0.          0.90709511\n",
      "  0.81805925]\n"
     ]
    }
   ],
   "source": [
    "# compare tuning coefficients\n",
    "print(lasso.coef_)\n",
    "print(fits['HG_bf_Lasso/tuning_coefs'][fold, electrode, :])"
   ]
  },
  {
   "cell_type": "code",
   "execution_count": 10,
   "metadata": {},
   "outputs": [
    {
     "name": "stdout",
     "output_type": "stream",
     "text": [
      "0.6822950387118683\n",
      "0.6822950387118683\n"
     ]
    }
   ],
   "source": [
    "# compare intercepts\n",
    "print(lasso.intercept_)\n",
    "print(fits['HG_bf_Lasso/intercepts'][fold, electrode])"
   ]
  },
  {
   "cell_type": "code",
   "execution_count": 11,
   "metadata": {},
   "outputs": [
    {
     "name": "stdout",
     "output_type": "stream",
     "text": [
      "0.05234734181109524\n",
      "0.05234734181109524\n"
     ]
    }
   ],
   "source": [
    "# compare test scores\n",
    "X_test = X[test_idx, :]\n",
    "y_test = Y[test_idx, :][:, electrode]\n",
    "\n",
    "print(r2_score(y_test, np.dot(X_test, lasso.coef_) + lasso.intercept_))\n",
    "print(fits['HG_bf_Lasso/r2'][fold, electrode])"
   ]
  }
 ],
 "metadata": {
  "kernelspec": {
   "display_name": "Python [conda env:anaconda3]",
   "language": "python",
   "name": "conda-env-anaconda3-py"
  },
  "language_info": {
   "codemirror_mode": {
    "name": "ipython",
    "version": 3
   },
   "file_extension": ".py",
   "mimetype": "text/x-python",
   "name": "python",
   "nbconvert_exporter": "python",
   "pygments_lexer": "ipython3",
   "version": "3.6.8"
  },
  "varInspector": {
   "cols": {
    "lenName": 16,
    "lenType": 16,
    "lenVar": 40
   },
   "kernels_config": {
    "python": {
     "delete_cmd_postfix": "",
     "delete_cmd_prefix": "del ",
     "library": "var_list.py",
     "varRefreshCmd": "print(var_dic_list())"
    },
    "r": {
     "delete_cmd_postfix": ") ",
     "delete_cmd_prefix": "rm(",
     "library": "var_list.r",
     "varRefreshCmd": "cat(var_dic_list()) "
    }
   },
   "types_to_exclude": [
    "module",
    "function",
    "builtin_function_or_method",
    "instance",
    "_Feature"
   ],
   "window_display": false
  }
 },
 "nbformat": 4,
 "nbformat_minor": 2
}
