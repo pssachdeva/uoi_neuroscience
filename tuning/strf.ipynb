{
 "cells": [
  {
   "cell_type": "code",
   "execution_count": 1,
   "metadata": {},
   "outputs": [],
   "source": [
    "import h5py\n",
    "import matplotlib.pyplot as plt\n",
    "import numpy as np\n",
    "\n",
    "from mars.io.nsenwb import NSENWB\n",
    "from mars.tone import band_response\n",
    "from scipy.signal import spectrogram\n",
    "from scipy.signal import gaussian\n",
    "\n",
    "from sklearn.linear_model import LinearRegression\n",
    "from sklearn.linear_model import RidgeCV\n",
    "\n",
    "%matplotlib inline"
   ]
  },
  {
   "cell_type": "code",
   "execution_count": 2,
   "metadata": {},
   "outputs": [],
   "source": [
    "nwb = NSENWB.from_existing_nwb('R32_B8','/Volumes/NSELab/data/rat/NWB/R32/R32_B8.nwb')"
   ]
  },
  {
   "cell_type": "code",
   "execution_count": 3,
   "metadata": {},
   "outputs": [],
   "source": [
    "raw_stim_dset = nwb.read_mark(name='raw_stimulus')"
   ]
  },
  {
   "cell_type": "code",
   "execution_count": 4,
   "metadata": {},
   "outputs": [],
   "source": [
    "raw_stim = nwb.index_dset(raw_stim_dset, time_range=[10, 70]).flatten()"
   ]
  },
  {
   "cell_type": "code",
   "execution_count": 5,
   "metadata": {},
   "outputs": [],
   "source": [
    "bnd_resp = band_response(nwb,\n",
    "                         proc_name='Wvlt_4to1200_54band_CAR1',\n",
    "                         device_name='ECoG',\n",
    "                         device_channels=1 + np.arange(128),\n",
    "                         time_range=[10, 70],\n",
    "                         frq_range=[70,170]).T"
   ]
  },
  {
   "cell_type": "code",
   "execution_count": 6,
   "metadata": {},
   "outputs": [],
   "source": [
    "fs_sound = 96000\n",
    "fs_ecog = 400\n",
    "strf_window = 0.125\n",
    "n_timepoints_window = int(fs_ecog * strf_window)"
   ]
  },
  {
   "cell_type": "code",
   "execution_count": 7,
   "metadata": {},
   "outputs": [],
   "source": [
    "window_dur = 0.0025\n",
    "fs = 96000\n",
    "\n",
    "# set default for step_dur, if unspecified. This value is optimal for Gaussian windows.\n",
    "step_dur = window_dur / np.sqrt(np.pi) / 8.\n",
    "\n",
    "# convert window & step durations from seconds to numbers of samples (which is what\n",
    "# scipy.signal.spectrogram takes as input).\n",
    "window_nsamp = int(window_dur * fs * 2)\n",
    "step_nsamp = int(step_dur * fs)\n",
    "\n",
    "# make the window. A Gaussian filter needs a minimum of 6σ - 1 samples, so working\n",
    "# backward from window_nsamp we can calculate σ.\n",
    "window_sigma = (window_nsamp + 1) / 6\n",
    "window = gaussian(window_nsamp, window_sigma)\n",
    "\n",
    "# convert step size into number of overlapping samples in adjacent analysis frames\n",
    "noverlap = window_nsamp - step_nsamp"
   ]
  },
  {
   "cell_type": "code",
   "execution_count": 8,
   "metadata": {},
   "outputs": [],
   "source": [
    "freq, times, Sxx = spectrogram(raw_stim, detrend=False, mode='psd', fs=fs,\n",
    "                                      scaling='density', noverlap=noverlap,\n",
    "                                      window=window, nperseg=window_nsamp)"
   ]
  },
  {
   "cell_type": "code",
   "execution_count": 9,
   "metadata": {},
   "outputs": [],
   "source": [
    "Sxx_downsample = Sxx[:200, ::15]"
   ]
  },
  {
   "cell_type": "code",
   "execution_count": 10,
   "metadata": {},
   "outputs": [
    {
     "data": {
      "text/plain": [
       "(200, 23999)"
      ]
     },
     "execution_count": 10,
     "metadata": {},
     "output_type": "execute_result"
    }
   ],
   "source": [
    "Sxx_downsample.shape"
   ]
  },
  {
   "cell_type": "code",
   "execution_count": 11,
   "metadata": {},
   "outputs": [],
   "source": [
    "electrode = 23\n",
    "responses = bnd_resp[electrode, 1:]"
   ]
  },
  {
   "cell_type": "code",
   "execution_count": 12,
   "metadata": {},
   "outputs": [],
   "source": [
    "new_times = times[::15]"
   ]
  },
  {
   "cell_type": "code",
   "execution_count": 13,
   "metadata": {},
   "outputs": [
    {
     "data": {
      "text/plain": [
       "(23999,)"
      ]
     },
     "execution_count": 13,
     "metadata": {},
     "output_type": "execute_result"
    }
   ],
   "source": [
    "new_times.shape"
   ]
  },
  {
   "cell_type": "code",
   "execution_count": 14,
   "metadata": {},
   "outputs": [
    {
     "data": {
      "text/plain": [
       "(200, 50)"
      ]
     },
     "execution_count": 14,
     "metadata": {},
     "output_type": "execute_result"
    }
   ],
   "source": [
    "Sxx_downsample[:, 0:n_timepoints_window].shape"
   ]
  },
  {
   "cell_type": "code",
   "execution_count": 15,
   "metadata": {},
   "outputs": [],
   "source": [
    "n_samples = responses[n_timepoints_window:].size - 1\n",
    "n_features = Sxx_downsample.shape[0] * n_timepoints_window"
   ]
  },
  {
   "cell_type": "code",
   "execution_count": 16,
   "metadata": {},
   "outputs": [],
   "source": [
    "X = np.zeros((n_samples, n_features))\n",
    "y = np.zeros(n_samples)"
   ]
  },
  {
   "cell_type": "code",
   "execution_count": 17,
   "metadata": {},
   "outputs": [],
   "source": [
    "for sample in range(n_samples):\n",
    "    base = sample\n",
    "    end = base + n_timepoints_window\n",
    "    X[sample] = Sxx_downsample[:, base:end].ravel()\n",
    "    y[sample] = responses[n_timepoints_window + sample]"
   ]
  },
  {
   "cell_type": "code",
   "execution_count": 19,
   "metadata": {},
   "outputs": [
    {
     "data": {
      "text/plain": [
       "LinearRegression(copy_X=True, fit_intercept=True, n_jobs=None, normalize=False)"
      ]
     },
     "execution_count": 19,
     "metadata": {},
     "output_type": "execute_result"
    }
   ],
   "source": [
    "ols = LinearRegression()\n",
    "ols.fit(X, y)"
   ]
  },
  {
   "cell_type": "code",
   "execution_count": 46,
   "metadata": {},
   "outputs": [
    {
     "data": {
      "text/plain": [
       "-0.738180025397626"
      ]
     },
     "execution_count": 46,
     "metadata": {},
     "output_type": "execute_result"
    }
   ],
   "source": [
    "ols.intercept_"
   ]
  },
  {
   "cell_type": "code",
   "execution_count": 42,
   "metadata": {},
   "outputs": [
    {
     "data": {
      "text/plain": [
       "<matplotlib.collections.QuadMesh at 0x1c294b1d68>"
      ]
     },
     "execution_count": 42,
     "metadata": {},
     "output_type": "execute_result"
    },
    {
     "data": {
      "image/png": "[encoded data removed]",
      "text/plain": [
       "<Figure size 360x1440 with 1 Axes>"
      ]
     },
     "metadata": {
      "needs_background": "light"
     },
     "output_type": "display_data"
    }
   ],
   "source": [
    "plt.figure(figsize=(5, 20))\n",
    "ruff = ols.coef_.reshape((200, 50))\n",
    "pew = np.log(np.abs(ruff))\n",
    "plt.pcolormesh(np.arange(0, strf_window, 1 / 400), freq[:200], ols.coef_.reshape((200, 50)))"
   ]
  },
  {
   "cell_type": "code",
   "execution_count": 45,
   "metadata": {},
   "outputs": [],
   "source": [
    "ruff = ols.coef_.reshape((200, 50))\n",
    "np.abs(ruff)"
   ]
  },
  {
   "cell_type": "code",
   "execution_count": null,
   "metadata": {},
   "outputs": [],
   "source": []
  }
 ],
 "metadata": {
  "kernelspec": {
   "display_name": "Python 3 (base)",
   "language": "python",
   "name": "base"
  },
  "language_info": {
   "codemirror_mode": {
    "name": "ipython",
    "version": 3
   },
   "file_extension": ".py",
   "mimetype": "text/x-python",
   "name": "python",
   "nbconvert_exporter": "python",
   "pygments_lexer": "ipython3",
   "version": "3.7.3"
  },
  "varInspector": {
   "cols": {
    "lenName": 16,
    "lenType": 16,
    "lenVar": 40
   },
   "kernels_config": {
    "python": {
     "delete_cmd_postfix": "",
     "delete_cmd_prefix": "del ",
     "library": "var_list.py",
     "varRefreshCmd": "print(var_dic_list())"
    },
    "r": {
     "delete_cmd_postfix": ") ",
     "delete_cmd_prefix": "rm(",
     "library": "var_list.r",
     "varRefreshCmd": "cat(var_dic_list()) "
    }
   },
   "types_to_exclude": [
    "module",
    "function",
    "builtin_function_or_method",
    "instance",
    "_Feature"
   ],
   "window_display": false
  }
 },
 "nbformat": 4,
 "nbformat_minor": 2
}
