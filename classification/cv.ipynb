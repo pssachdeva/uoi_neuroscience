{
 "cells": [
  {
   "cell_type": "code",
   "execution_count": 1,
   "metadata": {},
   "outputs": [],
   "source": [
    "import h5py\n",
    "import matplotlib.pyplot as plt\n",
    "import numpy as np\n",
    "from pyuoi.linear_model import UoI_L1Logistic\n",
    "from sklearn.linear_model import LogisticRegressionCV\n",
    "from sklearn.model_selection import StratifiedKFold\n",
    "%matplotlib inline"
   ]
  },
  {
   "cell_type": "code",
   "execution_count": 2,
   "metadata": {},
   "outputs": [],
   "source": [
    "data_path = '/Users/psachdeva/data/cv/EC2_blocks_1_8_9_15_76_89_105_CV_AA_ff_align_window_-0.5_to_0.79_none_AA_avg.h5'"
   ]
  },
  {
   "cell_type": "code",
   "execution_count": 68,
   "metadata": {},
   "outputs": [],
   "source": [
    "f = h5py.File(data_path, 'r')"
   ]
  },
  {
   "cell_type": "code",
   "execution_count": 69,
   "metadata": {},
   "outputs": [],
   "source": [
    "X_con = f['Xhigh gamma'][:, :, 75]\n",
    "X_vow = f['Xhigh gamma'][:, :, 175]\n",
    "cvs = f['y'][:]\n",
    "vowels = cvs % 3\n",
    "consonants = np.floor(cvs / 3)"
   ]
  },
  {
   "cell_type": "code",
   "execution_count": 70,
   "metadata": {},
   "outputs": [],
   "source": [
    "skfold = StratifiedKFold(n_splits=5)\n",
    "logistic = LogisticRegressionCV(\n",
    "    Cs=48, fit_intercept=True, cv=skfold, solver='saga',\n",
    "    penalty='l1', multi_class='multinomial', max_iter=250\n",
    ")"
   ]
  },
  {
   "cell_type": "code",
   "execution_count": 81,
   "metadata": {},
   "outputs": [],
   "source": [
    "uoi = UoI_L1Logistic(n_boots_sel=30,\n",
    "                     n_boots_est=30,\n",
    "                     fit_intercept=True,\n",
    "                     standardize=True,\n",
    "                     selection_frac=0.7,\n",
    "                     estimation_frac=0.8,\n",
    "                     n_C=48,\n",
    "                     multi_class='multinomial',\n",
    "                     shared_support=False)"
   ]
  },
  {
   "cell_type": "markdown",
   "metadata": {},
   "source": [
    "# Vowels"
   ]
  },
  {
   "cell_type": "code",
   "execution_count": 78,
   "metadata": {},
   "outputs": [
    {
     "data": {
      "text/plain": [
       "LogisticRegressionCV(Cs=48, class_weight=None,\n",
       "                     cv=StratifiedKFold(n_splits=5, random_state=None, shuffle=False),\n",
       "                     dual=False, fit_intercept=True, intercept_scaling=1.0,\n",
       "                     l1_ratios=None, max_iter=250, multi_class='multinomial',\n",
       "                     n_jobs=None, penalty='l1', random_state=None, refit=True,\n",
       "                     scoring=None, solver='saga', tol=0.0001, verbose=0)"
      ]
     },
     "execution_count": 78,
     "metadata": {},
     "output_type": "execute_result"
    }
   ],
   "source": [
    "logistic.fit(X_vow[:2000], vowels[:2000])"
   ]
  },
  {
   "cell_type": "code",
   "execution_count": 83,
   "metadata": {},
   "outputs": [
    {
     "name": "stdout",
     "output_type": "stream",
     "text": [
      "0.6615\n",
      "0.5804195804195804\n",
      "0.5465116279069767\n"
     ]
    }
   ],
   "source": [
    "vow_pred = logistic.predict(X_vow[:2000])\n",
    "print(np.count_nonzero(vow_pred == vowels[:2000])/vowels[:2000].size)\n",
    "vow_pred = logistic.predict(X_vow[2000:])\n",
    "print(np.count_nonzero(vow_pred == vowels[2000:])/vowels[2000:].size)\n",
    "print(np.count_nonzero(logistic.coef_)/logistic.coef_.size)"
   ]
  },
  {
   "cell_type": "code",
   "execution_count": 82,
   "metadata": {},
   "outputs": [
    {
     "data": {
      "text/plain": [
       "UoI_L1Logistic(comm=None, estimation_frac=0.8, estimation_score='acc',\n",
       "               fit_intercept=True, max_iter=None, multi_class='multinomial',\n",
       "               n_C=48, n_boots_est=30, n_boots_sel=30,\n",
       "               random_state=<module 'numpy.random' from '/Users/psachdeva/anaconda3/lib/python3.7/site-packages/numpy/random/__init__.py'>,\n",
       "               selection_frac=0.7, shared_support=False,\n",
       "               stability_selection=1.0, standardize=True, tol=0.001,\n",
       "               warm_start=None)"
      ]
     },
     "execution_count": 82,
     "metadata": {},
     "output_type": "execute_result"
    }
   ],
   "source": [
    "uoi.fit(X_vow[:2000], vowels[:2000], stratify=vowels[:2000])"
   ]
  },
  {
   "cell_type": "code",
   "execution_count": 84,
   "metadata": {},
   "outputs": [
    {
     "name": "stdout",
     "output_type": "stream",
     "text": [
      "0.563\n",
      "0.5402097902097902\n",
      "0.1434108527131783\n"
     ]
    }
   ],
   "source": [
    "vow_pred = uoi.predict(X_vow[:2000])\n",
    "print(np.count_nonzero(vow_pred == vowels[:2000])/vowels[:2000].size)\n",
    "vow_pred = uoi.predict(X_vow[2000:])\n",
    "print(np.count_nonzero(vow_pred == vowels[2000:])/vowels[2000:].size)\n",
    "print(np.count_nonzero(uoi.coef_)/uoi.coef_.size)"
   ]
  },
  {
   "cell_type": "markdown",
   "metadata": {},
   "source": [
    "# Consonants"
   ]
  },
  {
   "cell_type": "code",
   "execution_count": 87,
   "metadata": {},
   "outputs": [
    {
     "name": "stderr",
     "output_type": "stream",
     "text": [
      "/Users/psachdeva/anaconda3/lib/python3.7/site-packages/sklearn/linear_model/sag.py:337: ConvergenceWarning: The max_iter was reached which means the coef_ did not converge\n",
      "  \"the coef_ did not converge\", ConvergenceWarning)\n"
     ]
    },
    {
     "data": {
      "text/plain": [
       "LogisticRegressionCV(Cs=48, class_weight=None,\n",
       "                     cv=StratifiedKFold(n_splits=5, random_state=None, shuffle=False),\n",
       "                     dual=False, fit_intercept=True, intercept_scaling=1.0,\n",
       "                     l1_ratios=None, max_iter=250, multi_class='multinomial',\n",
       "                     n_jobs=None, penalty='l1', random_state=None, refit=True,\n",
       "                     scoring=None, solver='saga', tol=0.0001, verbose=0)"
      ]
     },
     "execution_count": 87,
     "metadata": {},
     "output_type": "execute_result"
    }
   ],
   "source": [
    "logistic.fit(X_con[:2000], consonants[:2000])"
   ]
  },
  {
   "cell_type": "code",
   "execution_count": 89,
   "metadata": {},
   "outputs": [
    {
     "name": "stdout",
     "output_type": "stream",
     "text": [
      "0.428\n",
      "0.2534965034965035\n",
      "0.3990208078335373\n"
     ]
    }
   ],
   "source": [
    "con_pred = logistic.predict(X_con[:2000])\n",
    "print(np.count_nonzero(con_pred == consonants[:2000])/consonants[:2000].size)\n",
    "con_pred = logistic.predict(X_con[2000:])\n",
    "print(np.count_nonzero(con_pred == consonants[2000:])/consonants[2000:].size)\n",
    "print(np.count_nonzero(logistic.coef_)/logistic.coef_.size)"
   ]
  },
  {
   "cell_type": "code",
   "execution_count": 92,
   "metadata": {},
   "outputs": [
    {
     "data": {
      "text/plain": [
       "UoI_L1Logistic(comm=None, estimation_frac=0.8, estimation_score='acc',\n",
       "               fit_intercept=True, max_iter=None, multi_class='multinomial',\n",
       "               n_C=48, n_boots_est=30, n_boots_sel=30,\n",
       "               random_state=<module 'numpy.random' from '/Users/psachdeva/anaconda3/lib/python3.7/site-packages/numpy/random/__init__.py'>,\n",
       "               selection_frac=0.7, shared_support=False,\n",
       "               stability_selection=1.0, standardize=True, tol=0.001,\n",
       "               warm_start=None)"
      ]
     },
     "execution_count": 92,
     "metadata": {},
     "output_type": "execute_result"
    }
   ],
   "source": [
    "uoi.fit(X_con[:2000], consonants[:2000], stratify=consonants[:2000])"
   ]
  },
  {
   "cell_type": "code",
   "execution_count": 94,
   "metadata": {},
   "outputs": [
    {
     "name": "stdout",
     "output_type": "stream",
     "text": [
      "0.254\n",
      "0.1520979020979021\n",
      "0.2086903304773562\n"
     ]
    }
   ],
   "source": [
    "con_pred = uoi.predict(X_con[:2000])\n",
    "print(np.count_nonzero(con_pred == consonants[:2000])/consonants[:2000].size)\n",
    "con_pred = uoi.predict(X_con[2000:])\n",
    "print(np.count_nonzero(con_pred == consonants[2000:])/consonants[2000:].size)\n",
    "print(np.count_nonzero(uoi.coef_)/uoi.coef_.size)"
   ]
  },
  {
   "cell_type": "code",
   "execution_count": null,
   "metadata": {},
   "outputs": [],
   "source": []
  }
 ],
 "metadata": {
  "kernelspec": {
   "display_name": "Python 3 (base)",
   "language": "python",
   "name": "base"
  },
  "language_info": {
   "codemirror_mode": {
    "name": "ipython",
    "version": 3
   },
   "file_extension": ".py",
   "mimetype": "text/x-python",
   "name": "python",
   "nbconvert_exporter": "python",
   "pygments_lexer": "ipython3",
   "version": "3.7.3"
  },
  "varInspector": {
   "cols": {
    "lenName": 16,
    "lenType": 16,
    "lenVar": 40
   },
   "kernels_config": {
    "python": {
     "delete_cmd_postfix": "",
     "delete_cmd_prefix": "del ",
     "library": "var_list.py",
     "varRefreshCmd": "print(var_dic_list())"
    },
    "r": {
     "delete_cmd_postfix": ") ",
     "delete_cmd_prefix": "rm(",
     "library": "var_list.r",
     "varRefreshCmd": "cat(var_dic_list()) "
    }
   },
   "types_to_exclude": [
    "module",
    "function",
    "builtin_function_or_method",
    "instance",
    "_Feature"
   ],
   "window_display": false
  }
 },
 "nbformat": 4,
 "nbformat_minor": 2
}
