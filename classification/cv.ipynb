{
 "cells": [
  {
   "cell_type": "code",
   "execution_count": 1,
   "metadata": {},
   "outputs": [],
   "source": [
    "import h5py\n",
    "import matplotlib.pyplot as plt\n",
    "import numpy as np\n",
    "\n",
    "from pyuoi.linear_model import UoI_L1Logistic\n",
    "\n",
    "from sklearn.linear_model import LogisticRegressionCV\n",
    "from sklearn.model_selection import train_test_split\n",
    "\n",
    "%matplotlib inline"
   ]
  },
  {
   "cell_type": "code",
   "execution_count": 2,
   "metadata": {},
   "outputs": [],
   "source": [
    "data_path = '/Users/psachdeva/data/cv/EC2_blocks_1_8_9_15_76_89_105_CV_AA_ff_align_window_-0.5_to_0.79_none_AA_avg.h5'"
   ]
  },
  {
   "cell_type": "code",
   "execution_count": 3,
   "metadata": {},
   "outputs": [],
   "source": [
    "f = h5py.File(data_path, 'r')"
   ]
  },
  {
   "cell_type": "code",
   "execution_count": 4,
   "metadata": {},
   "outputs": [],
   "source": [
    "X_c = f['Xhigh gamma'][:, :, 75]\n",
    "X_v = f['Xhigh gamma'][:, :, 175]\n",
    "cvs = f['y'][:]\n",
    "y_v = cvs % 3\n",
    "y_c = np.floor(cvs / 3)"
   ]
  },
  {
   "cell_type": "code",
   "execution_count": 5,
   "metadata": {},
   "outputs": [],
   "source": [
    "X_v_train, X_v_test, y_v_train, y_v_test = \\\n",
    "    train_test_split(\n",
    "        X_v, y_v, test_size=0.2, shuffle=True, stratify=y_v\n",
    "    )"
   ]
  },
  {
   "cell_type": "code",
   "execution_count": 6,
   "metadata": {},
   "outputs": [],
   "source": [
    "X_c_train, X_c_test, y_c_train, y_c_test = \\\n",
    "    train_test_split(\n",
    "        X_c, y_c, test_size=0.2, shuffle=True, stratify=y_c\n",
    "    )"
   ]
  },
  {
   "cell_type": "markdown",
   "metadata": {},
   "source": [
    "# Vowels"
   ]
  },
  {
   "cell_type": "code",
   "execution_count": 7,
   "metadata": {},
   "outputs": [],
   "source": [
    "logistic_v = LogisticRegressionCV(\n",
    "    Cs=50, fit_intercept=True, cv=5, solver='saga',\n",
    "    penalty='l1', multi_class='multinomial', max_iter=250\n",
    ")"
   ]
  },
  {
   "cell_type": "code",
   "execution_count": 8,
   "metadata": {},
   "outputs": [
    {
     "data": {
      "text/plain": [
       "LogisticRegressionCV(Cs=50, class_weight=None, cv=5, dual=False,\n",
       "                     fit_intercept=True, intercept_scaling=1.0, l1_ratios=None,\n",
       "                     max_iter=250, multi_class='multinomial', n_jobs=None,\n",
       "                     penalty='l1', random_state=None, refit=True, scoring=None,\n",
       "                     solver='saga', tol=0.0001, verbose=0)"
      ]
     },
     "execution_count": 8,
     "metadata": {},
     "output_type": "execute_result"
    }
   ],
   "source": [
    "logistic_v.fit(X_v_train, y_v_train)"
   ]
  },
  {
   "cell_type": "code",
   "execution_count": 9,
   "metadata": {},
   "outputs": [
    {
     "name": "stdout",
     "output_type": "stream",
     "text": [
      "0.66164316966456\n",
      "0.5902912621359223\n",
      "0.5387596899224806\n"
     ]
    }
   ],
   "source": [
    "print(logistic_v.score(X_v_train, y_v_train))\n",
    "print(logistic_v.score(X_v_test, y_v_test))\n",
    "print(np.count_nonzero(logistic_v.coef_) / logistic_v.coef_.size)"
   ]
  },
  {
   "cell_type": "code",
   "execution_count": 10,
   "metadata": {},
   "outputs": [],
   "source": [
    "uoi_v = UoI_L1Logistic(n_boots_sel=30,\n",
    "                       n_boots_est=30,\n",
    "                       fit_intercept=True,\n",
    "                       standardize=False,\n",
    "                       selection_frac=0.8,\n",
    "                       estimation_frac=0.8,\n",
    "                       n_C=50,\n",
    "                       multi_class='multinomial',\n",
    "                       shared_support=False)"
   ]
  },
  {
   "cell_type": "code",
   "execution_count": 16,
   "metadata": {},
   "outputs": [
    {
     "data": {
      "text/plain": [
       "UoI_L1Logistic(comm=None, estimation_frac=0.8, estimation_score='acc',\n",
       "               fit_intercept=True, max_iter=None, multi_class='multinomial',\n",
       "               n_C=50, n_boots_est=30, n_boots_sel=30,\n",
       "               random_state=<module 'numpy.random' from '/Users/psachdeva/anaconda3/lib/python3.6/site-packages/numpy/random/__init__.py'>,\n",
       "               selection_frac=0.8, shared_support=False,\n",
       "               stability_selection=1.0, standardize=True, tol=0.001,\n",
       "               warm_start=None)"
      ]
     },
     "execution_count": 16,
     "metadata": {},
     "output_type": "execute_result"
    }
   ],
   "source": [
    "uoi_v.fit(X_v_train - X_v_train.mean(axis=0, keepdims=True), y_v_train)"
   ]
  },
  {
   "cell_type": "code",
   "execution_count": 17,
   "metadata": {},
   "outputs": [
    {
     "name": "stdout",
     "output_type": "stream",
     "text": [
      "0.6519202722411278\n",
      "0.5786407766990291\n",
      "0.16666666666666666\n"
     ]
    }
   ],
   "source": [
    "print(uoi_v.score(X_v_train - X_v_train.mean(axis=0, keepdims=True), y_v_train))\n",
    "print(uoi_v.score(X_v_test - X_v_train.mean(axis=0), y_v_test))\n",
    "print(np.count_nonzero(uoi_v.coef_) / uoi_v.coef_.size)"
   ]
  },
  {
   "cell_type": "markdown",
   "metadata": {},
   "source": [
    "# Consonants"
   ]
  },
  {
   "cell_type": "code",
   "execution_count": 34,
   "metadata": {},
   "outputs": [],
   "source": [
    "logistic_c = LogisticRegressionCV(\n",
    "    Cs=50, fit_intercept=True, cv=5, solver='saga',\n",
    "    penalty='l1', multi_class='multinomial', max_iter=250\n",
    ")"
   ]
  },
  {
   "cell_type": "code",
   "execution_count": 35,
   "metadata": {},
   "outputs": [
    {
     "data": {
      "text/plain": [
       "LogisticRegressionCV(Cs=50, class_weight=None, cv=5, dual=False,\n",
       "                     fit_intercept=True, intercept_scaling=1.0, l1_ratios=None,\n",
       "                     max_iter=250, multi_class='multinomial', n_jobs=None,\n",
       "                     penalty='l1', random_state=None, refit=True, scoring=None,\n",
       "                     solver='saga', tol=0.0001, verbose=0)"
      ]
     },
     "execution_count": 35,
     "metadata": {},
     "output_type": "execute_result"
    }
   ],
   "source": [
    "logistic_c.fit(X_c_train - X_c_train.mean(axis=0, keepdims=True), y_c_train)"
   ]
  },
  {
   "cell_type": "code",
   "execution_count": 36,
   "metadata": {},
   "outputs": [
    {
     "name": "stdout",
     "output_type": "stream",
     "text": [
      "0.47690811861934856\n",
      "0.24271844660194175\n",
      "0.6738066095471236\n"
     ]
    }
   ],
   "source": [
    "print(logistic_c.score(X_c_train - X_c_train.mean(axis=0, keepdims=True), y_c_train))\n",
    "print(logistic_c.score(X_c_test - X_c_train.mean(axis=0), y_c_test))\n",
    "print(np.count_nonzero(logistic_c.coef_) / logistic_c.coef_.size)"
   ]
  },
  {
   "cell_type": "code",
   "execution_count": 31,
   "metadata": {},
   "outputs": [],
   "source": [
    "uoi_c = UoI_L1Logistic(n_boots_sel=30,\n",
    "                       n_boots_est=30,\n",
    "                       fit_intercept=True,\n",
    "                       standardize=False,\n",
    "                       selection_frac=0.8,\n",
    "                       estimation_frac=0.8,\n",
    "                       estimation_score='acc',\n",
    "                       n_C=50,\n",
    "                       multi_class='multinomial',\n",
    "                       shared_support=False)"
   ]
  },
  {
   "cell_type": "code",
   "execution_count": 32,
   "metadata": {},
   "outputs": [
    {
     "data": {
      "text/plain": [
       "UoI_L1Logistic(comm=None, estimation_frac=0.8, estimation_score='acc',\n",
       "               fit_intercept=True, max_iter=None, multi_class='multinomial',\n",
       "               n_C=50, n_boots_est=30, n_boots_sel=30,\n",
       "               random_state=<module 'numpy.random' from '/Users/psachdeva/anaconda3/lib/python3.6/site-packages/numpy/random/__init__.py'>,\n",
       "               selection_frac=0.8, shared_support=False,\n",
       "               stability_selection=1.0, standardize=False, tol=0.001,\n",
       "               warm_start=None)"
      ]
     },
     "execution_count": 32,
     "metadata": {},
     "output_type": "execute_result"
    }
   ],
   "source": [
    "uoi_c.fit(X_c_train - X_c_train.mean(axis=0, keepdims=True), y_c_train)"
   ]
  },
  {
   "cell_type": "code",
   "execution_count": 37,
   "metadata": {},
   "outputs": [
    {
     "name": "stdout",
     "output_type": "stream",
     "text": [
      "0.43412736995624696\n",
      "0.2504854368932039\n",
      "0.310281517747858\n"
     ]
    }
   ],
   "source": [
    "print(uoi_c.score(X_c_train - X_c_train.mean(axis=0, keepdims=True), y_c_train))\n",
    "print(uoi_c.score(X_c_test - X_c_train.mean(axis=0), y_c_test))\n",
    "print(np.count_nonzero(uoi_c.coef_) / uoi_c.coef_.size)"
   ]
  },
  {
   "cell_type": "code",
   "execution_count": 24,
   "metadata": {},
   "outputs": [
    {
     "data": {
      "text/plain": [
       "0.3859223300970874"
      ]
     },
     "execution_count": 24,
     "metadata": {},
     "output_type": "execute_result"
    }
   ],
   "source": [
    "np.max(uoi_c.scores_)"
   ]
  },
  {
   "cell_type": "code",
   "execution_count": 43,
   "metadata": {},
   "outputs": [
    {
     "data": {
      "text/plain": [
       "<matplotlib.collections.PathCollection at 0x1a16c1a1d0>"
      ]
     },
     "execution_count": 43,
     "metadata": {},
     "output_type": "execute_result"
    },
    {
     "data": {
      "image/png": "[encoded data removed]",
      "text/plain": [
       "<Figure size 432x288 with 1 Axes>"
      ]
     },
     "metadata": {
      "needs_background": "light"
     },
     "output_type": "display_data"
    }
   ],
   "source": [
    "plt.scatter(\n",
    "    logistic_c.intercept_ - logistic_c.intercept_[0],\n",
    "    uoi_c.intercept_ - uoi_c.intercept_[0]\n",
    ")"
   ]
  },
  {
   "cell_type": "code",
   "execution_count": 47,
   "metadata": {},
   "outputs": [
    {
     "data": {
      "text/plain": [
       "[<matplotlib.lines.Line2D at 0x1a17b91b00>]"
      ]
     },
     "execution_count": 47,
     "metadata": {},
     "output_type": "execute_result"
    },
    {
     "data": {
      "image/png": "[encoded data removed]",
      "text/plain": [
       "<Figure size 432x288 with 1 Axes>"
      ]
     },
     "metadata": {
      "needs_background": "light"
     },
     "output_type": "display_data"
    }
   ],
   "source": [
    "plt.scatter(\n",
    "    logistic_c.coef_.ravel(),\n",
    "    uoi_c.coef_.ravel()\n",
    ")\n",
    "plt.plot([-2, 2], [-2, 2], color='k')"
   ]
  },
  {
   "cell_type": "code",
   "execution_count": 49,
   "metadata": {},
   "outputs": [
    {
     "data": {
      "text/plain": [
       "array([-3.27079905e-01, -2.29015793e-01,  4.31209481e-01,  1.07556467e-01,\n",
       "        0.00000000e+00,  1.47665135e-01,  0.00000000e+00,  0.00000000e+00,\n",
       "        2.17385972e-01, -3.18716619e-01, -5.68633200e-02,  0.00000000e+00,\n",
       "        0.00000000e+00, -2.34466119e-01,  1.58117888e-02, -3.10449732e-01,\n",
       "        1.94135060e-03,  3.63378967e-01,  4.14447825e-01,  0.00000000e+00,\n",
       "        0.00000000e+00, -5.04298946e-01,  0.00000000e+00, -1.70680317e-01,\n",
       "       -7.56664510e-01,  1.56633553e+00, -4.66745833e-01,  4.53948352e-01,\n",
       "        2.70305223e-01,  0.00000000e+00,  2.22161769e-01, -3.07518375e-01,\n",
       "        3.05624621e-01, -6.93956768e-01, -1.04651812e-01, -3.73405731e-02,\n",
       "       -7.50860114e-02, -1.29762270e-01,  1.41646272e+00,  5.65809986e-01,\n",
       "       -2.91569794e-01,  1.65609657e-01,  0.00000000e+00,  0.00000000e+00,\n",
       "        0.00000000e+00,  0.00000000e+00, -1.59164062e-02,  0.00000000e+00,\n",
       "       -7.01758318e-03,  1.47096953e-01,  7.37011562e-02, -2.38923106e-02,\n",
       "       -3.63377901e-02,  3.34023828e-01, -6.73634241e-02,  5.04043961e-02,\n",
       "        0.00000000e+00,  0.00000000e+00,  0.00000000e+00,  0.00000000e+00,\n",
       "       -3.22667880e-01,  7.48527848e-02,  3.50042994e-02,  2.33662779e-01,\n",
       "       -8.74518856e-02,  0.00000000e+00, -4.68910858e-01,  8.62937841e-02,\n",
       "       -4.54194490e-02,  0.00000000e+00, -1.02977823e-01, -4.86109478e-01,\n",
       "        0.00000000e+00,  6.31503922e-02,  2.66797453e-01,  1.94651911e-01,\n",
       "        2.48184083e-01,  6.41521638e-01, -4.05014799e-01,  0.00000000e+00,\n",
       "        0.00000000e+00, -3.06133772e-01, -1.08204002e-01,  1.06029047e-03,\n",
       "        0.00000000e+00,  1.49396890e-01])"
      ]
     },
     "execution_count": 49,
     "metadata": {},
     "output_type": "execute_result"
    }
   ],
   "source": [
    "logistic_c.coef_[0]"
   ]
  },
  {
   "cell_type": "code",
   "execution_count": null,
   "metadata": {},
   "outputs": [],
   "source": []
  }
 ],
 "metadata": {
  "kernelspec": {
   "display_name": "Python 3 (base)",
   "language": "python",
   "name": "base"
  },
  "language_info": {
   "codemirror_mode": {
    "name": "ipython",
    "version": 3
   },
   "file_extension": ".py",
   "mimetype": "text/x-python",
   "name": "python",
   "nbconvert_exporter": "python",
   "pygments_lexer": "ipython3",
   "version": "3.6.8"
  },
  "varInspector": {
   "cols": {
    "lenName": 16,
    "lenType": 16,
    "lenVar": 40
   },
   "kernels_config": {
    "python": {
     "delete_cmd_postfix": "",
     "delete_cmd_prefix": "del ",
     "library": "var_list.py",
     "varRefreshCmd": "print(var_dic_list())"
    },
    "r": {
     "delete_cmd_postfix": ") ",
     "delete_cmd_prefix": "rm(",
     "library": "var_list.r",
     "varRefreshCmd": "cat(var_dic_list()) "
    }
   },
   "types_to_exclude": [
    "module",
    "function",
    "builtin_function_or_method",
    "instance",
    "_Feature"
   ],
   "window_display": false
  }
 },
 "nbformat": 4,
 "nbformat_minor": 2
}
