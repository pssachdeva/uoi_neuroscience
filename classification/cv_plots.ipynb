{
 "cells": [
  {
   "cell_type": "code",
   "execution_count": 1,
   "metadata": {},
   "outputs": [],
   "source": [
    "import h5py\n",
    "import matplotlib.pyplot as plt\n",
    "import numpy as np\n",
    "\n",
    "%matplotlib inline"
   ]
  },
  {
   "cell_type": "code",
   "execution_count": 2,
   "metadata": {},
   "outputs": [],
   "source": [
    "results_path = '/Volumes/pss/fits/uoineuro/classification/cv_multinomial.h5'"
   ]
  },
  {
   "cell_type": "code",
   "execution_count": 3,
   "metadata": {},
   "outputs": [],
   "source": [
    "results = h5py.File(results_path, 'r')"
   ]
  },
  {
   "cell_type": "code",
   "execution_count": 10,
   "metadata": {},
   "outputs": [],
   "source": [
    "uoi_c_srs = results['c_unshared_support/uoi/srs'][:]\n",
    "uoi_v_srs = results['v_unshared_support/uoi/srs'][:]\n",
    "log_c_srs = results['c_unshared_support/logistic/srs'][:]\n",
    "log_v_srs = results['v_unshared_support/logistic/srs'][:]"
   ]
  },
  {
   "cell_type": "code",
   "execution_count": 38,
   "metadata": {},
   "outputs": [],
   "source": [
    "uoi_c_acc = results['c_unshared_support/uoi/scores'][:]\n",
    "uoi_v_acc = results['v_unshared_support/uoi/scores'][:]\n",
    "log_c_acc = results['c_unshared_support/logistic/scores'][:]\n",
    "log_v_acc = results['v_unshared_support/logistic/scores'][:]"
   ]
  },
  {
   "cell_type": "code",
   "execution_count": 71,
   "metadata": {},
   "outputs": [
    {
     "data": {
      "image/png": "[encoded data removed]",
      "text/plain": [
       "<Figure size 864x360 with 2 Axes>"
      ]
     },
     "metadata": {
      "needs_background": "light"
     },
     "output_type": "display_data"
    }
   ],
   "source": [
    "fig, axes = plt.subplots(1, 2, figsize=(12, 5))\n",
    "\n",
    "# selection ratio plot\n",
    "axes[0].bar(\n",
    "    x=[0, 1, 2, 3],\n",
    "    height=[np.mean(log_c_srs), np.mean(uoi_c_srs), np.mean(log_v_srs), np.mean(uoi_v_srs)],\n",
    "    width=0.8,\n",
    "    color=['gray', 'red', 'gray', 'red'],\n",
    "    yerr=[np.std(log_c_srs), np.std(uoi_c_srs), np.std(log_v_srs), np.std(uoi_v_srs)],\n",
    "    error_kw={'capsize': 5, 'elinewidth': 2, 'capthick': 2}\n",
    ")\n",
    "\n",
    "# accuracy plot\n",
    "axes[1].bar(\n",
    "    x=[0, 1, 2, 3],\n",
    "    height=[np.mean(log_c_acc), np.mean(uoi_c_acc), np.mean(log_v_acc), np.mean(uoi_v_acc)],\n",
    "    width=0.8,\n",
    "    color=['gray', 'red', 'gray', 'red'],\n",
    "    yerr=[np.std(log_c_acc), np.std(uoi_c_acc), np.std(log_v_acc), np.std(uoi_v_acc)],\n",
    "    error_kw={'capsize': 5, 'elinewidth': 2, 'capthick': 2}\n",
    ")\n",
    "\n",
    "# chance\n",
    "axes[1].axhline(y=1./19, xmin=0, xmax=0.5, linestyle='--', color='k')\n",
    "axes[1].axhline(y=1./3, xmin=0.5, xmax=1, linestyle='--', color='k')\n",
    "\n",
    "# plot labels\n",
    "axes[0].set_ylabel(r'\\textbf{Selection Ratio}', fontsize=25)\n",
    "axes[1].set_ylabel(r'\\textbf{Accuracy}', fontsize=25)\n",
    "\n",
    "# cosmetic + legend\n",
    "for ax in axes:\n",
    "    # limits\n",
    "    ax.set_ylim([0, 1])\n",
    "    \n",
    "    # ticks\n",
    "    ax.set_xticks([0.5, 2.5])\n",
    "    ax.set_xticklabels([r'\\textbf{Consonant}', r'\\textbf{Vowel}'], fontsize=18)\n",
    "    ax.set_yticks([0, 0.25, 0.50, 0.75, 1.])\n",
    "    \n",
    "    # legend labels\n",
    "    ax.plot([], color='gray', label=r'\\textbf{L1-Logistic}')\n",
    "    ax.plot([], color='r', label=r'\\textbf{UoI}$_{\\textbf{Logistic}}$')\n",
    "    ax.legend(loc=2, prop={'size': 18})\n",
    "\n",
    "    # gridlines\n",
    "    ax.grid('on', axis='y')\n",
    "    ax.set_axisbelow(True)\n",
    "\n",
    "plt.tight_layout()"
   ]
  },
  {
   "cell_type": "code",
   "execution_count": null,
   "metadata": {},
   "outputs": [],
   "source": [
    "results.close()"
   ]
  }
 ],
 "metadata": {
  "kernelspec": {
   "display_name": "Python 3 (base)",
   "language": "python",
   "name": "base"
  },
  "language_info": {
   "codemirror_mode": {
    "name": "ipython",
    "version": 3
   },
   "file_extension": ".py",
   "mimetype": "text/x-python",
   "name": "python",
   "nbconvert_exporter": "python",
   "pygments_lexer": "ipython3",
   "version": "3.6.8"
  },
  "varInspector": {
   "cols": {
    "lenName": 16,
    "lenType": 16,
    "lenVar": 40
   },
   "kernels_config": {
    "python": {
     "delete_cmd_postfix": "",
     "delete_cmd_prefix": "del ",
     "library": "var_list.py",
     "varRefreshCmd": "print(var_dic_list())"
    },
    "r": {
     "delete_cmd_postfix": ") ",
     "delete_cmd_prefix": "rm(",
     "library": "var_list.r",
     "varRefreshCmd": "cat(var_dic_list()) "
    }
   },
   "types_to_exclude": [
    "module",
    "function",
    "builtin_function_or_method",
    "instance",
    "_Feature"
   ],
   "window_display": false
  }
 },
 "nbformat": 4,
 "nbformat_minor": 2
}
