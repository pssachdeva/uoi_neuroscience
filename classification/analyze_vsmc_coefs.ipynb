{
 "cells": [
  {
   "cell_type": "code",
   "execution_count": 1,
   "metadata": {},
   "outputs": [],
   "source": [
    "import h5py\n",
    "import matplotlib.pyplot as plt\n",
    "import numpy as np\n",
    "import os\n",
    "\n",
    "from scipy.stats import iqr\n",
    "from scipy.stats import wilcoxon\n",
    "\n",
    "%matplotlib inline"
   ]
  },
  {
   "cell_type": "code",
   "execution_count": 2,
   "metadata": {},
   "outputs": [],
   "source": [
    "results_path = os.path.join(os.environ['HOME'], 'fits/uoineuro/classification/consonant_vowel_vsmc.h5')"
   ]
  },
  {
   "cell_type": "code",
   "execution_count": 3,
   "metadata": {},
   "outputs": [],
   "source": [
    "results = h5py.File(results_path, 'r')"
   ]
  },
  {
   "cell_type": "code",
   "execution_count": 4,
   "metadata": {},
   "outputs": [],
   "source": [
    "consonant = results['c_unshared_log_test']\n",
    "vowel = results['v_unshared_log_test']"
   ]
  },
  {
   "cell_type": "code",
   "execution_count": 5,
   "metadata": {},
   "outputs": [],
   "source": [
    "uoi_c_coefs = np.median(consonant['uoi/coefs'], axis=0)\n",
    "uoi_v_coefs = np.median(vowel['uoi/coefs'], axis=0)\n",
    "log_c_coefs = np.median(consonant['logistic/coefs'], axis=0)\n",
    "log_v_coefs = np.median(vowel['logistic/coefs'], axis=0)"
   ]
  },
  {
   "cell_type": "code",
   "execution_count": 6,
   "metadata": {},
   "outputs": [],
   "source": [
    "n_total_electrodes = 256\n",
    "grid_size = int(np.sqrt(n_total_electrodes))\n",
    "included_electrode_idx = [\n",
    "    56, 61, 62, 63, 71, 72, 73, 74, 75, 76,\n",
    "    77, 78, 79, 87, 88, 89, 90, 91, 92, 93,\n",
    "    94, 95, 102, 103, 104, 105, 106, 107, 108,\n",
    "    109, 110, 111, 117, 118, 119, 120, 121, 122,\n",
    "    124, 125, 126, 133, 134, 135, 136, 137, 138,\n",
    "    139, 140, 141, 142, 143, 149, 150, 151, 152,\n",
    "    153, 154, 155, 156, 157, 158, 159, 164, 165,\n",
    "    166, 167, 168, 169, 170, 171, 172, 173, 174,\n",
    "    175, 181, 182, 183, 184, 185, 186, 187, 188,\n",
    "    200, 201, 202\n",
    "]\n",
    "unincluded_electrode_idx = np.setdiff1d(np.arange(n_total_electrodes), included_electrode_idx)"
   ]
  },
  {
   "cell_type": "code",
   "execution_count": 7,
   "metadata": {},
   "outputs": [],
   "source": [
    "included_mask = np.zeros(n_total_electrodes)\n",
    "included_mask[included_electrode_idx] = 1\n",
    "included_mask = included_mask.reshape((grid_size, grid_size))\n",
    "\n",
    "unincluded_mask = np.zeros(n_total_electrodes)\n",
    "unincluded_mask[unincluded_electrode_idx] = 1\n",
    "unincluded_mask = unincluded_mask.reshape((grid_size, grid_size))"
   ]
  },
  {
   "cell_type": "code",
   "execution_count": 8,
   "metadata": {},
   "outputs": [],
   "source": [
    "uoi_grid_b = -20 * np.ones(n_total_electrodes)\n",
    "b_coefs = np.copy(uoi_c_coefs[0])\n",
    "b_coefs[b_coefs < 0] = 0\n",
    "uoi_grid_b[included_electrode_idx] = b_coefs\n",
    "uoi_grid_b = uoi_grid_b.reshape((grid_size, grid_size))"
   ]
  },
  {
   "cell_type": "code",
   "execution_count": 9,
   "metadata": {},
   "outputs": [],
   "source": [
    "log_grid_b = -20 * np.ones(n_total_electrodes)\n",
    "b_coefs = np.copy(log_c_coefs[0])\n",
    "b_coefs[b_coefs < 0] = 0\n",
    "log_grid_b[included_electrode_idx] = b_coefs\n",
    "log_grid_b = log_grid_b.reshape((grid_size, grid_size))"
   ]
  },
  {
   "cell_type": "code",
   "execution_count": 10,
   "metadata": {},
   "outputs": [],
   "source": [
    "uoi_grid_d = -20 * np.ones(n_total_electrodes)\n",
    "d_coefs = np.copy(uoi_c_coefs[1])\n",
    "d_coefs[d_coefs < 0] = 0\n",
    "uoi_grid_d[included_electrode_idx] = d_coefs\n",
    "uoi_grid_d = uoi_grid_d.reshape((grid_size, grid_size))"
   ]
  },
  {
   "cell_type": "code",
   "execution_count": 11,
   "metadata": {},
   "outputs": [],
   "source": [
    "log_grid_d = -20 * np.ones(n_total_electrodes)\n",
    "d_coefs = np.copy(log_c_coefs[1])\n",
    "d_coefs[d_coefs < 0] = 0\n",
    "log_grid_d[included_electrode_idx] = d_coefs\n",
    "log_grid_d = log_grid_d.reshape((grid_size, grid_size))"
   ]
  },
  {
   "cell_type": "code",
   "execution_count": 12,
   "metadata": {},
   "outputs": [],
   "source": [
    "uoi_grid_f = -20 * np.ones(n_total_electrodes)\n",
    "f_coefs = np.copy(uoi_c_coefs[2])\n",
    "f_coefs[f_coefs < 0] = 0\n",
    "uoi_grid_f[included_electrode_idx] = f_coefs\n",
    "uoi_grid_f = uoi_grid_f.reshape((grid_size, grid_size))"
   ]
  },
  {
   "cell_type": "code",
   "execution_count": 13,
   "metadata": {},
   "outputs": [],
   "source": [
    "log_grid_f = -20 * np.ones(n_total_electrodes)\n",
    "f_coefs = np.copy(log_c_coefs[2])\n",
    "f_coefs[f_coefs < 0] = 0\n",
    "log_grid_f[included_electrode_idx] = f_coefs\n",
    "log_grid_f = log_grid_f.reshape((grid_size, grid_size))"
   ]
  },
  {
   "cell_type": "code",
   "execution_count": 14,
   "metadata": {},
   "outputs": [
    {
     "data": {
      "image/png": "[encoded data removed]",
      "text/plain": [
       "<Figure size 1080x360 with 3 Axes>"
      ]
     },
     "metadata": {},
     "output_type": "display_data"
    }
   ],
   "source": [
    "fig, axes = plt.subplots(1, 3, figsize=(15, 5))\n",
    "\n",
    "axes[0].imshow(np.flip(uoi_grid_b.T, axis=(0, 1)),\n",
    "          vmin=-uoi_grid_b.max(), vmax=uoi_grid_b.max(),\n",
    "          cmap=plt.get_cmap('RdGy'))\n",
    "\n",
    "axes[1].imshow(np.flip(uoi_grid_d.T, axis=(0, 1)),\n",
    "          vmin=-uoi_grid_d.max(), vmax=uoi_grid_d.max(),\n",
    "          cmap=plt.get_cmap('RdGy'))\n",
    "\n",
    "axes[2].imshow(np.flip(uoi_grid_f.T, axis=(0, 1)),\n",
    "          vmin=-uoi_grid_f.max(), vmax=uoi_grid_f.max(),\n",
    "          cmap=plt.get_cmap('RdGy'))\n",
    "\n",
    "for ax in axes:\n",
    "    ax.set_xticks([])\n",
    "    ax.set_yticks([])"
   ]
  },
  {
   "cell_type": "code",
   "execution_count": 15,
   "metadata": {},
   "outputs": [
    {
     "data": {
      "image/png": "[encoded data removed]",
      "text/plain": [
       "<Figure size 1080x360 with 3 Axes>"
      ]
     },
     "metadata": {},
     "output_type": "display_data"
    }
   ],
   "source": [
    "fig, axes = plt.subplots(1, 3, figsize=(15, 5))\n",
    "\n",
    "axes[0].imshow(np.flip(log_grid_b.T, axis=(0, 1)),\n",
    "          vmin=-log_grid_b.max(), vmax=log_grid_b.max(),\n",
    "          cmap=plt.get_cmap('RdGy'))\n",
    "\n",
    "axes[1].imshow(np.flip(log_grid_d.T, axis=(0, 1)),\n",
    "          vmin=-log_grid_d.max(), vmax=log_grid_d.max(),\n",
    "          cmap=plt.get_cmap('RdGy'))\n",
    "\n",
    "axes[2].imshow(np.flip(log_grid_f.T, axis=(0, 1)),\n",
    "          vmin=-log_grid_f.max(), vmax=log_grid_f.max(),\n",
    "          cmap=plt.get_cmap('RdGy'))\n",
    "\n",
    "for ax in axes:\n",
    "    ax.set_xticks([])\n",
    "    ax.set_yticks([])"
   ]
  },
  {
   "cell_type": "code",
   "execution_count": null,
   "metadata": {},
   "outputs": [],
   "source": []
  }
 ],
 "metadata": {
  "kernelspec": {
   "display_name": "neuro",
   "language": "python",
   "name": "neuro"
  },
  "language_info": {
   "codemirror_mode": {
    "name": "ipython",
    "version": 3
   },
   "file_extension": ".py",
   "mimetype": "text/x-python",
   "name": "python",
   "nbconvert_exporter": "python",
   "pygments_lexer": "ipython3",
   "version": "3.7.4"
  }
 },
 "nbformat": 4,
 "nbformat_minor": 2
}
