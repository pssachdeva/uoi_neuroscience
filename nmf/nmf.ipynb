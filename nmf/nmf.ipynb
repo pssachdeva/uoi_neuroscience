{
 "cells": [
  {
   "cell_type": "code",
   "execution_count": 87,
   "metadata": {},
   "outputs": [],
   "source": [
    "import h5py\n",
    "import matplotlib.pyplot as plt\n",
    "import numpy as np\n",
    "\n",
    "from neuropacks import ECOG\n",
    "from pyuoi.decomposition import NMF as uNMF\n",
    "from sklearn.cluster import DBSCAN\n",
    "from sklearn.decomposition import NMF\n",
    "\n",
    "%matplotlib inline"
   ]
  },
  {
   "cell_type": "code",
   "execution_count": 2,
   "metadata": {},
   "outputs": [],
   "source": [
    "data_path = '/Users/psachdeva/data/ECoG/data/r32_b7.mat'\n",
    "grid_path = '/Users/psachdeva/data/ECoG/data/grdid.mat'\n",
    "ecog = ECOG(\n",
    "    data_path=data_path,\n",
    "    grid_path=grid_path\n",
    ")"
   ]
  },
  {
   "cell_type": "code",
   "execution_count": 89,
   "metadata": {},
   "outputs": [],
   "source": [
    "Y = ecog.get_response_matrix(\n",
    "    bounds=(40, 60),\n",
    "    band='HG'\n",
    ")"
   ]
  },
  {
   "cell_type": "code",
   "execution_count": 90,
   "metadata": {},
   "outputs": [],
   "source": [
    "# kill the dead indices\n",
    "dead_indices = [19, 21, 0]\n",
    "Y[:, dead_indices] = 0"
   ]
  },
  {
   "cell_type": "code",
   "execution_count": 91,
   "metadata": {},
   "outputs": [],
   "source": [
    "# Y = Y + np.abs(np.min(Y, axis=0, keepdims=True))\n",
    "Y[Y < 0] = 0"
   ]
  },
  {
   "cell_type": "code",
   "execution_count": 92,
   "metadata": {},
   "outputs": [
    {
     "data": {
      "text/plain": [
       "NMF(cons_meth=<function median at 0x109db4d90>,\n",
       "  dbscan=DBSCAN(algorithm='auto', eps=0.5, leaf_size=30, metric='euclidean',\n",
       "    metric_params=None, min_samples=10, n_jobs=None, p=None),\n",
       "  n_boots=20,\n",
       "  nmf=NMF(alpha=0.0, beta_loss='kullback-leibler', init='random', l1_ratio=0.0,\n",
       "  max_iter=1000, n_components=20, random_state=None, shuffle=False,\n",
       "  solver='mu', tol=0.0001, verbose=0),\n",
       "  nnreg=<function NMF.__initialize.<locals>.<lambda> at 0x1c1b70f048>,\n",
       "  random_state=None, ranks=(20,))"
      ]
     },
     "execution_count": 92,
     "metadata": {},
     "output_type": "execute_result"
    }
   ],
   "source": [
    "uoi = uNMF(\n",
    "    n_boots=20,\n",
    "    ranks=[20],\n",
    "    dbscan=DBSCAN(min_samples=10),\n",
    "    nmf=NMF(beta_loss='kullback-leibler', solver='mu', max_iter=1000, init='random'),\n",
    "    cons_meth=np.median\n",
    ")\n",
    "uoi.fit(Y)"
   ]
  },
  {
   "cell_type": "code",
   "execution_count": 93,
   "metadata": {},
   "outputs": [
    {
     "data": {
      "text/plain": [
       "NMF(alpha=0.0, beta_loss='kullback-leibler', init='random', l1_ratio=0.0,\n",
       "  max_iter=1000, n_components=15, random_state=None, shuffle=False,\n",
       "  solver='mu', tol=0.0001, verbose=0)"
      ]
     },
     "execution_count": 93,
     "metadata": {},
     "output_type": "execute_result"
    }
   ],
   "source": [
    "nmf = NMF(\n",
    "    n_components=uoi.components_.shape[0],\n",
    "    beta_loss='kullback-leibler',\n",
    "    solver='mu',\n",
    "    max_iter=1000,\n",
    "    init='random'\n",
    ")\n",
    "nmf.fit(Y)"
   ]
  },
  {
   "cell_type": "code",
   "execution_count": 101,
   "metadata": {},
   "outputs": [],
   "source": [
    "fits = h5py.File('ecog_nmf', 'a')\n",
    "fits['uoi_zeroed'] = uoi.components_\n",
    "fits['nmf_zeroed'] = nmf.components_\n",
    "fits.close()"
   ]
  },
  {
   "cell_type": "code",
   "execution_count": null,
   "metadata": {},
   "outputs": [],
   "source": []
  }
 ],
 "metadata": {
  "kernelspec": {
   "display_name": "Python 3 (base)",
   "language": "python",
   "name": "base"
  },
  "language_info": {
   "codemirror_mode": {
    "name": "ipython",
    "version": 3
   },
   "file_extension": ".py",
   "mimetype": "text/x-python",
   "name": "python",
   "nbconvert_exporter": "python",
   "pygments_lexer": "ipython3",
   "version": "3.6.8"
  },
  "varInspector": {
   "cols": {
    "lenName": 16,
    "lenType": 16,
    "lenVar": 40
   },
   "kernels_config": {
    "python": {
     "delete_cmd_postfix": "",
     "delete_cmd_prefix": "del ",
     "library": "var_list.py",
     "varRefreshCmd": "print(var_dic_list())"
    },
    "r": {
     "delete_cmd_postfix": ") ",
     "delete_cmd_prefix": "rm(",
     "library": "var_list.r",
     "varRefreshCmd": "cat(var_dic_list()) "
    }
   },
   "types_to_exclude": [
    "module",
    "function",
    "builtin_function_or_method",
    "instance",
    "_Feature"
   ],
   "window_display": false
  }
 },
 "nbformat": 4,
 "nbformat_minor": 2
}
