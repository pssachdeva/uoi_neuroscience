{
 "cells": [
  {
   "cell_type": "code",
   "execution_count": 16,
   "metadata": {},
   "outputs": [],
   "source": [
    "import h5py\n",
    "import matplotlib.pyplot as plt\n",
    "import numpy as np\n",
    "import os\n",
    "import umap\n",
    "\n",
    "from neuropacks import ECOG\n",
    "from pyuoi.decomposition import UoI_NMF\n",
    "from sklearn.decomposition import NMF\n",
    "from sklearn.cluster import DBSCAN\n",
    "\n",
    "from utils import *\n",
    "%matplotlib inline"
   ]
  },
  {
   "cell_type": "code",
   "execution_count": 2,
   "metadata": {},
   "outputs": [],
   "source": [
    "data_path = '/storage/data/ecog/r32_b7.mat'\n",
    "grid_path = '/storage/data/ecog/grdid.mat'"
   ]
  },
  {
   "cell_type": "code",
   "execution_count": 3,
   "metadata": {},
   "outputs": [],
   "source": [
    "data_path = os.path.join(os.environ['HOME'], 'data/ecog/r32_b7.mat')\n",
    "grid_path = os.path.join(os.environ['HOME'], 'data/ecog/grdid.mat')"
   ]
  },
  {
   "cell_type": "code",
   "execution_count": 4,
   "metadata": {},
   "outputs": [],
   "source": [
    "ecog = ECOG(\n",
    "    data_path=data_path,\n",
    "    grid_path=grid_path\n",
    ")"
   ]
  },
  {
   "cell_type": "code",
   "execution_count": 5,
   "metadata": {},
   "outputs": [],
   "source": [
    "Y = ecog.get_response_matrix(\n",
    "    bounds=(40, 60),\n",
    "    band='HG'\n",
    ")"
   ]
  },
  {
   "cell_type": "code",
   "execution_count": 6,
   "metadata": {},
   "outputs": [],
   "source": [
    "# kill the dead indices\n",
    "dead_indices = [19, 21, 0]"
   ]
  },
  {
   "cell_type": "code",
   "execution_count": 7,
   "metadata": {},
   "outputs": [],
   "source": [
    "Y = Y + np.abs(np.min(Y, axis=0, keepdims=True))\n",
    "Y[:, dead_indices] = 0\n",
    "# Y[Y < 0] = 0"
   ]
  },
  {
   "cell_type": "markdown",
   "metadata": {},
   "source": [
    "# Multiple Ranks"
   ]
  },
  {
   "cell_type": "code",
   "execution_count": 8,
   "metadata": {},
   "outputs": [],
   "source": [
    "uoi = UoI_NMF(\n",
    "    n_boots=30,\n",
    "    ranks=[8, 9, 10, 11, 12, 13, 14, 15, 16, 17, 18, 19, 20],\n",
    "    nmf_max_iter=1000)"
   ]
  },
  {
   "cell_type": "code",
   "execution_count": 13,
   "metadata": {},
   "outputs": [
    {
     "data": {
      "text/plain": [
       "NMF(alpha=3.0, beta_loss='kullback-leibler', init='random', l1_ratio=0.0,\n",
       "    max_iter=1000, n_components=None, random_state=None, shuffle=False,\n",
       "    solver='mu', tol=0.0001, verbose=0)"
      ]
     },
     "execution_count": 13,
     "metadata": {},
     "output_type": "execute_result"
    }
   ],
   "source": [
    "uoi.nmf.set_params(alpha=3.0)"
   ]
  },
  {
   "cell_type": "code",
   "execution_count": 9,
   "metadata": {},
   "outputs": [
    {
     "data": {
      "text/plain": [
       "UoI_NMF(cluster=DBSCAN(algorithm='auto', eps=0.5, leaf_size=30,\n",
       "                       metric='euclidean', metric_params=None, min_samples=15.0,\n",
       "                       n_jobs=None, p=None),\n",
       "        cons_meth=<function mean at 0x1129915f0>, db_algorithm=None,\n",
       "        db_eps=None, db_leaf_size=None, db_metric=None, db_metric_params=None,\n",
       "        db_min_samples=None, logger=None, n_boots=30,\n",
       "        nmf=NMF(alpha=0.0, beta_loss='kullback-leibler', i...,\n",
       "                l1_ratio=0.0, max_iter=1000, n_components=20, random_state=None,\n",
       "                shuffle=False, solver='mu', tol=0.0001, verbose=0),\n",
       "        nmf_beta_loss=None, nmf_init=None, nmf_max_iter=None, nmf_solver=None,\n",
       "        nmf_tol=None,\n",
       "        nnreg=<function UoI_NMF_Base.__initialize.<locals>.<lambda> at 0x1c2be5f9e0>,\n",
       "        random_state=None,\n",
       "        ranks=(8, 9, 10, 11, 12, 13, 14, 15, 16, 17, 18, 19, 20),\n",
       "        use_dissimilarity=True)"
      ]
     },
     "execution_count": 9,
     "metadata": {},
     "output_type": "execute_result"
    }
   ],
   "source": [
    "uoi.fit(Y)"
   ]
  },
  {
   "cell_type": "code",
   "execution_count": 11,
   "metadata": {},
   "outputs": [
    {
     "data": {
      "text/plain": [
       "[<matplotlib.lines.Line2D at 0x11d1a20d0>]"
      ]
     },
     "execution_count": 11,
     "metadata": {},
     "output_type": "execute_result"
    },
    {
     "data": {
      "image/png": "[encoded data removed]",
      "text/plain": [
       "<Figure size 432x288 with 1 Axes>"
      ]
     },
     "metadata": {
      "needs_background": "light"
     },
     "output_type": "display_data"
    }
   ],
   "source": [
    "plt.plot([8, 9, 10, 11, 12, 13, 14, 15, 16, 17, 18, 19, 20], uoi.dissimilarity_)"
   ]
  },
  {
   "cell_type": "code",
   "execution_count": 12,
   "metadata": {},
   "outputs": [
    {
     "data": {
      "text/plain": [
       "(5, 128)"
      ]
     },
     "execution_count": 12,
     "metadata": {},
     "output_type": "execute_result"
    }
   ],
   "source": [
    "uoi.components_.shape"
   ]
  },
  {
   "cell_type": "code",
   "execution_count": 13,
   "metadata": {},
   "outputs": [],
   "source": [
    "reducer = umap.UMAP()\n",
    "embedding = reducer.fit_transform(uoi.bases_samples_)\n",
    "clusters = uoi.bases_samples_labels_"
   ]
  },
  {
   "cell_type": "code",
   "execution_count": 19,
   "metadata": {},
   "outputs": [
    {
     "data": {
      "text/plain": [
       "DBSCAN(algorithm='auto', eps=0.5, leaf_size=30, metric='euclidean',\n",
       "       metric_params=None, min_samples=15.0, n_jobs=None, p=None)"
      ]
     },
     "execution_count": 19,
     "metadata": {},
     "output_type": "execute_result"
    }
   ],
   "source": [
    "uoi.cluster.fit(uoi.bases_samples_)"
   ]
  },
  {
   "cell_type": "code",
   "execution_count": 91,
   "metadata": {},
   "outputs": [
    {
     "data": {
      "text/plain": [
       "DBSCAN(algorithm='auto', eps=0.45, leaf_size=60, metric='euclidean',\n",
       "       metric_params=None, min_samples=15, n_jobs=None, p=None)"
      ]
     },
     "execution_count": 91,
     "metadata": {},
     "output_type": "execute_result"
    }
   ],
   "source": [
    "cluster = DBSCAN(eps=0.45, min_samples=15, leaf_size=60)\n",
    "cluster.fit(uoi.bases_samples_)"
   ]
  },
  {
   "cell_type": "code",
   "execution_count": 92,
   "metadata": {},
   "outputs": [
    {
     "data": {
      "text/plain": [
       "array([ 2,  0,  1,  2,  3,  4,  5,  6,  3,  5,  6,  2,  0,  0,  4,  1,  4,\n",
       "        2,  1,  3,  1,  5,  0,  6,  0,  2,  0,  4,  3,  1,  5,  6,  2,  0,\n",
       "        5,  4,  6,  0,  1,  3,  1,  0,  1,  2,  5,  6,  4,  0,  6,  5,  1,\n",
       "        0,  3,  4,  2,  0,  2,  0,  0,  1,  1,  4,  3,  5,  6,  1,  3,  2,\n",
       "        4,  0,  5,  0, -1,  0,  6,  2,  3,  4,  1,  5,  3,  1,  2,  4,  0,\n",
       "        6,  5,  0,  1,  5,  1,  2,  2,  0,  4,  3,  4,  4,  2,  5,  2,  1,\n",
       "        0,  3,  3,  0,  1,  2,  5,  3,  4,  0,  0,  2,  4,  3,  5,  6,  1,\n",
       "        0,  3,  6,  2,  0,  4,  2,  1,  5,  1,  0,  2,  4,  5,  3,  0,  2,\n",
       "        1,  6,  2,  4,  0,  0,  5,  3,  1,  0,  0,  3,  6,  2,  5,  4,  0,\n",
       "        4,  5,  6,  3,  0,  2,  1,  4,  5,  6,  3,  2,  0,  1,  0,  1,  0,\n",
       "        4,  2,  2,  3,  5,  0,  6,  3,  0,  6,  1,  5,  2,  4,  0,  3,  1,\n",
       "        2,  4,  5,  0, -1,  1,  2,  0, -1,  0,  5,  3,  4,  2,  4,  6,  3,\n",
       "        2,  5,  0,  1,  0,  4,  1,  5,  3,  2,  6,  0,  6,  3,  5,  1,  2,\n",
       "       -1,  4,  0,  3,  5,  1,  1,  0,  4,  2,  0,  0,  5,  0,  2,  1,  3,\n",
       "       -1,  4])"
      ]
     },
     "execution_count": 92,
     "metadata": {},
     "output_type": "execute_result"
    }
   ],
   "source": [
    "cluster.labels_"
   ]
  },
  {
   "cell_type": "code",
   "execution_count": 93,
   "metadata": {},
   "outputs": [],
   "source": [
    "colors = ['r', 'g', 'b', 'c', 'orange', 'purple', 'pink']"
   ]
  },
  {
   "cell_type": "code",
   "execution_count": 94,
   "metadata": {},
   "outputs": [
    {
     "data": {
      "image/png": "[encoded data removed]",
      "text/plain": [
       "<Figure size 432x288 with 1 Axes>"
      ]
     },
     "metadata": {
      "needs_background": "light"
     },
     "output_type": "display_data"
    }
   ],
   "source": [
    "for idx, bases_samples in enumerate(uoi.bases_samples_):\n",
    "    label = cluster.labels_[idx]\n",
    "    if label == -1:\n",
    "        plt.scatter(embedding[idx, 0], embedding[idx, 1], color='k', marker='x')\n",
    "    else:\n",
    "        plt.scatter(embedding[idx, 0], embedding[idx, 1], color=colors[label], marker='o')"
   ]
  },
  {
   "cell_type": "code",
   "execution_count": 14,
   "metadata": {},
   "outputs": [
    {
     "data": {
      "text/plain": [
       "<matplotlib.collections.PathCollection at 0x1c2d216890>"
      ]
     },
     "execution_count": 14,
     "metadata": {},
     "output_type": "execute_result"
    },
    {
     "data": {
      "image/png": "[encoded data removed]",
      "text/plain": [
       "<Figure size 432x288 with 1 Axes>"
      ]
     },
     "metadata": {
      "needs_background": "light"
     },
     "output_type": "display_data"
    }
   ],
   "source": [
    "plt.scatter(embedding[:, 0], embedding[:, 1])"
   ]
  },
  {
   "cell_type": "code",
   "execution_count": 26,
   "metadata": {},
   "outputs": [
    {
     "data": {
      "text/plain": [
       "(<Figure size 1080x432 with 6 Axes>,\n",
       " array([[<matplotlib.axes._subplots.AxesSubplot object at 0x1c264d0690>,\n",
       "         <matplotlib.axes._subplots.AxesSubplot object at 0x1c266a7290>,\n",
       "         <matplotlib.axes._subplots.AxesSubplot object at 0x1c26486410>],\n",
       "        [<matplotlib.axes._subplots.AxesSubplot object at 0x11721b4d0>,\n",
       "         <matplotlib.axes._subplots.AxesSubplot object at 0x1c26dc2f10>,\n",
       "         <matplotlib.axes._subplots.AxesSubplot object at 0x1c27deb250>]],\n",
       "       dtype=object))"
      ]
     },
     "execution_count": 26,
     "metadata": {},
     "output_type": "execute_result"
    },
    {
     "data": {
      "image/png": "[encoded data removed]",
      "text/plain": [
       "<Figure size 1080x432 with 6 Axes>"
      ]
     },
     "metadata": {
      "needs_background": "light"
     },
     "output_type": "display_data"
    }
   ],
   "source": [
    "plot_ecog_bases(uoi.components_, ecog)"
   ]
  },
  {
   "cell_type": "code",
   "execution_count": 27,
   "metadata": {},
   "outputs": [
    {
     "data": {
      "text/plain": [
       "array([0.        , 0.01034227, 0.01369235, 0.00809528, 0.01466334,\n",
       "       0.01169705, 0.00780947, 0.01280876, 0.00675941, 0.04050374,\n",
       "       0.00921059, 0.01737598, 0.01517632, 0.0113981 , 0.00909569,\n",
       "       0.00764439, 0.12605035, 0.10155401, 0.04278164, 0.        ,\n",
       "       0.03433815, 0.        , 0.04247181, 0.0087933 , 0.07866828,\n",
       "       0.14617876, 0.01483167, 0.05527519, 0.04470766, 0.02732319,\n",
       "       0.08302683, 0.01209217, 0.13342774, 0.02245691, 0.11543934,\n",
       "       0.00805377, 0.0662536 , 0.00908759, 0.01349935, 0.00762531,\n",
       "       0.01019703, 0.02192568, 0.00726174, 0.00996309, 0.00664254,\n",
       "       0.00855462, 0.00733692, 0.00834769, 0.05261312, 0.00664535,\n",
       "       0.02974424, 0.00669825, 0.07127761, 0.0096305 , 0.09007047,\n",
       "       0.01703899, 0.03764114, 0.02993196, 0.0195394 , 0.01373577,\n",
       "       0.01305712, 0.00941184, 0.00939653, 0.00848167, 0.01107609,\n",
       "       0.01006972, 0.01565367, 0.01386029, 0.02379884, 0.02385868,\n",
       "       0.0408025 , 0.03535263, 0.11543945, 0.05870987, 0.14326457,\n",
       "       0.11150683, 0.14804643, 0.20305402, 0.12039911, 0.22922876,\n",
       "       0.00816355, 0.01005994, 0.00897642, 0.01347386, 0.02302427,\n",
       "       0.01848034, 0.01246399, 0.02486592, 0.02258949, 0.15541418,\n",
       "       0.0224883 , 0.07001872, 0.01973163, 0.09186816, 0.03867622,\n",
       "       0.16112823, 0.03873974, 0.06559707, 0.15559012, 0.06564217,\n",
       "       0.28381688, 0.29084147, 0.18671992, 0.27910338, 0.12212188,\n",
       "       0.02084014, 0.12203747, 0.1314428 , 0.30132409, 0.20619737,\n",
       "       0.24570375, 0.18711566, 0.01474535, 0.02027529, 0.02532565,\n",
       "       0.07621116, 0.0239067 , 0.09237946, 0.00872775, 0.0779059 ,\n",
       "       0.01160564, 0.01924016, 0.02230764, 0.01504356, 0.0222909 ,\n",
       "       0.00927879, 0.01405723, 0.03039502])"
      ]
     },
     "execution_count": 27,
     "metadata": {},
     "output_type": "execute_result"
    }
   ],
   "source": [
    "uoi.components_[0]"
   ]
  },
  {
   "cell_type": "code",
   "execution_count": null,
   "metadata": {},
   "outputs": [],
   "source": []
  }
 ],
 "metadata": {
  "kernelspec": {
   "display_name": "neuro",
   "language": "python",
   "name": "neuro"
  },
  "language_info": {
   "codemirror_mode": {
    "name": "ipython",
    "version": 3
   },
   "file_extension": ".py",
   "mimetype": "text/x-python",
   "name": "python",
   "nbconvert_exporter": "python",
   "pygments_lexer": "ipython3",
   "version": "3.7.4"
  },
  "varInspector": {
   "cols": {
    "lenName": 16,
    "lenType": 16,
    "lenVar": 40
   },
   "kernels_config": {
    "python": {
     "delete_cmd_postfix": "",
     "delete_cmd_prefix": "del ",
     "library": "var_list.py",
     "varRefreshCmd": "print(var_dic_list())"
    },
    "r": {
     "delete_cmd_postfix": ") ",
     "delete_cmd_prefix": "rm(",
     "library": "var_list.r",
     "varRefreshCmd": "cat(var_dic_list()) "
    }
   },
   "types_to_exclude": [
    "module",
    "function",
    "builtin_function_or_method",
    "instance",
    "_Feature"
   ],
   "window_display": false
  }
 },
 "nbformat": 4,
 "nbformat_minor": 2
}
