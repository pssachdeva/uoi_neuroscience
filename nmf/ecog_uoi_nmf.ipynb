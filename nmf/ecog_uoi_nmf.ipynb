{
 "cells": [
  {
   "cell_type": "code",
   "execution_count": 1,
   "metadata": {},
   "outputs": [],
   "source": [
    "import h5py\n",
    "import matplotlib.pyplot as plt\n",
    "import numpy as np\n",
    "import umap\n",
    "\n",
    "from neuropacks import ECOG\n",
    "from pyuoi.decomposition import UoI_NMF \n",
    "from sklearn.decomposition import NMF\n",
    "from sklearn.preprocessing import normalize \n",
    "\n",
    "from utils import *\n",
    "%matplotlib inline"
   ]
  },
  {
   "cell_type": "code",
   "execution_count": 2,
   "metadata": {},
   "outputs": [],
   "source": [
    "data_path = '/storage/data/ecog/r32_b7.mat'\n",
    "grid_path = '/storage/data/ecog/grdid.mat'\n",
    "ecog = ECOG(\n",
    "    data_path=data_path,\n",
    "    grid_path=grid_path\n",
    ")"
   ]
  },
  {
   "cell_type": "code",
   "execution_count": 3,
   "metadata": {},
   "outputs": [],
   "source": [
    "Y = ecog.get_response_matrix(\n",
    "    bounds=(40, 60),\n",
    "    band='HG'\n",
    ")"
   ]
  },
  {
   "cell_type": "code",
   "execution_count": 4,
   "metadata": {},
   "outputs": [],
   "source": [
    "# kill the dead indices\n",
    "dead_indices = [19, 21, 0]"
   ]
  },
  {
   "cell_type": "code",
   "execution_count": 5,
   "metadata": {},
   "outputs": [],
   "source": [
    "Y = Y + np.abs(np.min(Y, axis=0, keepdims=True))\n",
    "Y[:, dead_indices] = 0\n",
    "# Y[Y < 0] = 0"
   ]
  },
  {
   "cell_type": "markdown",
   "metadata": {},
   "source": [
    "# Multiple Ranks"
   ]
  },
  {
   "cell_type": "code",
   "execution_count": 62,
   "metadata": {},
   "outputs": [],
   "source": [
    "uoi = UoI_NMF(\n",
    "    n_boots=30,\n",
    "    ranks=[20],\n",
    "    nmf_max_iter=1000)"
   ]
  },
  {
   "cell_type": "code",
   "execution_count": 63,
   "metadata": {},
   "outputs": [
    {
     "data": {
      "text/plain": [
       "UoI_NMF(cluster=DBSCAN(algorithm='auto', eps=0.5, leaf_size=30,\n",
       "                       metric='euclidean', metric_params=None, min_samples=15.0,\n",
       "                       n_jobs=None, p=None),\n",
       "        cons_meth=<function mean at 0x7f4457bf9290>, db_algorithm=None,\n",
       "        db_eps=None, db_leaf_size=None, db_metric=None, db_metric_params=None,\n",
       "        db_min_samples=None, logger=None, n_boots=30,\n",
       "        nmf=NMF(alpha=0.0, beta_loss='kullback-leibler', init='random',\n",
       "                l1_ratio=0.0, max_iter=1000, n_components=20, random_state=None,\n",
       "                shuffle=False, solver='mu', tol=0.0001, verbose=0),\n",
       "        nmf_beta_loss=None, nmf_init=None, nmf_max_iter=None, nmf_solver=None,\n",
       "        nmf_tol=None,\n",
       "        nnreg=<function UoI_NMF_Base.__initialize.<locals>.<lambda> at 0x7f443c2d9050>,\n",
       "        random_state=None, ranks=(20,), use_dissimilarity=True)"
      ]
     },
     "execution_count": 63,
     "metadata": {},
     "output_type": "execute_result"
    }
   ],
   "source": [
    "uoi.fit(Y)"
   ]
  },
  {
   "cell_type": "code",
   "execution_count": 64,
   "metadata": {},
   "outputs": [
    {
     "data": {
      "text/plain": [
       "(11, 128)"
      ]
     },
     "execution_count": 64,
     "metadata": {},
     "output_type": "execute_result"
    }
   ],
   "source": [
    "uoi.components_.shape"
   ]
  },
  {
   "cell_type": "code",
   "execution_count": 65,
   "metadata": {},
   "outputs": [
    {
     "data": {
      "text/plain": [
       "array([0.09586922])"
      ]
     },
     "execution_count": 65,
     "metadata": {},
     "output_type": "execute_result"
    }
   ],
   "source": [
    "uoi.dissimilarity_"
   ]
  },
  {
   "cell_type": "code",
   "execution_count": null,
   "metadata": {},
   "outputs": [],
   "source": [
    "reducer = umap.UMAP()\n",
    "embedding = reducer.fit_transform(uoi.bases_samples_)\n",
    "clusters = uoi.bases_samples_labels_"
   ]
  },
  {
   "cell_type": "code",
   "execution_count": 59,
   "metadata": {},
   "outputs": [
    {
     "data": {
      "text/plain": [
       "<matplotlib.collections.PathCollection at 0x7f443becd250>"
      ]
     },
     "execution_count": 59,
     "metadata": {},
     "output_type": "execute_result"
    },
    {
     "data": {
      "image/png": "[encoded data removed]",
      "text/plain": [
       "<Figure size 432x288 with 1 Axes>"
      ]
     },
     "metadata": {
      "needs_background": "light"
     },
     "output_type": "display_data"
    }
   ],
   "source": [
    "plt.scatter(embedding[:, 0], embedding[:, 1])"
   ]
  },
  {
   "cell_type": "code",
   "execution_count": 61,
   "metadata": {},
   "outputs": [
    {
     "data": {
      "text/plain": [
       "(<Figure size 1080x648 with 9 Axes>,\n",
       " array([[<matplotlib.axes._subplots.AxesSubplot object at 0x7f443be28950>,\n",
       "         <matplotlib.axes._subplots.AxesSubplot object at 0x7f443bdd8890>,\n",
       "         <matplotlib.axes._subplots.AxesSubplot object at 0x7f443bdef450>],\n",
       "        [<matplotlib.axes._subplots.AxesSubplot object at 0x7f443bb89110>,\n",
       "         <matplotlib.axes._subplots.AxesSubplot object at 0x7f443be26250>,\n",
       "         <matplotlib.axes._subplots.AxesSubplot object at 0x7f443be4c510>],\n",
       "        [<matplotlib.axes._subplots.AxesSubplot object at 0x7f443c342850>,\n",
       "         <matplotlib.axes._subplots.AxesSubplot object at 0x7f443c361b10>,\n",
       "         <matplotlib.axes._subplots.AxesSubplot object at 0x7f443c301350>]],\n",
       "       dtype=object))"
      ]
     },
     "execution_count": 61,
     "metadata": {},
     "output_type": "execute_result"
    },
    {
     "data": {
      "image/png": "[encoded data removed]",
      "text/plain": [
       "<Figure size 1080x648 with 9 Axes>"
      ]
     },
     "metadata": {
      "needs_background": "light"
     },
     "output_type": "display_data"
    }
   ],
   "source": [
    "plot_ecog_bases(uoi.components_, ecog)"
   ]
  },
  {
   "cell_type": "code",
   "execution_count": 21,
   "metadata": {},
   "outputs": [
    {
     "data": {
      "image/png": "[encoded data removed]",
      "text/plain": [
       "<Figure size 360x360 with 1 Axes>"
      ]
     },
     "metadata": {
      "needs_background": "light"
     },
     "output_type": "display_data"
    }
   ],
   "source": [
    "fig, ax = plt.subplots(1, 1, figsize=(5, 5))\n",
    "\n",
    "cluster_ids = np.unique(clusters)\n",
    "n_clusters = cluster_ids.size - 1\n",
    "\n",
    "for idx, c_id in enumerate(cluster_ids):\n",
    "    group = np.argwhere(clusters == c_id).ravel()\n",
    "    bases = embedding[group]\n",
    "    \n",
    "    if c_id == -1:\n",
    "        ax.scatter(bases[:, 0], bases[:, 1], marker='x', color='k')\n",
    "    else:\n",
    "        ax.scatter(bases[:, 0], bases[:, 1], alpha=0.5,\n",
    "                   color=plt.get_cmap('hsv')(int(255 * c_id / n_clusters)))\n",
    "\n",
    "ax.tick_params(labelsize=15)\n",
    "ax.set_ylim([-20, 20])\n",
    "ax.set_xlim(ax.get_ylim())\n",
    "ax.set_title(r'\\textbf{Multiple Ranks: 19 Components}', fontsize=18)\n",
    "plt.tight_layout()\n",
    "# plt.savefig('nmf_embedding_multiple_ranks.pdf')"
   ]
  }
 ],
 "metadata": {
  "kernelspec": {
   "display_name": "neuro",
   "language": "python",
   "name": "neuro"
  },
  "language_info": {
   "codemirror_mode": {
    "name": "ipython",
    "version": 3
   },
   "file_extension": ".py",
   "mimetype": "text/x-python",
   "name": "python",
   "nbconvert_exporter": "python",
   "pygments_lexer": "ipython3",
   "version": "3.7.4"
  },
  "varInspector": {
   "cols": {
    "lenName": 16,
    "lenType": 16,
    "lenVar": 40
   },
   "kernels_config": {
    "python": {
     "delete_cmd_postfix": "",
     "delete_cmd_prefix": "del ",
     "library": "var_list.py",
     "varRefreshCmd": "print(var_dic_list())"
    },
    "r": {
     "delete_cmd_postfix": ") ",
     "delete_cmd_prefix": "rm(",
     "library": "var_list.r",
     "varRefreshCmd": "cat(var_dic_list()) "
    }
   },
   "types_to_exclude": [
    "module",
    "function",
    "builtin_function_or_method",
    "instance",
    "_Feature"
   ],
   "window_display": false
  }
 },
 "nbformat": 4,
 "nbformat_minor": 2
}
