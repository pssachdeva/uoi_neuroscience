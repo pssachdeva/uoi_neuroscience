{
 "cells": [
  {
   "cell_type": "code",
   "execution_count": 1,
   "metadata": {},
   "outputs": [],
   "source": [
    "import h5py\n",
    "import matplotlib.pyplot as plt\n",
    "import numpy as np\n",
    "import os\n",
    "\n",
    "from neuropacks import ECOG\n",
    "from pyuoi.decomposition import UoI_NMF\n",
    "from scipy.optimize import nnls\n",
    "from sklearn.decomposition import NMF\n",
    "from sklearn.preprocessing import normalize \n",
    "\n",
    "from utils import *\n",
    "%matplotlib inline"
   ]
  },
  {
   "cell_type": "markdown",
   "metadata": {
    "heading_collapsed": true
   },
   "source": [
    "# Synthetic Case"
   ]
  },
  {
   "cell_type": "code",
   "execution_count": 2,
   "metadata": {
    "hidden": true
   },
   "outputs": [],
   "source": [
    "# parameters\n",
    "n_samples, n_features, true_rank = 1000, 50, 4\n",
    "noise = 0.50\n",
    "\n",
    "# initialize problem\n",
    "W_true = np.random.uniform(low=0, high=3., size=(n_samples, true_rank))\n",
    "H_true = np.random.uniform(low=0, high=3., size=(true_rank, n_features))\n",
    "X = np.dot(W_true, H_true) + noise * np.random.rand(n_samples, n_features)"
   ]
  },
  {
   "cell_type": "code",
   "execution_count": 3,
   "metadata": {
    "hidden": true
   },
   "outputs": [],
   "source": [
    "reps = 10\n",
    "ranks = np.arange(1, 8)\n",
    "error = np.zeros(ranks.size)"
   ]
  },
  {
   "cell_type": "code",
   "execution_count": 4,
   "metadata": {
    "hidden": true
   },
   "outputs": [],
   "source": [
    "nmf = NMF(\n",
    "    beta_loss='kullback-leibler',\n",
    "    solver='mu',\n",
    "    max_iter=1000,\n",
    "    init='random')"
   ]
  },
  {
   "cell_type": "code",
   "execution_count": 5,
   "metadata": {
    "hidden": true
   },
   "outputs": [
    {
     "name": "stdout",
     "output_type": "stream",
     "text": [
      "0\n",
      "1\n",
      "2\n",
      "3\n",
      "4\n",
      "5\n",
      "6\n",
      "7\n",
      "8\n",
      "9\n"
     ]
    }
   ],
   "source": [
    "k_hat, errors = bi_cross_validator(X, nmf, ranks=ranks)"
   ]
  },
  {
   "cell_type": "code",
   "execution_count": 18,
   "metadata": {
    "hidden": true
   },
   "outputs": [
    {
     "data": {
      "image/png": "[encoded data removed]",
      "text/plain": [
       "<Figure size 432x288 with 1 Axes>"
      ]
     },
     "metadata": {
      "needs_background": "light"
     },
     "output_type": "display_data"
    }
   ],
   "source": [
    "fig, ax = plt.subplots(1, 1, figsize=(6, 4))\n",
    "ax.plot(ranks, np.log(errors), color='k', linewidth=2, marker='o')\n",
    "ax.set_xticks(ranks)\n",
    "ax.tick_params(labelsize=20)\n",
    "ax.set_xlabel(r'\\textbf{Ranks}', fontsize=20)\n",
    "ax.set_ylabel(r'\\textbf{log(Error)}', fontsize=20)\n",
    "plt.savefig('bcv_synthetic.pdf', bbox_inches='tight')"
   ]
  },
  {
   "cell_type": "markdown",
   "metadata": {
    "heading_collapsed": true
   },
   "source": [
    "# ECoG"
   ]
  },
  {
   "cell_type": "code",
   "execution_count": 2,
   "metadata": {
    "hidden": true
   },
   "outputs": [],
   "source": [
    "data_path = os.path.join('/storage/data/ecog/r32_b7.mat')\n",
    "grid_path = os.path.join('/storage/data/ecog/grdid.mat')\n",
    "ecog = ECOG(\n",
    "    data_path=data_path,\n",
    "    grid_path=grid_path\n",
    ")"
   ]
  },
  {
   "cell_type": "code",
   "execution_count": 3,
   "metadata": {
    "hidden": true
   },
   "outputs": [],
   "source": [
    "Y = ecog.get_response_matrix(\n",
    "    bounds=(40, 60),\n",
    "    band='HG'\n",
    ")"
   ]
  },
  {
   "cell_type": "code",
   "execution_count": 4,
   "metadata": {
    "hidden": true
   },
   "outputs": [],
   "source": [
    "stratify = ecog.get_design_matrix(form='frequency')\n",
    "\n",
    "nmf = NMF(\n",
    "    beta_loss='kullback-leibler',\n",
    "    solver='mu',\n",
    "    max_iter=1000,\n",
    "    init='random')\n",
    "\n",
    "ranks = np.arange(1, 51)"
   ]
  },
  {
   "cell_type": "code",
   "execution_count": 5,
   "metadata": {
    "hidden": true
   },
   "outputs": [],
   "source": [
    "# kill the dead indices\n",
    "dead_indices = [19, 21, 0]\n",
    "Y[:, dead_indices] = 0\n",
    "Y = Y + np.abs(np.min(Y, axis=0, keepdims=True))"
   ]
  },
  {
   "cell_type": "code",
   "execution_count": 6,
   "metadata": {
    "hidden": true
   },
   "outputs": [
    {
     "name": "stdout",
     "output_type": "stream",
     "text": [
      "0\n",
      "1\n",
      "2\n",
      "3\n",
      "4\n",
      "5\n",
      "6\n",
      "7\n",
      "8\n",
      "9\n"
     ]
    }
   ],
   "source": [
    "k_hat, errors = bi_cross_validator(Y, nmf, ranks=ranks, stratify=stratify)"
   ]
  },
  {
   "cell_type": "code",
   "execution_count": 12,
   "metadata": {
    "hidden": true
   },
   "outputs": [
    {
     "data": {
      "image/png": "[encoded data removed]",
      "text/plain": [
       "<Figure size 432x288 with 1 Axes>"
      ]
     },
     "metadata": {
      "needs_background": "light"
     },
     "output_type": "display_data"
    }
   ],
   "source": [
    "fig, ax = plt.subplots(1, 1, figsize=(6, 4))\n",
    "ax.plot(ranks, np.log(errors), color='k', linewidth=2, marker='o')\n",
    "ax.set_xticks(np.array([1, 10, 20, 30, 40, 50]))\n",
    "ax.tick_params(labelsize=20)\n",
    "ax.set_xlabel(r'\\textbf{Ranks}', fontsize=20)\n",
    "ax.set_ylabel(r'\\textbf{log(Error)}', fontsize=20)\n",
    "plt.savefig('bcv_nmf.pdf', bbox_inches='tight')"
   ]
  },
  {
   "cell_type": "markdown",
   "metadata": {
    "heading_collapsed": true
   },
   "source": [
    "# Plot ECoG Bases"
   ]
  },
  {
   "cell_type": "code",
   "execution_count": 2,
   "metadata": {
    "hidden": true
   },
   "outputs": [],
   "source": [
    "data_path = os.path.join('/storage/data/ecog/r32_b7.mat')\n",
    "grid_path = os.path.join('/storage/data/ecog/grdid.mat')\n",
    "ecog = ECOG(\n",
    "    data_path=data_path,\n",
    "    grid_path=grid_path\n",
    ")"
   ]
  },
  {
   "cell_type": "code",
   "execution_count": 3,
   "metadata": {
    "hidden": true
   },
   "outputs": [],
   "source": [
    "Y = ecog.get_response_matrix(\n",
    "    bounds=(40, 60),\n",
    "    band='HG'\n",
    ")"
   ]
  },
  {
   "cell_type": "code",
   "execution_count": 4,
   "metadata": {
    "hidden": true
   },
   "outputs": [],
   "source": [
    "# kill the dead indices\n",
    "dead_indices = [19, 21, 0]\n",
    "Y = Y + np.abs(np.min(Y, axis=0, keepdims=True))\n",
    "Y[:, dead_indices] = 0"
   ]
  },
  {
   "cell_type": "code",
   "execution_count": 5,
   "metadata": {
    "hidden": true
   },
   "outputs": [
    {
     "data": {
      "text/plain": [
       "NMF(alpha=0.0, beta_loss='kullback-leibler', init='random', l1_ratio=0.0,\n",
       "    max_iter=1000, n_components=30, random_state=None, shuffle=False,\n",
       "    solver='mu', tol=0.0001, verbose=0)"
      ]
     },
     "execution_count": 5,
     "metadata": {},
     "output_type": "execute_result"
    }
   ],
   "source": [
    "nmf = NMF(\n",
    "    beta_loss='kullback-leibler',\n",
    "    solver='mu',\n",
    "    max_iter=1000,\n",
    "    init='random')\n",
    "nmf.set_params(n_components=30)\n",
    "nmf.fit(Y)"
   ]
  },
  {
   "cell_type": "code",
   "execution_count": 9,
   "metadata": {
    "hidden": true,
    "scrolled": false
   },
   "outputs": [
    {
     "data": {
      "image/png": "[encoded data removed]",
      "text/plain": [
       "<Figure size 2160x1080 with 30 Axes>"
      ]
     },
     "metadata": {},
     "output_type": "display_data"
    }
   ],
   "source": [
    "fig, axes = plot_ecog_bases(nmf.components_, ecog, n_cols=6)\n",
    "plt.tight_layout()\n",
    "plt.savefig('bases_min_cv.pdf', bbox_inches='tight')"
   ]
  }
 ],
 "metadata": {
  "kernelspec": {
   "display_name": "neuro",
   "language": "python",
   "name": "neuro"
  },
  "language_info": {
   "codemirror_mode": {
    "name": "ipython",
    "version": 3
   },
   "file_extension": ".py",
   "mimetype": "text/x-python",
   "name": "python",
   "nbconvert_exporter": "python",
   "pygments_lexer": "ipython3",
   "version": "3.7.4"
  },
  "varInspector": {
   "cols": {
    "lenName": 16,
    "lenType": 16,
    "lenVar": 40
   },
   "kernels_config": {
    "python": {
     "delete_cmd_postfix": "",
     "delete_cmd_prefix": "del ",
     "library": "var_list.py",
     "varRefreshCmd": "print(var_dic_list())"
    },
    "r": {
     "delete_cmd_postfix": ") ",
     "delete_cmd_prefix": "rm(",
     "library": "var_list.r",
     "varRefreshCmd": "cat(var_dic_list()) "
    }
   },
   "types_to_exclude": [
    "module",
    "function",
    "builtin_function_or_method",
    "instance",
    "_Feature"
   ],
   "window_display": false
  }
 },
 "nbformat": 4,
 "nbformat_minor": 2
}
