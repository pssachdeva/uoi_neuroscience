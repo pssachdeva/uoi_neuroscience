{
 "cells": [
  {
   "cell_type": "code",
   "execution_count": 1,
   "metadata": {},
   "outputs": [],
   "source": [
    "import h5py\n",
    "import matplotlib.pyplot as plt\n",
    "import numpy as np\n",
    "\n",
    "from neuropacks import ECOG\n",
    "from pyuoi.decomposition import UoI_NMF\n",
    "from scipy.optimize import nnls\n",
    "from sklearn.decomposition import NMF\n",
    "from sklearn.preprocessing import normalize \n",
    "\n",
    "from utils import *\n",
    "%matplotlib inline"
   ]
  },
  {
   "cell_type": "code",
   "execution_count": 24,
   "metadata": {},
   "outputs": [],
   "source": [
    "# parameters\n",
    "n_samples, n_features, true_rank = 1000, 50, 4\n",
    "noise = 0.50\n",
    "\n",
    "# initialize problem\n",
    "W_true = np.random.uniform(low=0, high=3., size=(n_samples, true_rank))\n",
    "H_true = np.random.uniform(low=0, high=3., size=(true_rank, n_features))\n",
    "X = np.dot(W_true, H_true) + noise * np.random.rand(n_samples, n_features)"
   ]
  },
  {
   "cell_type": "code",
   "execution_count": 25,
   "metadata": {},
   "outputs": [],
   "source": [
    "reps = 10\n",
    "ranks = np.arange(1, 8)\n",
    "error = np.zeros(ranks.size)"
   ]
  },
  {
   "cell_type": "code",
   "execution_count": 26,
   "metadata": {},
   "outputs": [],
   "source": [
    "nmf = NMF(\n",
    "    beta_loss='kullback-leibler',\n",
    "    solver='mu',\n",
    "    max_iter=1000,\n",
    "    init='random')"
   ]
  },
  {
   "cell_type": "code",
   "execution_count": 27,
   "metadata": {},
   "outputs": [
    {
     "name": "stdout",
     "output_type": "stream",
     "text": [
      "0\n",
      "1\n",
      "2\n",
      "3\n",
      "4\n",
      "5\n",
      "6\n",
      "7\n",
      "8\n",
      "9\n"
     ]
    }
   ],
   "source": [
    "k_hat, errors = bi_cross_validator(X, nmf, ranks=ranks)"
   ]
  },
  {
   "cell_type": "code",
   "execution_count": 28,
   "metadata": {},
   "outputs": [
    {
     "name": "stdout",
     "output_type": "stream",
     "text": [
      "4\n"
     ]
    },
    {
     "data": {
      "text/plain": [
       "[<matplotlib.lines.Line2D at 0x1c193e7fd0>]"
      ]
     },
     "execution_count": 28,
     "metadata": {},
     "output_type": "execute_result"
    },
    {
     "data": {
      "image/png": "[encoded data removed]",
      "text/plain": [
       "<Figure size 432x288 with 1 Axes>"
      ]
     },
     "metadata": {
      "needs_background": "light"
     },
     "output_type": "display_data"
    }
   ],
   "source": [
    "print(k_hat)\n",
    "plt.plot(np.log(errors))"
   ]
  },
  {
   "cell_type": "code",
   "execution_count": 7,
   "metadata": {},
   "outputs": [],
   "source": [
    "data_path = '/Users/psachdeva/data/ecog/r32_b7.mat'\n",
    "grid_path = '/Users/psachdeva/data/ecog/grdid.mat'\n",
    "ecog = ECOG(\n",
    "    data_path=data_path,\n",
    "    grid_path=grid_path\n",
    ")"
   ]
  },
  {
   "cell_type": "code",
   "execution_count": 8,
   "metadata": {},
   "outputs": [],
   "source": [
    "Y = ecog.get_response_matrix(\n",
    "    bounds=(40, 60),\n",
    "    band='HG'\n",
    ")"
   ]
  },
  {
   "cell_type": "code",
   "execution_count": 10,
   "metadata": {},
   "outputs": [],
   "source": [
    "# kill the dead indices\n",
    "dead_indices = [19, 21, 0]\n",
    "Y[:, dead_indices] = 0\n",
    "Y = Y + np.abs(np.min(Y, axis=0, keepdims=True))"
   ]
  },
  {
   "cell_type": "code",
   "execution_count": 11,
   "metadata": {},
   "outputs": [
    {
     "name": "stdout",
     "output_type": "stream",
     "text": [
      "0\n",
      "1\n",
      "2\n",
      "3\n",
      "4\n",
      "5\n",
      "6\n",
      "7\n",
      "8\n",
      "9\n"
     ]
    }
   ],
   "source": [
    "ranks = np.arange(1, 41)\n",
    "k_hat, errors = bi_cross_validator(Y, nmf, ranks=ranks)"
   ]
  },
  {
   "cell_type": "code",
   "execution_count": 12,
   "metadata": {},
   "outputs": [
    {
     "data": {
      "text/plain": [
       "28"
      ]
     },
     "execution_count": 12,
     "metadata": {},
     "output_type": "execute_result"
    }
   ],
   "source": [
    "k_hat"
   ]
  },
  {
   "cell_type": "code",
   "execution_count": 13,
   "metadata": {},
   "outputs": [
    {
     "data": {
      "text/plain": [
       "[<matplotlib.lines.Line2D at 0x10d989fd0>]"
      ]
     },
     "execution_count": 13,
     "metadata": {},
     "output_type": "execute_result"
    },
    {
     "data": {
      "image/png": "[encoded data removed]",
      "text/plain": [
       "<Figure size 432x288 with 1 Axes>"
      ]
     },
     "metadata": {
      "needs_background": "light"
     },
     "output_type": "display_data"
    }
   ],
   "source": [
    "plt.plot(np.log(errors))"
   ]
  },
  {
   "cell_type": "code",
   "execution_count": 14,
   "metadata": {},
   "outputs": [
    {
     "data": {
      "text/plain": [
       "NMF(alpha=0.0, beta_loss='kullback-leibler', init='random', l1_ratio=0.0,\n",
       "    max_iter=1000, n_components=28, random_state=None, shuffle=False,\n",
       "    solver='mu', tol=0.0001, verbose=0)"
      ]
     },
     "execution_count": 14,
     "metadata": {},
     "output_type": "execute_result"
    }
   ],
   "source": [
    "nmf.set_params(n_components=28)\n",
    "nmf.fit(Y)"
   ]
  },
  {
   "cell_type": "code",
   "execution_count": 16,
   "metadata": {
    "scrolled": false
   },
   "outputs": [
    {
     "data": {
      "text/plain": [
       "(<Figure size 1152x2160 with 30 Axes>,\n",
       " array([[<matplotlib.axes._subplots.AxesSubplot object at 0x1c231c5cf8>,\n",
       "         <matplotlib.axes._subplots.AxesSubplot object at 0x1c234ec240>,\n",
       "         <matplotlib.axes._subplots.AxesSubplot object at 0x1c23518518>],\n",
       "        [<matplotlib.axes._subplots.AxesSubplot object at 0x1c23548ac8>,\n",
       "         <matplotlib.axes._subplots.AxesSubplot object at 0x1c23e1b0b8>,\n",
       "         <matplotlib.axes._subplots.AxesSubplot object at 0x1c23578668>],\n",
       "        [<matplotlib.axes._subplots.AxesSubplot object at 0x1c27debc50>,\n",
       "         <matplotlib.axes._subplots.AxesSubplot object at 0x1c27b96828>,\n",
       "         <matplotlib.axes._subplots.AxesSubplot object at 0x1c279b4c50>],\n",
       "        [<matplotlib.axes._subplots.AxesSubplot object at 0x1c283689b0>,\n",
       "         <matplotlib.axes._subplots.AxesSubplot object at 0x1c258853c8>,\n",
       "         <matplotlib.axes._subplots.AxesSubplot object at 0x1c23e93cc0>],\n",
       "        [<matplotlib.axes._subplots.AxesSubplot object at 0x1c23eca2b0>,\n",
       "         <matplotlib.axes._subplots.AxesSubplot object at 0x1c23ef9860>,\n",
       "         <matplotlib.axes._subplots.AxesSubplot object at 0x1c257d3e10>],\n",
       "        [<matplotlib.axes._subplots.AxesSubplot object at 0x1c2580e400>,\n",
       "         <matplotlib.axes._subplots.AxesSubplot object at 0x1c283819b0>,\n",
       "         <matplotlib.axes._subplots.AxesSubplot object at 0x1c283b3f60>],\n",
       "        [<matplotlib.axes._subplots.AxesSubplot object at 0x1c283ee550>,\n",
       "         <matplotlib.axes._subplots.AxesSubplot object at 0x1c2841fb00>,\n",
       "         <matplotlib.axes._subplots.AxesSubplot object at 0x1c2845d0f0>],\n",
       "        [<matplotlib.axes._subplots.AxesSubplot object at 0x1c2848c6a0>,\n",
       "         <matplotlib.axes._subplots.AxesSubplot object at 0x1c284bcc50>,\n",
       "         <matplotlib.axes._subplots.AxesSubplot object at 0x1c284fb240>],\n",
       "        [<matplotlib.axes._subplots.AxesSubplot object at 0x1c2852b7f0>,\n",
       "         <matplotlib.axes._subplots.AxesSubplot object at 0x1c2855cda0>,\n",
       "         <matplotlib.axes._subplots.AxesSubplot object at 0x1c2859a390>],\n",
       "        [<matplotlib.axes._subplots.AxesSubplot object at 0x1c285c9940>,\n",
       "         <matplotlib.axes._subplots.AxesSubplot object at 0x1c285fbef0>,\n",
       "         <matplotlib.axes._subplots.AxesSubplot object at 0x1c286384e0>]],\n",
       "       dtype=object))"
      ]
     },
     "execution_count": 16,
     "metadata": {},
     "output_type": "execute_result"
    },
    {
     "data": {
      "image/png": "[encoded data removed]",
      "text/plain": [
       "<Figure size 1152x2160 with 30 Axes>"
      ]
     },
     "metadata": {
      "needs_background": "light"
     },
     "output_type": "display_data"
    }
   ],
   "source": [
    "plot_ecog_bases(nmf.components_, ecog, vmax=np.max(nmf.components_))"
   ]
  },
  {
   "cell_type": "code",
   "execution_count": null,
   "metadata": {},
   "outputs": [],
   "source": []
  }
 ],
 "metadata": {
  "kernelspec": {
   "display_name": "Python 3 (base)",
   "language": "python",
   "name": "base"
  },
  "varInspector": {
   "cols": {
    "lenName": 16,
    "lenType": 16,
    "lenVar": 40
   },
   "kernels_config": {
    "python": {
     "delete_cmd_postfix": "",
     "delete_cmd_prefix": "del ",
     "library": "var_list.py",
     "varRefreshCmd": "print(var_dic_list())"
    },
    "r": {
     "delete_cmd_postfix": ") ",
     "delete_cmd_prefix": "rm(",
     "library": "var_list.r",
     "varRefreshCmd": "cat(var_dic_list()) "
    }
   },
   "types_to_exclude": [
    "module",
    "function",
    "builtin_function_or_method",
    "instance",
    "_Feature"
   ],
   "window_display": false
  }
 },
 "nbformat": 4,
 "nbformat_minor": 2
}
