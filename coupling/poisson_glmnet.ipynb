{
 "cells": [
  {
   "cell_type": "code",
   "execution_count": 1,
   "metadata": {},
   "outputs": [],
   "source": [
    "import glmnet_python\n",
    "import h5py\n",
    "import matplotlib.pyplot as plt\n",
    "import numpy as np\n",
    "\n",
    "from cvglmnet import cvglmnet\n",
    "from cvglmnetCoef import cvglmnetCoef\n",
    "from neuropacks import PVC11\n",
    "from pyuoi.linear_model import UoI_Poisson\n",
    "from pyuoi.utils import log_likelihood_glm\n",
    "from sklearn.model_selection import train_test_split\n",
    "\n",
    "%matplotlib inline"
   ]
  },
  {
   "cell_type": "code",
   "execution_count": 2,
   "metadata": {},
   "outputs": [],
   "source": [
    "pvc11 = PVC11(data_path='/Volumes/pss/data/pvc11/data/spikes_gratings/data_monkey1_gratings.mat')\n",
    "Y = pvc11.get_response_matrix(transform=None)\n",
    "labels = (pvc11.get_design_matrix(form='angle') / 30).astype('int')"
   ]
  },
  {
   "cell_type": "code",
   "execution_count": 5,
   "metadata": {},
   "outputs": [],
   "source": [
    "neuron = 10\n",
    "X = np.delete(Y, neuron, axis=1)\n",
    "y = Y[:, neuron]\n",
    "X_train, X_test, y_train, y_test = train_test_split(X, y, test_size=0.2, stratify=labels, shuffle=True)"
   ]
  },
  {
   "cell_type": "code",
   "execution_count": 10,
   "metadata": {},
   "outputs": [],
   "source": [
    "fit = cvglmnet(x=X_train, y=y_train, family='poisson', nfolds=10, standardize=True)"
   ]
  },
  {
   "cell_type": "code",
   "execution_count": 7,
   "metadata": {},
   "outputs": [],
   "source": [
    "coefs = cvglmnetCoef(fit, s = 'lambda_min').ravel()\n",
    "intercept = coefs[0]\n",
    "coef = coefs[1:]"
   ]
  },
  {
   "cell_type": "code",
   "execution_count": 8,
   "metadata": {},
   "outputs": [
    {
     "data": {
      "text/plain": [
       "array([ 0.01858607,  0.        ,  0.        ,  0.00204477,  0.        ,\n",
       "        0.        , -0.00523075,  0.00849651,  0.00468909,  0.        ,\n",
       "        0.01853961,  0.18265678,  0.01786114,  0.        , -0.00513687,\n",
       "        0.00385321,  0.        ,  0.        , -0.00055879,  0.00471163,\n",
       "        0.00210427,  0.        , -0.00186132,  0.        ,  0.        ,\n",
       "        0.        ,  0.01927846,  0.        , -0.00439384,  0.00044384,\n",
       "        0.03653549,  0.00653035,  0.        ,  0.        ,  0.        ,\n",
       "        0.        ,  0.        ,  0.        ,  0.0036055 ,  0.01953495,\n",
       "        0.        ,  0.00473205,  0.        ,  0.00547749,  0.01323132,\n",
       "        0.        ,  0.        ,  0.        ,  0.0086031 ,  0.        ,\n",
       "        0.00297093,  0.        ,  0.        , -0.00647585,  0.0011644 ,\n",
       "        0.01396118, -0.00826739,  0.        ,  0.        ,  0.        ,\n",
       "       -0.08355661,  0.        ,  0.00250176,  0.        ,  0.        ,\n",
       "        0.        ,  0.        ,  0.        , -0.01001308,  0.        ,\n",
       "        0.00069069,  0.        ,  0.00349565,  0.02098317, -0.01988073,\n",
       "        0.03262176,  0.        ,  0.        ,  0.        ,  0.01417431,\n",
       "        0.00191954,  0.        ,  0.        ,  0.        ,  0.        ,\n",
       "        0.        ,  0.        ,  0.        ,  0.        ,  0.        ,\n",
       "        0.00102099,  0.        ,  0.        ,  0.        ,  0.        ,\n",
       "        0.        ,  0.        ,  0.        ,  0.        ,  0.        ,\n",
       "        0.        ,  0.        ,  0.        ,  0.        ,  0.01196041])"
      ]
     },
     "execution_count": 8,
     "metadata": {},
     "output_type": "execute_result"
    }
   ],
   "source": []
  },
  {
   "cell_type": "code",
   "execution_count": 6,
   "metadata": {},
   "outputs": [],
   "source": [
    "poisson = UoI_Poisson(\n",
    "    n_boots_sel=50,\n",
    "    n_boots_est=50,\n",
    "    n_lambdas=50,\n",
    "    warm_start=False,\n",
    "    estimation_score='log',\n",
    "    eps=1e-5\n",
    ")"
   ]
  },
  {
   "cell_type": "code",
   "execution_count": 7,
   "metadata": {},
   "outputs": [
    {
     "data": {
      "text/plain": [
       "UoI_Poisson(alphas=array([1.]), comm=None, copy_X=None, eps=1e-05,\n",
       "            estimation_frac=0.8, estimation_score='log', fit_intercept=True,\n",
       "            logger=None, max_iter=None, n_boots_est=50, n_boots_sel=50,\n",
       "            n_lambdas=50,\n",
       "            random_state=<module 'numpy.random' from '/Users/psachdeva/anaconda3/lib/python3.6/site-packages/numpy/random/__init__.py'>,\n",
       "            selection_frac=0.8, solver=None, stability_selection=1.0,\n",
       "            standardize=True, tol=None, warm_start=False)"
      ]
     },
     "execution_count": 7,
     "metadata": {},
     "output_type": "execute_result"
    }
   ],
   "source": [
    "poisson.fit(X_train, y_train)"
   ]
  },
  {
   "cell_type": "code",
   "execution_count": 8,
   "metadata": {},
   "outputs": [
    {
     "data": {
      "text/plain": [
       "[<matplotlib.lines.Line2D at 0x1c1e6008d0>]"
      ]
     },
     "execution_count": 8,
     "metadata": {},
     "output_type": "execute_result"
    },
    {
     "data": {
      "image/png": "[encoded data removed]",
      "text/plain": [
       "<Figure size 432x288 with 1 Axes>"
      ]
     },
     "metadata": {
      "needs_background": "light"
     },
     "output_type": "display_data"
    }
   ],
   "source": [
    "plt.scatter(coef, poisson.coef_)\n",
    "plt.plot([-0.05, .05], [-.05, .05])"
   ]
  },
  {
   "cell_type": "code",
   "execution_count": 12,
   "metadata": {},
   "outputs": [],
   "source": [
    "mu_glm = np.exp(intercept + np.dot(X_test, coef))\n",
    "# mu_uoi = np.exp(poisson.intercept_ + np.dot(X_test, poisson.coef_))"
   ]
  },
  {
   "cell_type": "code",
   "execution_count": 21,
   "metadata": {},
   "outputs": [],
   "source": [
    "nz_y = y_test != 0\n",
    "deviance_glmnet = np.sum(y_test[nz_y] * np.log(y_test[nz_y])) - np.sum(y_test * np.log(mu_glm)) - np.sum(y_test - mu_glm)\n",
    "# deviance_uoi = np.sum(y_test[nz_y] * np.log(y_test[nz_y])) - np.sum(y_test * np.log(mu_uoi)) - np.sum(y_test - mu_uoi)"
   ]
  },
  {
   "cell_type": "code",
   "execution_count": 18,
   "metadata": {},
   "outputs": [
    {
     "data": {
      "text/plain": [
       "480"
      ]
     },
     "execution_count": 18,
     "metadata": {},
     "output_type": "execute_result"
    }
   ],
   "source": [
    "        ll = np.mean(y_true * np.log(y_pred) - y_pred)\n"
   ]
  },
  {
   "cell_type": "code",
   "execution_count": 27,
   "metadata": {},
   "outputs": [
    {
     "name": "stdout",
     "output_type": "stream",
     "text": [
      "270.00599343803907\n"
     ]
    },
    {
     "ename": "NameError",
     "evalue": "name 'deviance_uoi' is not defined",
     "output_type": "error",
     "traceback": [
      "\u001b[0;31m---------------------------------------------------------------------------\u001b[0m",
      "\u001b[0;31mNameError\u001b[0m                                 Traceback (most recent call last)",
      "\u001b[0;32m<ipython-input-27-3d376d0163b5>\u001b[0m in \u001b[0;36m<module>\u001b[0;34m\u001b[0m\n\u001b[1;32m      1\u001b[0m \u001b[0mprint\u001b[0m\u001b[0;34m(\u001b[0m\u001b[0mdeviance_glmnet\u001b[0m\u001b[0;34m)\u001b[0m\u001b[0;34m\u001b[0m\u001b[0;34m\u001b[0m\u001b[0m\n\u001b[0;32m----> 2\u001b[0;31m \u001b[0mprint\u001b[0m\u001b[0;34m(\u001b[0m\u001b[0mdeviance_uoi\u001b[0m\u001b[0;34m)\u001b[0m\u001b[0;34m\u001b[0m\u001b[0;34m\u001b[0m\u001b[0m\n\u001b[0m",
      "\u001b[0;31mNameError\u001b[0m: name 'deviance_uoi' is not defined"
     ]
    }
   ],
   "source": [
    "print(deviance_glmnet)\n",
    "print(deviance_uoi)"
   ]
  },
  {
   "cell_type": "code",
   "execution_count": 12,
   "metadata": {},
   "outputs": [
    {
     "name": "stdout",
     "output_type": "stream",
     "text": [
      "-0.6777826670745044\n",
      "-0.7169570618354342\n"
     ]
    }
   ],
   "source": [
    "print(log_likelihood_glm('poisson', y_test, mu_glm))\n",
    "print(log_likelihood_glm('poisson', y_test, mu_uoi))"
   ]
  },
  {
   "cell_type": "code",
   "execution_count": 13,
   "metadata": {},
   "outputs": [
    {
     "name": "stdout",
     "output_type": "stream",
     "text": [
      "29\n",
      "52\n"
     ]
    }
   ],
   "source": [
    "print(np.count_nonzero(poisson.coef_))\n",
    "print(np.count_nonzero(coef))"
   ]
  },
  {
   "cell_type": "code",
   "execution_count": 30,
   "metadata": {},
   "outputs": [
    {
     "data": {
      "text/plain": [
       "270.0059934380391"
      ]
     },
     "execution_count": 30,
     "metadata": {},
     "output_type": "execute_result"
    }
   ],
   "source": [
    "133 * log_likelihood_glm('poisson', y_test[nz_y], y_test[nz_y]) - 480 * log_likelihood_glm('poisson', y_test, mu_glm)"
   ]
  },
  {
   "cell_type": "code",
   "execution_count": 29,
   "metadata": {},
   "outputs": [
    {
     "data": {
      "text/plain": [
       "133"
      ]
     },
     "execution_count": 29,
     "metadata": {},
     "output_type": "execute_result"
    }
   ],
   "source": [
    "y_test[nz_y].size"
   ]
  },
  {
   "cell_type": "code",
   "execution_count": 17,
   "metadata": {},
   "outputs": [
    {
     "data": {
      "text/plain": [
       "array([18, 20, 14, 20, 15, 13, 12, 18, 20, 13, 19, 19, 24, 18, 11, 13, 17,\n",
       "       12, 21,  8, 15, 21,  9, 15,  8,  3,  6, 11, 13, 17,  8, 12, 11, 11,\n",
       "       15, 13, 12, 14, 19, 20, 21, 17, 15, 15, 11, 23,  8, 15, 15, 19])"
      ]
     },
     "execution_count": 17,
     "metadata": {},
     "output_type": "execute_result"
    }
   ],
   "source": [
    "poisson.rp_max_idx_"
   ]
  },
  {
   "cell_type": "code",
   "execution_count": null,
   "metadata": {},
   "outputs": [],
   "source": []
  }
 ],
 "metadata": {
  "kernelspec": {
   "display_name": "Python 3 (base)",
   "language": "python",
   "name": "base"
  },
  "language_info": {
   "codemirror_mode": {
    "name": "ipython",
    "version": 3
   },
   "file_extension": ".py",
   "mimetype": "text/x-python",
   "name": "python",
   "nbconvert_exporter": "python",
   "pygments_lexer": "ipython3",
   "version": "3.6.8"
  },
  "varInspector": {
   "cols": {
    "lenName": 16,
    "lenType": 16,
    "lenVar": 40
   },
   "kernels_config": {
    "python": {
     "delete_cmd_postfix": "",
     "delete_cmd_prefix": "del ",
     "library": "var_list.py",
     "varRefreshCmd": "print(var_dic_list())"
    },
    "r": {
     "delete_cmd_postfix": ") ",
     "delete_cmd_prefix": "rm(",
     "library": "var_list.r",
     "varRefreshCmd": "cat(var_dic_list()) "
    }
   },
   "types_to_exclude": [
    "module",
    "function",
    "builtin_function_or_method",
    "instance",
    "_Feature"
   ],
   "window_display": false
  }
 },
 "nbformat": 4,
 "nbformat_minor": 2
}
