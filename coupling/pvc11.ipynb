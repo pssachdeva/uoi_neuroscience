{
 "cells": [
  {
   "cell_type": "code",
   "execution_count": 1,
   "metadata": {},
   "outputs": [],
   "source": [
    "import h5py\n",
    "import matplotlib.pyplot as plt\n",
    "import networkx as nx\n",
    "import numpy as np\n",
    "\n",
    "from utils import (coupling_coef_corrs,\n",
    "                   selection_profiles_by_chance,\n",
    "                   get_dataset,\n",
    "                   create_graph)\n",
    "from pyuoi.linear_model import UoI_Lasso\n",
    "from sklearn.metrics import r2_score\n",
    "%matplotlib inline"
   ]
  },
  {
   "cell_type": "code",
   "execution_count": null,
   "metadata": {},
   "outputs": [],
   "source": []
  },
  {
   "cell_type": "code",
   "execution_count": 2,
   "metadata": {},
   "outputs": [],
   "source": [
    "fits_path = '/Users/psachdeva/fits/uoineuro/pvc11/pvc11_monkey1.h5'"
   ]
  },
  {
   "cell_type": "code",
   "execution_count": 3,
   "metadata": {},
   "outputs": [],
   "source": [
    "fits = h5py.File(fits_path, 'r')"
   ]
  },
  {
   "cell_type": "code",
   "execution_count": 4,
   "metadata": {},
   "outputs": [],
   "source": [
    "Y1 = fits['UoI_Lasso_r2/Y'][:]\n",
    "Y2 = fits['Lasso/Y'][:]\n",
    "assert np.all(Y1 == Y2)\n",
    "Y = Y1"
   ]
  },
  {
   "cell_type": "code",
   "execution_count": 11,
   "metadata": {},
   "outputs": [],
   "source": [
    "neuron_idx = 3\n",
    "fold_idx = 4\n",
    "train_fold = fits['UoI_Lasso_r2/training_folds/fold_%s' %fold_idx]\n",
    "test_fold = fits['UoI_Lasso_r2/test_folds/fold_%s' %fold_idx]\n",
    "coupling_coefs = fits['UoI_Lasso_r2/coupling_coefs'][fold_idx, neuron_idx]\n",
    "intercept = fits['UoI_Lasso_r2/intercepts'][fold_idx, neuron_idx]\n",
    "X_train = np.delete(Y, neuron_idx, axis=1)[train_fold, :]\n",
    "X_test = np.delete(Y, neuron_idx, axis=1)[test_fold, :]\n",
    "y_train = Y[:, neuron_idx][train_fold]\n",
    "y_test = Y[:, neuron_idx][test_fold]"
   ]
  },
  {
   "cell_type": "code",
   "execution_count": 12,
   "metadata": {},
   "outputs": [
    {
     "name": "stdout",
     "output_type": "stream",
     "text": [
      "-5.581682019336263\n",
      "-5.4941700562787865\n"
     ]
    }
   ],
   "source": [
    "print(r2_score(y_train, intercept + np.dot(X_train, coupling_coefs)))\n",
    "print(fits['UoI_Lasso_r2/r2'][fold_idx, neuron_idx])"
   ]
  },
  {
   "cell_type": "code",
   "execution_count": 13,
   "metadata": {},
   "outputs": [],
   "source": [
    "fitter = UoI_Lasso(\n",
    "    n_boots_sel=30,\n",
    "    n_boots_est=30,\n",
    "    selection_frac=0.8,\n",
    "    estimation_frac=0.8,\n",
    "    estimation_score='r2',\n",
    "    stability_selection=1.0,\n",
    "    standardize=True,\n",
    "    fit_intercept=True,\n",
    "    max_iter=5000\n",
    ")"
   ]
  },
  {
   "cell_type": "code",
   "execution_count": 14,
   "metadata": {},
   "outputs": [
    {
     "data": {
      "text/plain": [
       "UoI_Lasso(comm=None, copy_X=None, eps=0.001, estimation_frac=0.8,\n",
       "          estimation_score='r2', fit_intercept=True, max_iter=5000,\n",
       "          n_boots_est=30, n_boots_sel=30, n_lambdas=48,\n",
       "          random_state=<module 'numpy.random' from '/Users/psachdeva/anaconda3/lib/python3.6/site-packages/numpy/random/__init__.py'>,\n",
       "          selection_frac=0.8, stability_selection=1.0, standardize=True,\n",
       "          warm_start=None)"
      ]
     },
     "execution_count": 14,
     "metadata": {},
     "output_type": "execute_result"
    }
   ],
   "source": [
    "fitter.fit(X_train, y_train)"
   ]
  },
  {
   "cell_type": "code",
   "execution_count": 15,
   "metadata": {},
   "outputs": [
    {
     "data": {
      "text/plain": [
       "array([0.31460171])"
      ]
     },
     "execution_count": 15,
     "metadata": {},
     "output_type": "execute_result"
    }
   ],
   "source": [
    "fitter.intercept_"
   ]
  },
  {
   "cell_type": "code",
   "execution_count": 16,
   "metadata": {},
   "outputs": [
    {
     "data": {
      "text/plain": [
       "0.753391292822865"
      ]
     },
     "execution_count": 16,
     "metadata": {},
     "output_type": "execute_result"
    }
   ],
   "source": [
    "r2_score(y_test, np.dot(X_test, fitter.coef_) + fitter.intercept_)"
   ]
  },
  {
   "cell_type": "code",
   "execution_count": 17,
   "metadata": {},
   "outputs": [
    {
     "data": {
      "text/plain": [
       "array([[-2.20563670e-03,  6.40540460e-01,  6.74245806e-01, ...,\n",
       "         7.28733867e-01,  7.28610952e-01,  7.28742354e-01],\n",
       "       [-1.63539297e-03,  6.55210441e-01,  6.93117941e-01, ...,\n",
       "         7.70753343e-01,  7.70954360e-01,  7.70503911e-01],\n",
       "       [-3.42336769e-04,  6.61751497e-01,  7.19205886e-01, ...,\n",
       "         7.92679240e-01,  7.92884077e-01,  7.92834220e-01],\n",
       "       ...,\n",
       "       [-3.46616532e-05,  6.72693749e-01,  7.36214471e-01, ...,\n",
       "         7.83309025e-01,  7.83689151e-01,  7.83843980e-01],\n",
       "       [-7.48494147e-03,  6.04918613e-01,  6.55875540e-01, ...,\n",
       "         7.39577353e-01,  7.38724924e-01,  7.37754456e-01],\n",
       "       [-5.09598657e-04,  6.84111694e-01,  7.42569951e-01, ...,\n",
       "         8.02961584e-01,  8.03117440e-01,  8.03216098e-01]])"
      ]
     },
     "execution_count": 17,
     "metadata": {},
     "output_type": "execute_result"
    }
   ],
   "source": [
    "fitter.scores_"
   ]
  },
  {
   "cell_type": "code",
   "execution_count": 60,
   "metadata": {},
   "outputs": [
    {
     "name": "stderr",
     "output_type": "stream",
     "text": [
      "/Users/psachdeva/anaconda3/lib/python3.6/site-packages/sklearn/model_selection/_split.py:1978: FutureWarning: The default value of cv will change from 3 to 5 in version 0.22. Specify it explicitly to silence this warning.\n",
      "  warnings.warn(CV_WARNING, FutureWarning)\n"
     ]
    },
    {
     "name": "stdout",
     "output_type": "stream",
     "text": [
      "0.2140267073165072\n"
     ]
    }
   ],
   "source": [
    "from sklearn.linear_model import LassoCV\n",
    "lasso = LassoCV(normalize=True)\n",
    "lasso.fit(X_train, y_train)\n",
    "print(lasso.intercept_)"
   ]
  },
  {
   "cell_type": "code",
   "execution_count": null,
   "metadata": {},
   "outputs": [],
   "source": []
  },
  {
   "cell_type": "code",
   "execution_count": null,
   "metadata": {},
   "outputs": [],
   "source": []
  }
 ],
 "metadata": {
  "kernelspec": {
   "display_name": "Python 3 (base)",
   "language": "python",
   "name": "base"
  },
  "varInspector": {
   "cols": {
    "lenName": 16,
    "lenType": 16,
    "lenVar": 40
   },
   "kernels_config": {
    "python": {
     "delete_cmd_postfix": "",
     "delete_cmd_prefix": "del ",
     "library": "var_list.py",
     "varRefreshCmd": "print(var_dic_list())"
    },
    "r": {
     "delete_cmd_postfix": ") ",
     "delete_cmd_prefix": "rm(",
     "library": "var_list.r",
     "varRefreshCmd": "cat(var_dic_list()) "
    }
   },
   "types_to_exclude": [
    "module",
    "function",
    "builtin_function_or_method",
    "instance",
    "_Feature"
   ],
   "window_display": false
  }
 },
 "nbformat": 4,
 "nbformat_minor": 2
}
