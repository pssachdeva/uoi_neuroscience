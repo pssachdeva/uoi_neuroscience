{
 "cells": [
  {
   "cell_type": "code",
   "execution_count": 65,
   "metadata": {},
   "outputs": [],
   "source": [
    "import matplotlib.pyplot as plt\n",
    "import numpy as np\n",
    "import h5py\n",
    "\n",
    "from neuropacks import PVC11\n",
    "\n",
    "%matplotlib inline"
   ]
  },
  {
   "cell_type": "code",
   "execution_count": 2,
   "metadata": {},
   "outputs": [],
   "source": [
    "data_path = '/Users/psachdeva/data/pvc11/data/spikes_gratings/data_monkey1_gratings.mat'"
   ]
  },
  {
   "cell_type": "code",
   "execution_count": 3,
   "metadata": {},
   "outputs": [],
   "source": [
    "pvc = PVC11(data_path=data_path)\n",
    "Y = pvc.get_response_matrix(transform=None)"
   ]
  },
  {
   "cell_type": "code",
   "execution_count": 7,
   "metadata": {},
   "outputs": [],
   "source": [
    "lasso_results = h5py.File('fits/pvc11/monkey1.h5', 'r')\n",
    "poisson_results = h5py.File('fits/pvc11/poisson.h5', 'r')"
   ]
  },
  {
   "cell_type": "code",
   "execution_count": 20,
   "metadata": {},
   "outputs": [],
   "source": [
    "lasso_coefs = np.median(lasso_results['UoI_Lasso_R2/coupling_coefs'][:], axis=0)\n",
    "poisson_coefs = np.median(poisson_results['pvc11/coupling_coefs'][:], axis=0)"
   ]
  },
  {
   "cell_type": "code",
   "execution_count": 21,
   "metadata": {},
   "outputs": [],
   "source": [
    "n_neurons = lasso_coefs.shape[1]\n",
    "sr_lasso = np.count_nonzero(lasso_coefs, axis=1) / n_neurons\n",
    "sr_poisson = np.count_nonzero(poisson_coefs, axis=1) / n_neurons"
   ]
  },
  {
   "cell_type": "code",
   "execution_count": 37,
   "metadata": {},
   "outputs": [],
   "source": [
    "min_overlap = np.zeros(n_neurons)\n",
    "max_overlap = np.zeros(n_neurons)\n",
    "\n",
    "for neuron in range(n_neurons):\n",
    "    lasso = lasso_coefs[neuron]\n",
    "    poisson = poisson_coefs[neuron]\n",
    "    overlap_profile = (lasso * poisson) != 0\n",
    "    minimum = min(np.count_nonzero(lasso), np.count_nonzero(poisson))\n",
    "    maximum = max(np.count_nonzero(lasso), np.count_nonzero(poisson))\n",
    "    if minimum == 0:\n",
    "        min_overlap[neuron] = 1\n",
    "    else:\n",
    "        min_overlap[neuron] = np.count_nonzero(overlap_profile) / minimum\n",
    "        \n",
    "    max_overlap[neuron] = np.count_nonzero(overlap_profile) / maximum"
   ]
  },
  {
   "cell_type": "code",
   "execution_count": 64,
   "metadata": {},
   "outputs": [
    {
     "data": {
      "image/png": "[encoded data removed]",
      "text/plain": [
       "<Figure size 648x216 with 3 Axes>"
      ]
     },
     "metadata": {
      "needs_background": "light"
     },
     "output_type": "display_data"
    }
   ],
   "source": [
    "fig, axes = plt.subplots(1, 3, figsize=(9, 3.))\n",
    "\n",
    "axes[0].scatter(sr_lasso, sr_poisson, s=20, color='k', alpha=0.75, edgecolor='white')\n",
    "axes[0].set_xlim([0, 1])\n",
    "axes[0].set_ylim([0, 1])\n",
    "axes[0].set_xticks([0, 1])\n",
    "axes[0].set_yticks([0, 1])\n",
    "axes[0].plot([0, 1], [0, 1], color='k', linewidth=3)\n",
    "axes[0].set_xlabel(r'\\textbf{UoI}$_{\\textbf{Lasso}}$', fontsize=15)\n",
    "axes[0].set_ylabel(r'\\textbf{UoI}$_{\\textbf{Poisson}}$', fontsize=15)\n",
    "axes[0].set_title(r'\\textbf{Selection}' '\\n' r'\\textbf{Ratio}', fontsize=15)\n",
    "axes[0].set_aspect('equal')\n",
    "axes[0].tick_params(labelsize=15)\n",
    "\n",
    "axes[1].hist(min_overlap, color='gray')\n",
    "axes[1].set_xlim([0, 1])\n",
    "axes[1].set_xticks([0, 0.5, 1])\n",
    "axes[1].tick_params(labelsize=15)\n",
    "axes[1].set_ylim([0, 40])\n",
    "axes[1].set_yticks([0, 20, 40])\n",
    "axes[1].set_ylabel(r'\\textbf{Frequency}', fontsize=15)\n",
    "axes[1].set_title(r'\\textbf{Min Overlap}', fontsize=15)\n",
    "\n",
    "axes[2].hist(max_overlap, color='gray')\n",
    "axes[2].set_xlim([0, 1])\n",
    "axes[2].set_xticks([0, 0.5, 1])\n",
    "axes[2].tick_params(labelsize=15)\n",
    "axes[2].set_ylim([0, 40])\n",
    "axes[2].set_yticks([0, 20, 40])\n",
    "axes[2].set_title(r'\\textbf{Max Overlap}', fontsize=15)\n",
    "\n",
    "\n",
    "plt.tight_layout()\n",
    "plt.savefig('poisson_lasso.pdf', bbox_inches='tight')"
   ]
  },
  {
   "cell_type": "code",
   "execution_count": null,
   "metadata": {},
   "outputs": [],
   "source": []
  }
 ],
 "metadata": {
  "kernelspec": {
   "display_name": "Python 3 (base)",
   "language": "python",
   "name": "base"
  },
  "language_info": {
   "codemirror_mode": {
    "name": "ipython",
    "version": 3
   },
   "file_extension": ".py",
   "mimetype": "text/x-python",
   "name": "python",
   "nbconvert_exporter": "python",
   "pygments_lexer": "ipython3",
   "version": "3.6.8"
  },
  "varInspector": {
   "cols": {
    "lenName": 16,
    "lenType": 16,
    "lenVar": 40
   },
   "kernels_config": {
    "python": {
     "delete_cmd_postfix": "",
     "delete_cmd_prefix": "del ",
     "library": "var_list.py",
     "varRefreshCmd": "print(var_dic_list())"
    },
    "r": {
     "delete_cmd_postfix": ") ",
     "delete_cmd_prefix": "rm(",
     "library": "var_list.r",
     "varRefreshCmd": "cat(var_dic_list()) "
    }
   },
   "types_to_exclude": [
    "module",
    "function",
    "builtin_function_or_method",
    "instance",
    "_Feature"
   ],
   "window_display": false
  }
 },
 "nbformat": 4,
 "nbformat_minor": 2
}
