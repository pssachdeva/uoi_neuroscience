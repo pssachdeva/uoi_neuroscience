{
 "cells": [
  {
   "cell_type": "code",
   "execution_count": 1,
   "metadata": {},
   "outputs": [],
   "source": [
    "import matplotlib.pyplot as plt\n",
    "import numpy as np\n",
    "import h5py\n",
    "\n",
    "from neuropacks import PVC11\n",
    "from sem import SEMSolver\n",
    "from sklearn.linear_model import LassoCV\n",
    "from sklearn.metrics import r2_score\n",
    "from sklearn.preprocessing import StandardScaler\n",
    "from pyuoi.linear_model import Poisson\n",
    "from pyuoi.linear_model import UoI_Poisson\n",
    "\n",
    "%matplotlib inline"
   ]
  },
  {
   "cell_type": "code",
   "execution_count": 2,
   "metadata": {},
   "outputs": [],
   "source": [
    "data_path = '/Users/psachdeva/data/pvc11/data/spikes_gratings/data_monkey1_gratings.mat'"
   ]
  },
  {
   "cell_type": "code",
   "execution_count": 3,
   "metadata": {},
   "outputs": [],
   "source": [
    "pvc = PVC11(data_path=data_path)"
   ]
  },
  {
   "cell_type": "code",
   "execution_count": 4,
   "metadata": {},
   "outputs": [],
   "source": [
    "Y = pvc.get_response_matrix(transform=None)\n"
   ]
  },
  {
   "cell_type": "code",
   "execution_count": 6,
   "metadata": {},
   "outputs": [],
   "source": [
    "poisson = UoI_Poisson(\n",
    "    lambdas=np.array([np.logspace(start=3.5, stop=0, num=30)]),\n",
    "    normalize=True,\n",
    "    n_boots_sel=30,\n",
    "    n_boots_est=30,\n",
    "    selection_frac=0.8,\n",
    "    estimation_frac=0.8,\n",
    "    solver='proximal_grad',\n",
    "    estimation_score='log',\n",
    ")"
   ]
  },
  {
   "cell_type": "code",
   "execution_count": 9,
   "metadata": {},
   "outputs": [
    {
     "name": "stderr",
     "output_type": "stream",
     "text": [
      "/Users/psachdeva/anaconda3/lib/python3.7/site-packages/numpy/core/_methods.py:36: RuntimeWarning: overflow encountered in reduce\n",
      "  return umr_sum(a, axis, dtype, out, keepdims, initial)\n"
     ]
    },
    {
     "data": {
      "text/plain": [
       "UoI_Poisson(alphas=array([1]), comm=None, copy_X=True, eps=0.001,\n",
       "      estimation_frac=0.8, estimation_score='log', fit_intercept=True,\n",
       "      lambdas=array([[3.16228e+03, 2.39503e+03, 1.81393e+03, 1.37382e+03, 1.04050e+03,\n",
       "        7.88046e+02, 5.96846e+02, 4.52035e+02, 3.42360e+02, 2.59294e+02,\n",
       "        1.96383e+02, 1.48735e+02, 1.12648e+02, 8.53168e+01, 6.46167e+01,\n",
       "        4.89390e+01, 3.70651e+01, 2.80722e+01, 2.12611e+01, 1.61026e+01,\n",
       "        1.21957e+01, 9.23671e+00, 6.99564e+00, 5.29832e+00, 4.01281e+00,\n",
       "        3.03920e+00, 2.30181e+00, 1.74333e+00, 1.32035e+00, 1.00000e+00]]),\n",
       "      max_iter=None, n_boots_est=30, n_boots_sel=30, n_lambdas=48,\n",
       "      normalize=True,\n",
       "      random_state=<module 'numpy.random' from '/Users/psachdeva/anaconda3/lib/python3.7/site-packages/numpy/random/__init__.py'>,\n",
       "      selection_frac=0.8, solver='proximal_grad', stability_selection=1.0,\n",
       "      tol=None, warm_start=True)"
      ]
     },
     "execution_count": 9,
     "metadata": {},
     "output_type": "execute_result"
    }
   ],
   "source": [
    "poisson.fit(np.delete(Y, 0, axis=1), Y[:, 0])"
   ]
  },
  {
   "cell_type": "code",
   "execution_count": 12,
   "metadata": {},
   "outputs": [],
   "source": [
    "solver = SEMSolver(Y=Y)"
   ]
  },
  {
   "cell_type": "code",
   "execution_count": 17,
   "metadata": {},
   "outputs": [
    {
     "name": "stdout",
     "output_type": "stream",
     "text": [
      "Fold 0\n",
      "Target  0\n"
     ]
    },
    {
     "name": "stderr",
     "output_type": "stream",
     "text": [
      "/Users/psachdeva/anaconda3/lib/python3.7/site-packages/numpy/core/_methods.py:36: RuntimeWarning: overflow encountered in reduce\n",
      "  return umr_sum(a, axis, dtype, out, keepdims, initial)\n"
     ]
    },
    {
     "name": "stdout",
     "output_type": "stream",
     "text": [
      "Fold 1\n",
      "Target  0\n",
      "Fold 2\n",
      "Target  0\n"
     ]
    },
    {
     "name": "stderr",
     "output_type": "stream",
     "text": [
      "/Users/psachdeva/anaconda3/lib/python3.7/site-packages/numpy/core/_methods.py:36: RuntimeWarning: overflow encountered in reduce\n",
      "  return umr_sum(a, axis, dtype, out, keepdims, initial)\n"
     ]
    },
    {
     "name": "stdout",
     "output_type": "stream",
     "text": [
      "Fold 3\n",
      "Target  0\n"
     ]
    },
    {
     "name": "stderr",
     "output_type": "stream",
     "text": [
      "/Users/psachdeva/anaconda3/lib/python3.7/site-packages/numpy/core/_methods.py:36: RuntimeWarning: overflow encountered in reduce\n",
      "  return umr_sum(a, axis, dtype, out, keepdims, initial)\n",
      "/Users/psachdeva/anaconda3/lib/python3.7/site-packages/numpy/core/_methods.py:36: RuntimeWarning: overflow encountered in reduce\n",
      "  return umr_sum(a, axis, dtype, out, keepdims, initial)\n"
     ]
    },
    {
     "name": "stdout",
     "output_type": "stream",
     "text": [
      "Fold 4\n",
      "Target  0\n",
      "Fold 5\n",
      "Target  0\n",
      "Fold 6\n",
      "Target  0\n",
      "Fold 7\n",
      "Target  0\n",
      "Fold 8\n",
      "Target  0\n"
     ]
    },
    {
     "name": "stderr",
     "output_type": "stream",
     "text": [
      "/Users/psachdeva/anaconda3/lib/python3.7/site-packages/numpy/core/_methods.py:36: RuntimeWarning: overflow encountered in reduce\n",
      "  return umr_sum(a, axis, dtype, out, keepdims, initial)\n",
      "/Users/psachdeva/anaconda3/lib/python3.7/site-packages/numpy/core/_methods.py:36: RuntimeWarning: overflow encountered in reduce\n",
      "  return umr_sum(a, axis, dtype, out, keepdims, initial)\n"
     ]
    },
    {
     "name": "stdout",
     "output_type": "stream",
     "text": [
      "Fold 9\n",
      "Target  0\n"
     ]
    },
    {
     "name": "stderr",
     "output_type": "stream",
     "text": [
      "/Users/psachdeva/anaconda3/lib/python3.7/site-packages/numpy/core/_methods.py:36: RuntimeWarning: overflow encountered in reduce\n",
      "  return umr_sum(a, axis, dtype, out, keepdims, initial)\n"
     ]
    }
   ],
   "source": [
    "results = solver.estimation(\n",
    "    model='c',\n",
    "    method='UoI_Poisson',\n",
    "    class_labels=None,\n",
    "    targets=[0],\n",
    "    n_folds=10,\n",
    "    random_state=2332,\n",
    "    metrics=[],\n",
    "    verbose=True,\n",
    "\n",
    "    # general options\n",
    "    normalize=True,\n",
    "\n",
    "    # UoI Poisson specific\n",
    "    n_boots_sel=30,\n",
    "    n_boots_est=30,\n",
    "    selection_frac=0.8,\n",
    "    estimation_frac=0.8,\n",
    ")"
   ]
  },
  {
   "cell_type": "code",
   "execution_count": null,
   "metadata": {},
   "outputs": [],
   "source": []
  }
 ],
 "metadata": {
  "kernelspec": {
   "display_name": "Python 3 (base)",
   "language": "python",
   "name": "base"
  },
  "language_info": {
   "codemirror_mode": {
    "name": "ipython",
    "version": 3
   },
   "file_extension": ".py",
   "mimetype": "text/x-python",
   "name": "python",
   "nbconvert_exporter": "python",
   "pygments_lexer": "ipython3",
   "version": "3.7.1"
  },
  "varInspector": {
   "cols": {
    "lenName": 16,
    "lenType": 16,
    "lenVar": 40
   },
   "kernels_config": {
    "python": {
     "delete_cmd_postfix": "",
     "delete_cmd_prefix": "del ",
     "library": "var_list.py",
     "varRefreshCmd": "print(var_dic_list())"
    },
    "r": {
     "delete_cmd_postfix": ") ",
     "delete_cmd_prefix": "rm(",
     "library": "var_list.r",
     "varRefreshCmd": "cat(var_dic_list()) "
    }
   },
   "types_to_exclude": [
    "module",
    "function",
    "builtin_function_or_method",
    "instance",
    "_Feature"
   ],
   "window_display": false
  }
 },
 "nbformat": 4,
 "nbformat_minor": 2
}
