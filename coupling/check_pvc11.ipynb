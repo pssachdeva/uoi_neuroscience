{
 "cells": [
  {
   "cell_type": "code",
   "execution_count": 1,
   "metadata": {},
   "outputs": [],
   "source": [
    "import numpy as np\n",
    "import h5py\n",
    "\n",
    "from sklearn.linear_model import LassoCV\n",
    "from sklearn.metrics import r2_score\n",
    "\n",
    "from neuropacks import PVC11\n",
    "from pyuoi.linear_model import Poisson\n",
    "from pyuoi.linear_model import UoI_Poisson"
   ]
  },
  {
   "cell_type": "code",
   "execution_count": 2,
   "metadata": {},
   "outputs": [],
   "source": [
    "pvc = PVC11(data_path='/Users/psachdeva/data/pvc11/data/spikes_gratings/data_monkey1_gratings.mat')"
   ]
  },
  {
   "cell_type": "code",
   "execution_count": 3,
   "metadata": {},
   "outputs": [],
   "source": [
    "Y = pvc.get_response_matrix(transform='square_root')"
   ]
  },
  {
   "cell_type": "code",
   "execution_count": 4,
   "metadata": {},
   "outputs": [
    {
     "data": {
      "text/plain": [
       "array([[1000.        ,  788.04628157,  621.01694189,  489.39009185,\n",
       "         385.66204212,  303.91953823,  239.502662  ,  188.73918221,\n",
       "         148.73521073,  117.21022975,   92.36708572,   72.78953844,\n",
       "          57.3615251 ,   45.20353656,   35.6224789 ,   28.07216204,\n",
       "          22.12216291,   17.43328822,   13.73823796,   10.82636734,\n",
       "           8.53167852,    6.72335754,    5.29831691,    4.17531894,\n",
       "           3.29034456,    2.5929438 ,    2.04335972,    1.61026203,\n",
       "           1.268961  ,    1.        ]])"
      ]
     },
     "execution_count": 4,
     "metadata": {},
     "output_type": "execute_result"
    }
   ],
   "source": [
    "np.array([np.logspace(start=3, stop=0, num=30)])"
   ]
  },
  {
   "cell_type": "code",
   "execution_count": 5,
   "metadata": {},
   "outputs": [],
   "source": [
    "uoipoisson = UoI_Poisson(\n",
    "    lambdas=np.array([np.logspace(start=3, stop=0, num=30)]),\n",
    "    normalize=False,\n",
    "    n_boots_sel=30,\n",
    "    n_boots_est=30,\n",
    "    selection_frac=0.8,\n",
    "    estimation_frac=0.8,\n",
    "    solver='proximal_grad'\n",
    ")"
   ]
  },
  {
   "cell_type": "code",
   "execution_count": 9,
   "metadata": {},
   "outputs": [],
   "source": [
    "f = h5py.File('test.h5', 'w')\n",
    "f['X'] = np.delete(Y, 3, axis=1)\n",
    "f['y'] = Y[:, 3]\n",
    "f.close()"
   ]
  },
  {
   "cell_type": "code",
   "execution_count": 7,
   "metadata": {},
   "outputs": [
    {
     "data": {
      "text/plain": [
       "UoI_Poisson(alphas=array([1]), comm=None, copy_X=True, eps=0.001,\n",
       "      estimation_frac=0.8, estimation_score='log', fit_intercept=True,\n",
       "      lambdas=array([[1000.     ,  788.04628,  621.01694,  489.39009,  385.66204,\n",
       "         303.91954,  239.50266,  188.73918,  148.73521,  117.21023,\n",
       "          92.36709,   72.78954,   57.36153,   45.20354,   35.62248,\n",
       "          28.07216,   22.12216,   17.43329,   13.73824,   10.82637,\n",
       "           8.53168,    6.72336,    5.29832,    4.17532,    3.29034,\n",
       "           2.59294,    2.04336,    1.61026,    1.26896,    1.     ]]),\n",
       "      max_iter=None, n_boots_est=30, n_boots_sel=30, n_lambdas=48,\n",
       "      normalize=False,\n",
       "      random_state=<module 'numpy.random' from '/Users/psachdeva/anaconda3/lib/python3.6/site-packages/numpy/random/__init__.py'>,\n",
       "      selection_frac=0.8, solver='proximal_grad', stability_selection=1.0,\n",
       "      tol=None, warm_start=True)"
      ]
     },
     "execution_count": 7,
     "metadata": {},
     "output_type": "execute_result"
    }
   ],
   "source": [
    "uoipoisson.fit(np.delete(Y, 3, axis=1), Y[:, 3])"
   ]
  },
  {
   "cell_type": "code",
   "execution_count": 12,
   "metadata": {},
   "outputs": [
    {
     "data": {
      "text/plain": [
       "39"
      ]
     },
     "execution_count": 12,
     "metadata": {},
     "output_type": "execute_result"
    }
   ],
   "source": [
    "np.count_nonzero(uoipoisson.coef_)"
   ]
  },
  {
   "cell_type": "code",
   "execution_count": 11,
   "metadata": {},
   "outputs": [
    {
     "data": {
      "text/plain": [
       "-0.26496964945858215"
      ]
     },
     "execution_count": 11,
     "metadata": {},
     "output_type": "execute_result"
    }
   ],
   "source": [
    "uoipoisson.intercept_"
   ]
  },
  {
   "cell_type": "code",
   "execution_count": 7,
   "metadata": {},
   "outputs": [
    {
     "data": {
      "text/plain": [
       "array([10.        ,  8.53167852,  7.27895384,  6.21016942,  5.29831691,\n",
       "        4.52035366,  3.85662042,  3.29034456,  2.8072162 ,  2.39502662,\n",
       "        2.04335972,  1.74332882,  1.48735211,  1.268961  ,  1.08263673,\n",
       "        0.92367086,  0.78804628,  0.67233575,  0.57361525,  0.48939009,\n",
       "        0.41753189,  0.35622479,  0.30391954,  0.25929438,  0.22122163,\n",
       "        0.18873918,  0.1610262 ,  0.13738238,  0.11721023,  0.1       ])"
      ]
     },
     "execution_count": 7,
     "metadata": {},
     "output_type": "execute_result"
    }
   ],
   "source": [
    "np.logspace(start=np.log10(10), stop=-1, num=30)"
   ]
  },
  {
   "cell_type": "code",
   "execution_count": 20,
   "metadata": {},
   "outputs": [
    {
     "name": "stdout",
     "output_type": "stream",
     "text": [
      "[0.         0.12508932 0.         0.         0.         0.\n",
      " 0.         0.         0.         0.         0.         0.\n",
      " 0.         0.         0.         0.         0.         0.\n",
      " 0.         0.         0.         0.         0.         0.\n",
      " 0.         0.         0.         0.         0.         0.\n",
      " 0.         0.         0.         0.         0.         0.\n",
      " 0.         0.         0.         0.         0.         0.\n",
      " 0.         0.         0.         0.03114472 0.         0.\n",
      " 0.         0.         0.         0.         0.         0.\n",
      " 0.         0.         0.         0.         0.         0.\n",
      " 0.         0.         0.         0.         0.         0.\n",
      " 0.         0.         0.         0.         0.         0.\n",
      " 0.         0.         0.         0.         0.         0.\n",
      " 0.         0.         0.         0.         0.         0.00768411\n",
      " 0.         0.         0.         0.         0.         0.\n",
      " 0.         0.         0.00132911 0.         0.         0.\n",
      " 0.         0.         0.         0.         0.         0.\n",
      " 0.         0.         0.        ]\n"
     ]
    }
   ],
   "source": [
    "from dask_ml.linear_model import PoissonRegression\n",
    "poisson = PoissonRegression(\n",
    "    penalty='l1',\n",
    "    C=0.001,\n",
    "    solver='proximal_grad'\n",
    ")\n",
    "neuron = 1\n",
    "poisson.fit(np.delete(Y, 2, axis=1), Y[:, 2])\n",
    "print(poisson.coef_)"
   ]
  },
  {
   "cell_type": "code",
   "execution_count": 6,
   "metadata": {},
   "outputs": [],
   "source": [
    "neuron = 5\n",
    "fold = 3"
   ]
  },
  {
   "cell_type": "code",
   "execution_count": 8,
   "metadata": {},
   "outputs": [],
   "source": [
    "training_idx = f['LassoCV/training_folds/fold_' + str(fold)][:]\n",
    "test_idx = f['LassoCV/test_folds/fold_' + str(fold)][:]\n",
    "\n",
    "X_train = np.delete(Y[training_idx], neuron, axis=1)\n",
    "y_train = Y[training_idx][:, neuron]\n",
    "\n",
    "X_test = np.delete(Y[test_idx], neuron, axis=1)\n",
    "y_test = Y[test_idx][:, neuron]"
   ]
  },
  {
   "cell_type": "code",
   "execution_count": 9,
   "metadata": {},
   "outputs": [
    {
     "data": {
      "text/plain": [
       "LassoCV(alphas=None, copy_X=True, cv=10, eps=0.001, fit_intercept=True,\n",
       "    max_iter=5000, n_alphas=100, n_jobs=None, normalize=True,\n",
       "    positive=False, precompute='auto', random_state=None,\n",
       "    selection='cyclic', tol=0.0001, verbose=False)"
      ]
     },
     "execution_count": 9,
     "metadata": {},
     "output_type": "execute_result"
    }
   ],
   "source": [
    "lasso = LassoCV(normalize=True, cv=10, max_iter=5000)\n",
    "lasso.fit(X_train, y_train)"
   ]
  },
  {
   "cell_type": "code",
   "execution_count": 10,
   "metadata": {},
   "outputs": [
    {
     "name": "stdout",
     "output_type": "stream",
     "text": [
      "0.22239894256507453\n",
      "0.22239894256507542\n"
     ]
    }
   ],
   "source": [
    "print(lasso.intercept_)\n",
    "print(f['LassoCV/intercepts'][fold, neuron])"
   ]
  },
  {
   "cell_type": "code",
   "execution_count": 11,
   "metadata": {},
   "outputs": [
    {
     "name": "stdout",
     "output_type": "stream",
     "text": [
      "[-0.          0.16363471  0.          0.         -0.         -0.\n",
      "  0.          0.01393437  0.04190941 -0.          0.01952771  0.\n",
      " -0.09287486  0.          0.00828941  0.02609144  0.          0.01845543\n",
      "  0.09875288  0.          0.06589219  0.03143587  0.01697798  0.\n",
      " -0.          0.         -0.          0.04368621  0.          0.\n",
      "  0.          0.          0.03344687 -0.          0.          0.\n",
      "  0.          0.01829595  0.          0.03153687  0.04089385  0.01966991\n",
      "  0.09854164  0.         -0.          0.02535765  0.02887826  0.02324685\n",
      "  0.02146969  0.         -0.          0.03565194  0.08730009  0.02677577\n",
      "  0.          0.         -0.         -0.         -0.01156719 -0.\n",
      " -0.          0.          0.          0.          0.         -0.\n",
      "  0.          0.          0.          0.         -0.          0.02507811\n",
      " -0.         -0.          0.06911213  0.          0.03147191  0.01703257\n",
      "  0.00654002  0.          0.          0.06061753  0.00018145  0.0644977\n",
      "  0.05298076  0.          0.00507309  0.04688395  0.02542625  0.\n",
      " -0.          0.02377022  0.          0.         -0.          0.00071973\n",
      "  0.04460704 -0.0705157  -0.02132888  0.         -0.          0.01235661\n",
      "  0.02611577  0.01312544  0.        ]\n",
      "[-0.          0.16363471  0.          0.         -0.          0.\n",
      " -0.          0.          0.01393437  0.04190941 -0.          0.01952771\n",
      "  0.         -0.09287486  0.          0.00828941  0.02609144  0.\n",
      "  0.01845543  0.09875288  0.          0.06589219  0.03143587  0.01697798\n",
      "  0.         -0.          0.         -0.          0.04368621  0.\n",
      "  0.          0.          0.          0.03344687 -0.          0.\n",
      "  0.          0.          0.01829595  0.          0.03153687  0.04089385\n",
      "  0.01966991  0.09854164  0.         -0.          0.02535765  0.02887826\n",
      "  0.02324685  0.02146969  0.         -0.          0.03565194  0.08730009\n",
      "  0.02677577  0.          0.         -0.         -0.         -0.01156719\n",
      " -0.         -0.          0.          0.          0.          0.\n",
      " -0.          0.          0.          0.          0.         -0.\n",
      "  0.02507811 -0.         -0.          0.06911213  0.          0.03147191\n",
      "  0.01703257  0.00654002  0.          0.          0.06061753  0.00018145\n",
      "  0.0644977   0.05298076  0.          0.00507309  0.04688395  0.02542625\n",
      "  0.         -0.          0.02377022  0.          0.         -0.\n",
      "  0.00071973  0.04460704 -0.0705157  -0.02132888  0.         -0.\n",
      "  0.01235661  0.02611577  0.01312544  0.        ]\n"
     ]
    }
   ],
   "source": [
    "print(lasso.coef_)\n",
    "print(f['LassoCV/coupling_coefs'][fold, neuron, :])"
   ]
  },
  {
   "cell_type": "code",
   "execution_count": 12,
   "metadata": {},
   "outputs": [
    {
     "name": "stdout",
     "output_type": "stream",
     "text": [
      "0.6700381348012396\n",
      "0.6700381348012396\n"
     ]
    }
   ],
   "source": [
    "print(r2_score(y_test, np.dot(X_test, lasso.coef_) + lasso.intercept_))\n",
    "print(f['LassoCV/r2'][fold, neuron])"
   ]
  }
 ],
 "metadata": {
  "kernelspec": {
   "display_name": "Python 3 (base)",
   "language": "python",
   "name": "base"
  },
  "language_info": {
   "codemirror_mode": {
    "name": "ipython",
    "version": 3
   },
   "file_extension": ".py",
   "mimetype": "text/x-python",
   "name": "python",
   "nbconvert_exporter": "python",
   "pygments_lexer": "ipython3",
   "version": "3.6.8"
  },
  "varInspector": {
   "cols": {
    "lenName": 16,
    "lenType": 16,
    "lenVar": 40
   },
   "kernels_config": {
    "python": {
     "delete_cmd_postfix": "",
     "delete_cmd_prefix": "del ",
     "library": "var_list.py",
     "varRefreshCmd": "print(var_dic_list())"
    },
    "r": {
     "delete_cmd_postfix": ") ",
     "delete_cmd_prefix": "rm(",
     "library": "var_list.r",
     "varRefreshCmd": "cat(var_dic_list()) "
    }
   },
   "types_to_exclude": [
    "module",
    "function",
    "builtin_function_or_method",
    "instance",
    "_Feature"
   ],
   "window_display": false
  }
 },
 "nbformat": 4,
 "nbformat_minor": 2
}
