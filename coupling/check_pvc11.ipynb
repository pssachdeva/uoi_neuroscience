{
 "cells": [
  {
   "cell_type": "code",
   "execution_count": 1,
   "metadata": {},
   "outputs": [],
   "source": [
    "import numpy as np\n",
    "import h5py\n",
    "\n",
    "from sklearn.linear_model import LassoCV\n",
    "from sklearn.metrics import r2_score\n",
    "\n",
    "from neuropacks import PVC11"
   ]
  },
  {
   "cell_type": "code",
   "execution_count": 2,
   "metadata": {},
   "outputs": [],
   "source": [
    "pvc = PVC11(data_path='/Users/psachdeva/data/pvc11/data/spikes_gratings/data_monkey1_gratings.mat')"
   ]
  },
  {
   "cell_type": "code",
   "execution_count": 3,
   "metadata": {},
   "outputs": [],
   "source": [
    "Y = pvc.get_response_matrix(transform='square_root')"
   ]
  },
  {
   "cell_type": "code",
   "execution_count": 4,
   "metadata": {},
   "outputs": [],
   "source": [
    "f = h5py.File('fits/monkey1.h5', 'r')"
   ]
  },
  {
   "cell_type": "code",
   "execution_count": 6,
   "metadata": {},
   "outputs": [],
   "source": [
    "neuron = 5\n",
    "fold = 3"
   ]
  },
  {
   "cell_type": "code",
   "execution_count": 8,
   "metadata": {},
   "outputs": [],
   "source": [
    "training_idx = f['LassoCV/training_folds/fold_' + str(fold)][:]\n",
    "test_idx = f['LassoCV/test_folds/fold_' + str(fold)][:]\n",
    "\n",
    "X_train = np.delete(Y[training_idx], neuron, axis=1)\n",
    "y_train = Y[training_idx][:, neuron]\n",
    "\n",
    "X_test = np.delete(Y[test_idx], neuron, axis=1)\n",
    "y_test = Y[test_idx][:, neuron]"
   ]
  },
  {
   "cell_type": "code",
   "execution_count": 9,
   "metadata": {},
   "outputs": [
    {
     "data": {
      "text/plain": [
       "LassoCV(alphas=None, copy_X=True, cv=10, eps=0.001, fit_intercept=True,\n",
       "    max_iter=5000, n_alphas=100, n_jobs=None, normalize=True,\n",
       "    positive=False, precompute='auto', random_state=None,\n",
       "    selection='cyclic', tol=0.0001, verbose=False)"
      ]
     },
     "execution_count": 9,
     "metadata": {},
     "output_type": "execute_result"
    }
   ],
   "source": [
    "lasso = LassoCV(normalize=True, cv=10, max_iter=5000)\n",
    "lasso.fit(X_train, y_train)"
   ]
  },
  {
   "cell_type": "code",
   "execution_count": 10,
   "metadata": {},
   "outputs": [
    {
     "name": "stdout",
     "output_type": "stream",
     "text": [
      "0.22239894256507453\n",
      "0.22239894256507542\n"
     ]
    }
   ],
   "source": [
    "print(lasso.intercept_)\n",
    "print(f['LassoCV/intercepts'][fold, neuron])"
   ]
  },
  {
   "cell_type": "code",
   "execution_count": 11,
   "metadata": {},
   "outputs": [
    {
     "name": "stdout",
     "output_type": "stream",
     "text": [
      "[-0.          0.16363471  0.          0.         -0.         -0.\n",
      "  0.          0.01393437  0.04190941 -0.          0.01952771  0.\n",
      " -0.09287486  0.          0.00828941  0.02609144  0.          0.01845543\n",
      "  0.09875288  0.          0.06589219  0.03143587  0.01697798  0.\n",
      " -0.          0.         -0.          0.04368621  0.          0.\n",
      "  0.          0.          0.03344687 -0.          0.          0.\n",
      "  0.          0.01829595  0.          0.03153687  0.04089385  0.01966991\n",
      "  0.09854164  0.         -0.          0.02535765  0.02887826  0.02324685\n",
      "  0.02146969  0.         -0.          0.03565194  0.08730009  0.02677577\n",
      "  0.          0.         -0.         -0.         -0.01156719 -0.\n",
      " -0.          0.          0.          0.          0.         -0.\n",
      "  0.          0.          0.          0.         -0.          0.02507811\n",
      " -0.         -0.          0.06911213  0.          0.03147191  0.01703257\n",
      "  0.00654002  0.          0.          0.06061753  0.00018145  0.0644977\n",
      "  0.05298076  0.          0.00507309  0.04688395  0.02542625  0.\n",
      " -0.          0.02377022  0.          0.         -0.          0.00071973\n",
      "  0.04460704 -0.0705157  -0.02132888  0.         -0.          0.01235661\n",
      "  0.02611577  0.01312544  0.        ]\n",
      "[-0.          0.16363471  0.          0.         -0.          0.\n",
      " -0.          0.          0.01393437  0.04190941 -0.          0.01952771\n",
      "  0.         -0.09287486  0.          0.00828941  0.02609144  0.\n",
      "  0.01845543  0.09875288  0.          0.06589219  0.03143587  0.01697798\n",
      "  0.         -0.          0.         -0.          0.04368621  0.\n",
      "  0.          0.          0.          0.03344687 -0.          0.\n",
      "  0.          0.          0.01829595  0.          0.03153687  0.04089385\n",
      "  0.01966991  0.09854164  0.         -0.          0.02535765  0.02887826\n",
      "  0.02324685  0.02146969  0.         -0.          0.03565194  0.08730009\n",
      "  0.02677577  0.          0.         -0.         -0.         -0.01156719\n",
      " -0.         -0.          0.          0.          0.          0.\n",
      " -0.          0.          0.          0.          0.         -0.\n",
      "  0.02507811 -0.         -0.          0.06911213  0.          0.03147191\n",
      "  0.01703257  0.00654002  0.          0.          0.06061753  0.00018145\n",
      "  0.0644977   0.05298076  0.          0.00507309  0.04688395  0.02542625\n",
      "  0.         -0.          0.02377022  0.          0.         -0.\n",
      "  0.00071973  0.04460704 -0.0705157  -0.02132888  0.         -0.\n",
      "  0.01235661  0.02611577  0.01312544  0.        ]\n"
     ]
    }
   ],
   "source": [
    "print(lasso.coef_)\n",
    "print(f['LassoCV/coupling_coefs'][fold, neuron, :])"
   ]
  },
  {
   "cell_type": "code",
   "execution_count": 12,
   "metadata": {},
   "outputs": [
    {
     "name": "stdout",
     "output_type": "stream",
     "text": [
      "0.6700381348012396\n",
      "0.6700381348012396\n"
     ]
    }
   ],
   "source": [
    "print(r2_score(y_test, np.dot(X_test, lasso.coef_) + lasso.intercept_))\n",
    "print(f['LassoCV/r2'][fold, neuron])"
   ]
  }
 ],
 "metadata": {
  "kernelspec": {
   "display_name": "Python [conda env:anaconda3]",
   "language": "python",
   "name": "conda-env-anaconda3-py"
  },
  "language_info": {
   "codemirror_mode": {
    "name": "ipython",
    "version": 3
   },
   "file_extension": ".py",
   "mimetype": "text/x-python",
   "name": "python",
   "nbconvert_exporter": "python",
   "pygments_lexer": "ipython3",
   "version": "3.6.5"
  },
  "varInspector": {
   "cols": {
    "lenName": 16,
    "lenType": 16,
    "lenVar": 40
   },
   "kernels_config": {
    "python": {
     "delete_cmd_postfix": "",
     "delete_cmd_prefix": "del ",
     "library": "var_list.py",
     "varRefreshCmd": "print(var_dic_list())"
    },
    "r": {
     "delete_cmd_postfix": ") ",
     "delete_cmd_prefix": "rm(",
     "library": "var_list.r",
     "varRefreshCmd": "cat(var_dic_list()) "
    }
   },
   "types_to_exclude": [
    "module",
    "function",
    "builtin_function_or_method",
    "instance",
    "_Feature"
   ],
   "window_display": false
  }
 },
 "nbformat": 4,
 "nbformat_minor": 2
}
