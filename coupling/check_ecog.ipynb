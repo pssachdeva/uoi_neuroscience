{
 "cells": [
  {
   "cell_type": "code",
   "execution_count": 1,
   "metadata": {},
   "outputs": [],
   "source": [
    "import numpy as np\n",
    "import h5py\n",
    "\n",
    "from sklearn.linear_model import LassoCV\n",
    "from sklearn.metrics import r2_score\n",
    "\n",
    "from neuropacks import ECOG"
   ]
  },
  {
   "cell_type": "code",
   "execution_count": 2,
   "metadata": {},
   "outputs": [],
   "source": [
    "ecog = ECOG(data_path='/Users/psachdeva/data/ECoG/data/r32_b7.mat')"
   ]
  },
  {
   "cell_type": "code",
   "execution_count": 3,
   "metadata": {},
   "outputs": [],
   "source": [
    "Y = ecog.get_response_matrix(bounds=(40,60), band='HG')"
   ]
  },
  {
   "cell_type": "code",
   "execution_count": 6,
   "metadata": {},
   "outputs": [],
   "source": [
    "f = h5py.File('fits/ecog/ecog.h5', 'r')"
   ]
  },
  {
   "cell_type": "code",
   "execution_count": 12,
   "metadata": {},
   "outputs": [],
   "source": [
    "electrode = 3\n",
    "fold = 5"
   ]
  },
  {
   "cell_type": "code",
   "execution_count": 14,
   "metadata": {},
   "outputs": [],
   "source": [
    "training_idx = f['Lasso_HG/training_folds/fold_' + str(fold)][:]\n",
    "test_idx = f['Lasso_HG/test_folds/fold_' + str(fold)][:]\n",
    "\n",
    "X_train = np.delete(Y[training_idx], electrode, axis=1)\n",
    "y_train = Y[training_idx][:, electrode]\n",
    "\n",
    "X_test = np.delete(Y[test_idx], electrode, axis=1)\n",
    "y_test = Y[test_idx][:, electrode]"
   ]
  },
  {
   "cell_type": "code",
   "execution_count": 17,
   "metadata": {},
   "outputs": [
    {
     "data": {
      "text/plain": [
       "LassoCV(alphas=None, copy_X=True, cv=10, eps=0.001, fit_intercept=True,\n",
       "    max_iter=5000, n_alphas=100, n_jobs=None, normalize=True,\n",
       "    positive=False, precompute='auto', random_state=None,\n",
       "    selection='cyclic', tol=0.0001, verbose=False)"
      ]
     },
     "execution_count": 17,
     "metadata": {},
     "output_type": "execute_result"
    }
   ],
   "source": [
    "lasso = LassoCV(normalize=True, cv=10, max_iter=5000)\n",
    "lasso.fit(X_train, y_train)"
   ]
  },
  {
   "cell_type": "code",
   "execution_count": 19,
   "metadata": {},
   "outputs": [
    {
     "name": "stdout",
     "output_type": "stream",
     "text": [
      "-0.0031951507322683925\n",
      "-0.0031951507322685035\n"
     ]
    }
   ],
   "source": [
    "print(lasso.intercept_)\n",
    "print(f['Lasso_HG/intercepts'][fold, electrode])"
   ]
  },
  {
   "cell_type": "code",
   "execution_count": 20,
   "metadata": {},
   "outputs": [
    {
     "name": "stdout",
     "output_type": "stream",
     "text": [
      "[ 3.05796914e-02  2.45492973e-01 -1.85636018e-01 -3.68981798e-02\n",
      "  2.02237392e-01  0.00000000e+00 -6.58040425e-02  5.44622044e-02\n",
      " -0.00000000e+00  6.45688045e-01  3.43159453e-01 -8.61067286e-02\n",
      " -7.86121615e-02  2.00398483e-02  5.16053314e-02  0.00000000e+00\n",
      " -1.09694287e-03  0.00000000e+00  0.00000000e+00 -0.00000000e+00\n",
      "  0.00000000e+00 -0.00000000e+00 -1.69780428e-02  0.00000000e+00\n",
      "  0.00000000e+00  0.00000000e+00 -2.17631427e-02  0.00000000e+00\n",
      " -1.82198506e-02  0.00000000e+00 -0.00000000e+00  9.59379526e-03\n",
      "  0.00000000e+00  0.00000000e+00  1.09650652e-03  0.00000000e+00\n",
      "  0.00000000e+00  0.00000000e+00 -7.94392555e-04  0.00000000e+00\n",
      " -0.00000000e+00  5.47132012e-03  0.00000000e+00  0.00000000e+00\n",
      "  3.29671102e-04  0.00000000e+00  3.60081838e-04  0.00000000e+00\n",
      "  0.00000000e+00  1.51435239e-03  0.00000000e+00  0.00000000e+00\n",
      "  0.00000000e+00 -0.00000000e+00 -0.00000000e+00 -2.12089218e-03\n",
      " -9.74814664e-03 -0.00000000e+00  0.00000000e+00  0.00000000e+00\n",
      " -0.00000000e+00 -0.00000000e+00 -0.00000000e+00 -0.00000000e+00\n",
      " -0.00000000e+00  0.00000000e+00  0.00000000e+00 -0.00000000e+00\n",
      " -0.00000000e+00 -2.94728759e-02 -1.53780259e-03 -0.00000000e+00\n",
      "  2.44330864e-02  0.00000000e+00  0.00000000e+00  0.00000000e+00\n",
      " -3.88246419e-03 -9.30049464e-03 -0.00000000e+00  0.00000000e+00\n",
      "  0.00000000e+00 -0.00000000e+00 -1.08462479e-03 -9.10768609e-03\n",
      " -0.00000000e+00  1.81065750e-02  0.00000000e+00 -0.00000000e+00\n",
      "  0.00000000e+00 -0.00000000e+00 -0.00000000e+00  6.64465740e-03\n",
      " -2.39286433e-02  0.00000000e+00 -3.67290419e-03  0.00000000e+00\n",
      "  0.00000000e+00  0.00000000e+00  0.00000000e+00 -0.00000000e+00\n",
      " -0.00000000e+00  1.71419592e-02 -0.00000000e+00  0.00000000e+00\n",
      "  2.31978071e-04  0.00000000e+00  0.00000000e+00 -0.00000000e+00\n",
      "  0.00000000e+00  0.00000000e+00 -0.00000000e+00 -6.10215553e-03\n",
      "  6.36215696e-03  0.00000000e+00  1.49064779e-02 -7.17243515e-03\n",
      "  0.00000000e+00 -0.00000000e+00 -1.02141349e-02 -1.90277716e-02\n",
      " -0.00000000e+00  2.97842419e-02  0.00000000e+00 -0.00000000e+00\n",
      "  5.99327186e-03 -6.53090635e-02 -3.84602902e-02]\n",
      "[ 3.05796914e-02  2.45492973e-01 -1.85636018e-01 -3.68981798e-02\n",
      "  2.02237392e-01  0.00000000e+00 -6.58040425e-02  5.44622044e-02\n",
      " -0.00000000e+00  6.45688045e-01  3.43159453e-01 -8.61067286e-02\n",
      " -7.86121615e-02  2.00398483e-02  5.16053314e-02  0.00000000e+00\n",
      " -1.09694287e-03  0.00000000e+00  0.00000000e+00 -0.00000000e+00\n",
      "  0.00000000e+00 -0.00000000e+00 -1.69780428e-02  0.00000000e+00\n",
      "  0.00000000e+00  0.00000000e+00 -2.17631427e-02  0.00000000e+00\n",
      " -1.82198506e-02  0.00000000e+00 -0.00000000e+00  9.59379526e-03\n",
      "  0.00000000e+00  0.00000000e+00  1.09650652e-03  0.00000000e+00\n",
      "  0.00000000e+00  0.00000000e+00 -7.94392555e-04  0.00000000e+00\n",
      " -0.00000000e+00  5.47132012e-03  0.00000000e+00  0.00000000e+00\n",
      "  3.29671102e-04  0.00000000e+00  3.60081838e-04  0.00000000e+00\n",
      "  0.00000000e+00  1.51435239e-03  0.00000000e+00  0.00000000e+00\n",
      "  0.00000000e+00 -0.00000000e+00 -0.00000000e+00 -2.12089218e-03\n",
      " -9.74814664e-03 -0.00000000e+00  0.00000000e+00  0.00000000e+00\n",
      " -0.00000000e+00 -0.00000000e+00 -0.00000000e+00 -0.00000000e+00\n",
      " -0.00000000e+00  0.00000000e+00  0.00000000e+00 -0.00000000e+00\n",
      " -0.00000000e+00 -2.94728759e-02 -1.53780259e-03 -0.00000000e+00\n",
      "  2.44330864e-02  0.00000000e+00  0.00000000e+00  0.00000000e+00\n",
      " -3.88246419e-03 -9.30049464e-03 -0.00000000e+00  0.00000000e+00\n",
      "  0.00000000e+00 -0.00000000e+00 -1.08462479e-03 -9.10768609e-03\n",
      " -0.00000000e+00  1.81065750e-02  0.00000000e+00 -0.00000000e+00\n",
      "  0.00000000e+00 -0.00000000e+00 -0.00000000e+00  6.64465740e-03\n",
      " -2.39286433e-02  0.00000000e+00 -3.67290419e-03  0.00000000e+00\n",
      "  0.00000000e+00  0.00000000e+00  0.00000000e+00 -0.00000000e+00\n",
      " -0.00000000e+00  1.71419592e-02 -0.00000000e+00  0.00000000e+00\n",
      "  2.31978071e-04  0.00000000e+00  0.00000000e+00 -0.00000000e+00\n",
      "  0.00000000e+00  0.00000000e+00 -0.00000000e+00 -6.10215553e-03\n",
      "  6.36215696e-03  0.00000000e+00  1.49064779e-02 -7.17243515e-03\n",
      "  0.00000000e+00 -0.00000000e+00 -1.02141349e-02 -1.90277716e-02\n",
      " -0.00000000e+00  2.97842419e-02  0.00000000e+00 -0.00000000e+00\n",
      "  5.99327186e-03 -6.53090635e-02 -3.84602902e-02]\n"
     ]
    }
   ],
   "source": [
    "print(lasso.coef_)\n",
    "print(f['Lasso_HG/coupling_coefs'][fold, electrode, :])"
   ]
  },
  {
   "cell_type": "code",
   "execution_count": 21,
   "metadata": {},
   "outputs": [
    {
     "name": "stdout",
     "output_type": "stream",
     "text": [
      "0.9777391054751166\n",
      "0.9777391054751166\n"
     ]
    }
   ],
   "source": [
    "print(r2_score(y_test, np.dot(X_test, lasso.coef_) + lasso.intercept_))\n",
    "print(f['Lasso_HG/r2'][fold, electrode])"
   ]
  },
  {
   "cell_type": "code",
   "execution_count": null,
   "metadata": {},
   "outputs": [],
   "source": []
  }
 ],
 "metadata": {
  "kernelspec": {
   "display_name": "Python [conda env:anaconda3]",
   "language": "python",
   "name": "conda-env-anaconda3-py"
  },
  "language_info": {
   "codemirror_mode": {
    "name": "ipython",
    "version": 3
   },
   "file_extension": ".py",
   "mimetype": "text/x-python",
   "name": "python",
   "nbconvert_exporter": "python",
   "pygments_lexer": "ipython3",
   "version": "3.6.5"
  },
  "varInspector": {
   "cols": {
    "lenName": 16,
    "lenType": 16,
    "lenVar": 40
   },
   "kernels_config": {
    "python": {
     "delete_cmd_postfix": "",
     "delete_cmd_prefix": "del ",
     "library": "var_list.py",
     "varRefreshCmd": "print(var_dic_list())"
    },
    "r": {
     "delete_cmd_postfix": ") ",
     "delete_cmd_prefix": "rm(",
     "library": "var_list.r",
     "varRefreshCmd": "cat(var_dic_list()) "
    }
   },
   "types_to_exclude": [
    "module",
    "function",
    "builtin_function_or_method",
    "instance",
    "_Feature"
   ],
   "window_display": false
  }
 },
 "nbformat": 4,
 "nbformat_minor": 2
}
