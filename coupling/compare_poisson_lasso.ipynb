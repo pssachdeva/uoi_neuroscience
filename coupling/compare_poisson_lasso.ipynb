{
 "cells": [
  {
   "cell_type": "code",
   "execution_count": 1,
   "metadata": {},
   "outputs": [],
   "source": [
    "import h5py\n",
    "import matplotlib.pyplot as plt\n",
    "import numpy as np\n",
    "\n",
    "%matplotlib inline"
   ]
  },
  {
   "cell_type": "code",
   "execution_count": 2,
   "metadata": {},
   "outputs": [],
   "source": [
    "# lasso = h5py.File('monkey1.h5', 'r')\n",
    "poisson = h5py.File('fits/pvc11_poisson.h5', 'r')\n",
    "glmnet = h5py.File('fits/glmnet.h5', 'r')"
   ]
  },
  {
   "cell_type": "code",
   "execution_count": 6,
   "metadata": {},
   "outputs": [
    {
     "data": {
      "text/plain": [
       "['coupling_coefs', 'intercepts']"
      ]
     },
     "execution_count": 6,
     "metadata": {},
     "output_type": "execute_result"
    }
   ],
   "source": [
    "list(glmnet)"
   ]
  },
  {
   "cell_type": "code",
   "execution_count": 7,
   "metadata": {},
   "outputs": [],
   "source": [
    "poisson_coefs = np.median(poisson['monkey2/log/coupling_coefs'][:], axis=0)\n",
    "glmnet_coefs = np.median(glmnet['coupling_coefs'], axis=0)"
   ]
  },
  {
   "cell_type": "code",
   "execution_count": 8,
   "metadata": {},
   "outputs": [
    {
     "data": {
      "text/plain": [
       "(106, 105)"
      ]
     },
     "execution_count": 8,
     "metadata": {},
     "output_type": "execute_result"
    }
   ],
   "source": [
    "poisson_coefs.shape"
   ]
  },
  {
   "cell_type": "code",
   "execution_count": 9,
   "metadata": {},
   "outputs": [
    {
     "data": {
      "text/plain": [
       "(136, 10)"
      ]
     },
     "execution_count": 9,
     "metadata": {},
     "output_type": "execute_result"
    }
   ],
   "source": [
    "glmnet_coefs.shape"
   ]
  },
  {
   "cell_type": "code",
   "execution_count": 116,
   "metadata": {},
   "outputs": [],
   "source": [
    "corrs = np.zeros(106)\n",
    "for neuron in range(106):\n",
    "    corrs[neuron] = np.corrcoef(poisson_coefs[neuron], lasso_coefs[neuron])[0, 1]"
   ]
  },
  {
   "cell_type": "code",
   "execution_count": 120,
   "metadata": {},
   "outputs": [
    {
     "data": {
      "text/plain": [
       "(0, 1)"
      ]
     },
     "execution_count": 120,
     "metadata": {},
     "output_type": "execute_result"
    },
    {
     "data": {
      "image/png": "[encoded data removed]",
      "text/plain": [
       "<Figure size 432x288 with 1 Axes>"
      ]
     },
     "metadata": {
      "needs_background": "light"
     },
     "output_type": "display_data"
    }
   ],
   "source": [
    "plt.hist(corrs, bins=15)\n",
    "plt.xlim([0, 1])"
   ]
  },
  {
   "cell_type": "code",
   "execution_count": 49,
   "metadata": {},
   "outputs": [
    {
     "data": {
      "text/plain": [
       "array([ 0.07007192,  0.        ,  0.        , -0.09806447,  0.        ,\n",
       "        0.06432198,  0.        ,  0.05408509,  0.        ,  0.        ,\n",
       "        0.        ,  0.        ,  0.        ,  0.        ,  0.        ,\n",
       "        0.        ,  0.        ,  0.        ,  0.        ,  0.        ,\n",
       "       -0.00485619, -0.07595847,  0.        ,  0.02135659,  0.        ,\n",
       "        0.        ,  0.        ,  0.        ,  0.        ,  0.05674101,\n",
       "        0.        , -0.08773577,  0.        ,  0.        ,  0.07481973,\n",
       "        0.        ,  0.        ,  0.05245953,  0.04058525,  0.        ,\n",
       "        0.052254  ,  0.        ,  0.        ,  0.03912664,  0.02029496,\n",
       "        0.        ,  0.        ,  0.        ,  0.04393795,  0.0317671 ,\n",
       "        0.        ,  0.        ,  0.        ,  0.        ,  0.        ,\n",
       "        0.        , -0.10587043, -0.06485046,  0.        ,  0.        ,\n",
       "        0.        ,  0.        ,  0.        ,  0.        ,  0.        ,\n",
       "        0.        ,  0.        ,  0.        ,  0.04106441,  0.        ,\n",
       "       -0.04902468,  0.05964208,  0.04383321, -0.05128475, -0.03247096,\n",
       "       -0.00700668,  0.        ,  0.        ,  0.        ,  0.        ,\n",
       "        0.        ,  0.        ,  0.03599142,  0.        ,  0.08761433,\n",
       "        0.        ,  0.        ,  0.        , -0.00253433,  0.        ,\n",
       "        0.        ,  0.        ,  0.03459938,  0.        ,  0.        ,\n",
       "        0.        ,  0.        ,  0.        ,  0.        ,  0.        ,\n",
       "        0.        ,  0.        ,  0.        , -0.02496319,  0.        ])"
      ]
     },
     "execution_count": 49,
     "metadata": {},
     "output_type": "execute_result"
    }
   ],
   "source": [
    "lasso_coefs[0]"
   ]
  },
  {
   "cell_type": "code",
   "execution_count": 93,
   "metadata": {},
   "outputs": [
    {
     "data": {
      "text/plain": [
       "27"
      ]
     },
     "execution_count": 93,
     "metadata": {},
     "output_type": "execute_result"
    }
   ],
   "source": [
    "np.count_nonzero(poisson_coefs[31] != 0 )"
   ]
  },
  {
   "cell_type": "code",
   "execution_count": 94,
   "metadata": {},
   "outputs": [],
   "source": [
    "ruff = np.zeros(105)\n",
    "ruff[:27] = 1\n",
    "sel_profile = (poisson_coefs[31] != 0).astype('int')\n",
    "reps = 1000000\n",
    "n_correct = np.zeros(reps)\n",
    "for rep in range(reps):\n",
    "    np.random.shuffle(ruff)\n",
    "    n_correct[rep] = np.count_nonzero(ruff * sel_profile) / np.count_nonzero(sel_profile)"
   ]
  },
  {
   "cell_type": "code",
   "execution_count": 104,
   "metadata": {},
   "outputs": [
    {
     "data": {
      "text/plain": [
       "<matplotlib.lines.Line2D at 0x102d5d080>"
      ]
     },
     "execution_count": 104,
     "metadata": {},
     "output_type": "execute_result"
    },
    {
     "data": {
      "image/png": "[encoded data removed]",
      "text/plain": [
       "<Figure size 432x288 with 1 Axes>"
      ]
     },
     "metadata": {
      "needs_background": "light"
     },
     "output_type": "display_data"
    }
   ],
   "source": [
    "plt.hist(n_correct)\n",
    "plt.axvline(np.count_nonzero(poisson_coefs[31] * lasso_coefs[31]) / np.count_nonzero(sel_profile))"
   ]
  },
  {
   "cell_type": "code",
   "execution_count": 95,
   "metadata": {},
   "outputs": [
    {
     "data": {
      "text/plain": [
       "0.2571333703703704"
      ]
     },
     "execution_count": 95,
     "metadata": {},
     "output_type": "execute_result"
    }
   ],
   "source": [
    "np.mean(n_correct)"
   ]
  },
  {
   "cell_type": "code",
   "execution_count": 97,
   "metadata": {},
   "outputs": [
    {
     "data": {
      "text/plain": [
       "0.2571428571428571"
      ]
     },
     "execution_count": 97,
     "metadata": {},
     "output_type": "execute_result"
    }
   ],
   "source": [
    "27/105"
   ]
  },
  {
   "cell_type": "code",
   "execution_count": 102,
   "metadata": {},
   "outputs": [
    {
     "data": {
      "text/plain": [
       "0.06612244897959184"
      ]
     },
     "execution_count": 102,
     "metadata": {},
     "output_type": "execute_result"
    }
   ],
   "source": [
    "27**2/105**2"
   ]
  },
  {
   "cell_type": "code",
   "execution_count": 103,
   "metadata": {},
   "outputs": [
    {
     "data": {
      "text/plain": [
       "0.07277705545583495"
      ]
     },
     "execution_count": 103,
     "metadata": {},
     "output_type": "execute_result"
    }
   ],
   "source": [
    "np.std(n_correct)"
   ]
  },
  {
   "cell_type": "code",
   "execution_count": 92,
   "metadata": {},
   "outputs": [
    {
     "name": "stdout",
     "output_type": "stream",
     "text": [
      "2.2176308539944904\n",
      "1.554\n",
      "1.748178980228928\n",
      "1.4462809917355373\n",
      "1.6447134211463155\n",
      "1.9703703703703705\n",
      "1.7474112426035504\n",
      "1.6240333135038667\n",
      "1.5426997245179064\n",
      "1.5879017013232515\n",
      "2.216666666666667\n",
      "2.0238095238095237\n",
      "6.9421487603305785\n",
      "1.3884297520661157\n",
      "2.9166666666666665\n",
      "1.7857142857142856\n",
      "2.4609375\n",
      "1.3058035714285714\n",
      "1.50390625\n",
      "2.025462962962963\n",
      "1.9174579985390794\n",
      "1.9047619047619047\n",
      "2.5068870523415976\n",
      "1.3321799307958477\n",
      "1.518595041322314\n",
      "1.907439446366782\n",
      "1.4367603550295858\n",
      "1.5555555555555556\n",
      "1.8727705112960762\n",
      "2.5520833333333335\n",
      "2.5068870523415976\n",
      "2.5925925925925926\n",
      "1.7257785467128026\n",
      "3.1994459833795017\n",
      "1.8062471706654593\n",
      "1.5325738697045213\n",
      "1.2358533272974197\n",
      "1.3498622589531681\n",
      "3.9375\n",
      "1.5339663988312637\n",
      "1.378125\n",
      "1.5877712031558184\n",
      "1.2037721893491125\n",
      "1.2833861475780897\n",
      "1.09375\n",
      "1.3671875\n",
      "1.681301652892562\n",
      "1.4886578449905483\n",
      "1.5699537201851195\n",
      "1.8457031249999998\n",
      "1.7948717948717947\n",
      "4.212962962962963\n",
      "1.5476190476190477\n",
      "2.089100346020761\n",
      "1.24054820415879\n",
      "1.1340000000000001\n",
      "1.5270083102493077\n",
      "1.749271137026239\n",
      "1.786389413988658\n",
      "1.8166089965397925\n",
      "1.6161158895427796\n",
      "5.104166666666667\n",
      "2.381852551984877\n",
      "2.255859375\n",
      "1.70625\n",
      "1.9667013527575443\n",
      "1.8634259259259258\n",
      "2.1814404432132966\n",
      "1.786389413988658\n",
      "1.8452380952380953\n",
      "1.5441176470588234\n",
      "2.18522372528616\n",
      "1.509375\n",
      "1.6864961332540156\n",
      "2.089100346020761\n",
      "1.50390625\n",
      "1.503703703703704\n",
      "3.0989583333333335\n",
      "1.4366448542534207\n",
      "1.9982698961937717\n",
      "1.748178980228928\n",
      "1.503703703703704\n",
      "1.726190476190476\n",
      "1.6285714285714286\n",
      "1.2242798353909468\n",
      "1.3628988642509465\n",
      "1.1904761904761902\n",
      "1.381578947368421\n",
      "1.1340000000000001\n",
      "2.3583984375\n",
      "1.4886578449905483\n",
      "2.678571428571429\n",
      "2.640532544378698\n",
      "1.6871455576559544\n",
      "1.9047619047619047\n",
      "1.3116370808678501\n",
      "1.4991076740035691\n",
      "2.9065743944636675\n",
      "2.1237358715050565\n",
      "1.8905817174515236\n",
      "1.725838264299803\n",
      "2.6218787158145065\n",
      "1.2682215743440233\n",
      "1.681301652892562\n",
      "1.4886578449905483\n",
      "1.3894139886578452\n"
     ]
    }
   ],
   "source": [
    "for neuron in range(106):\n",
    "    ruff1 = (np.count_nonzero(poisson_coefs[neuron] * lasso_coefs[neuron])/np.count_nonzero(poisson_coefs[neuron]))\n",
    "    ruff2 = np.count_nonzero(poisson_coefs[neuron])/105.\n",
    "    \n",
    "    print(ruff1/ruff2)"
   ]
  },
  {
   "cell_type": "code",
   "execution_count": 69,
   "metadata": {},
   "outputs": [
    {
     "data": {
      "text/plain": [
       "array([1, 1, 1, 0, 1, 0, 0, 0, 0, 0, 0, 1, 0, 0, 0, 0, 0, 0, 1, 0, 0, 0,\n",
       "       1, 0, 0, 0, 1, 0, 0, 0, 1, 1, 1, 1, 0, 0, 0, 0, 0, 0, 1, 1, 1, 1,\n",
       "       0, 0, 0, 1, 0, 1, 0, 0, 0, 0, 0, 0, 1, 1, 0, 0, 0, 0, 1, 0, 0, 0,\n",
       "       0, 1, 0, 0, 0, 0, 0, 0, 0, 0, 0, 1, 0, 0, 0, 1, 0, 1, 0, 0, 1, 1,\n",
       "       1, 0, 0, 0, 0, 0, 0, 1, 0, 1, 0, 0, 1, 1, 1, 0, 0])"
      ]
     },
     "execution_count": 69,
     "metadata": {},
     "output_type": "execute_result"
    }
   ],
   "source": [
    "(poisson_coefs[30] != 0).astype('int')"
   ]
  },
  {
   "cell_type": "code",
   "execution_count": null,
   "metadata": {},
   "outputs": [],
   "source": []
  }
 ],
 "metadata": {
  "kernelspec": {
   "display_name": "Python 3 (base)",
   "language": "python",
   "name": "base"
  },
  "language_info": {
   "codemirror_mode": {
    "name": "ipython",
    "version": 3
   },
   "file_extension": ".py",
   "mimetype": "text/x-python",
   "name": "python",
   "nbconvert_exporter": "python",
   "pygments_lexer": "ipython3",
   "version": "3.6.8"
  },
  "varInspector": {
   "cols": {
    "lenName": 16,
    "lenType": 16,
    "lenVar": 40
   },
   "kernels_config": {
    "python": {
     "delete_cmd_postfix": "",
     "delete_cmd_prefix": "del ",
     "library": "var_list.py",
     "varRefreshCmd": "print(var_dic_list())"
    },
    "r": {
     "delete_cmd_postfix": ") ",
     "delete_cmd_prefix": "rm(",
     "library": "var_list.r",
     "varRefreshCmd": "cat(var_dic_list()) "
    }
   },
   "types_to_exclude": [
    "module",
    "function",
    "builtin_function_or_method",
    "instance",
    "_Feature"
   ],
   "window_display": false
  }
 },
 "nbformat": 4,
 "nbformat_minor": 2
}
