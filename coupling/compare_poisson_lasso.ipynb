{
 "cells": [
  {
   "cell_type": "code",
   "execution_count": 1,
   "metadata": {},
   "outputs": [],
   "source": [
    "import h5py\n",
    "import matplotlib.pyplot as plt\n",
    "import networkx as nx\n",
    "import numpy as np\n",
    "\n",
    "from utils import (coupling_coef_corrs,\n",
    "                   selection_profiles_by_chance,\n",
    "                   get_dataset,\n",
    "                   create_graph)\n",
    "%matplotlib inline"
   ]
  },
  {
   "cell_type": "code",
   "execution_count": 2,
   "metadata": {},
   "outputs": [],
   "source": [
    "fits_path = '/Users/psachdeva/fits/uoineuro/nhp/nhp_M1_indy_20160407_02.h5'"
   ]
  },
  {
   "cell_type": "code",
   "execution_count": 4,
   "metadata": {},
   "outputs": [],
   "source": [
    "fits = h5py.File(fits_path, 'r')"
   ]
  },
  {
   "cell_type": "code",
   "execution_count": 24,
   "metadata": {},
   "outputs": [
    {
     "data": {
      "text/plain": [
       "array([-6.58739009e-02, -4.01539327e-01, -2.78989243e+00, -2.35585985e+00,\n",
       "       -1.27574646e+00, -5.48037551e-01, -3.07805238e+00, -5.94884485e-03,\n",
       "       -1.03810442e+00, -2.07242108e-01, -6.78561813e-03, -5.67919751e+00,\n",
       "       -1.19368121e+00, -4.90431751e-03, -4.06039664e-01, -9.15570200e+00,\n",
       "       -6.57980154e-02, -4.44761752e-01, -4.01130646e-01, -1.47729071e-01,\n",
       "       -6.53488215e-02, -8.45008808e-01, -2.66489389e+00, -9.84384291e-02,\n",
       "       -9.29352568e-01,  1.43378827e-02,  8.77071995e-02, -5.23968631e-01,\n",
       "       -2.88452809e+00, -1.82074181e+00, -2.32739489e+00, -2.50390553e+00,\n",
       "       -4.09752566e-01, -3.40146563e-02, -2.74902874e-01, -7.78625737e+00,\n",
       "       -1.65980025e-01, -3.79261553e+00, -9.68850131e-01, -3.02275997e+00,\n",
       "       -1.22970071e-01, -1.86355744e-02, -1.50419981e+00, -8.35328463e+00,\n",
       "       -7.63281337e+00, -4.83787630e+00, -6.88640458e+00, -3.74557726e-01,\n",
       "       -3.87070076e-01, -3.90193250e-01, -4.54514374e+00, -9.27445057e-01,\n",
       "       -1.02469313e+00, -1.16832759e-02, -1.07899802e-02, -2.30288299e+00,\n",
       "       -2.31807532e+00, -2.18569751e-02, -9.55923485e-01, -1.29223460e+00,\n",
       "       -2.22486775e+00, -3.44405638e+00, -3.11694532e+00, -1.33566629e-02,\n",
       "       -6.15727518e-01,  2.25179204e-02, -5.78838633e-02, -6.70693843e-04,\n",
       "       -5.94578094e+00, -1.61591090e+00, -1.55297874e-03, -2.55122205e-01,\n",
       "       -1.15784954e+00, -3.14902079e-02, -1.89137052e-02, -1.16282851e+00,\n",
       "       -7.31635244e-01, -1.63898283e+00, -1.59228879e+00, -1.96007053e-01,\n",
       "       -1.03810250e+00, -1.59185535e-01, -4.78681992e+00, -2.16850066e-01,\n",
       "        9.36165557e-03, -3.54358937e-03, -5.19456815e-01, -7.16905227e-01,\n",
       "       -4.56872665e-01, -2.51060160e+00, -3.48084808e-02, -1.58025669e+00,\n",
       "       -1.80219156e+00, -4.23118915e+00, -4.89247668e-01, -5.13013903e-02,\n",
       "       -2.26647798e+00, -3.47560056e-01, -2.20096961e-01, -1.04811156e+00,\n",
       "       -1.21834153e+00, -1.10343898e+00, -2.08807219e+00, -3.73717352e-02,\n",
       "       -6.60289211e+00, -3.41899536e-02, -1.45701336e+00, -1.71008985e+00,\n",
       "       -1.18619429e+01, -9.50636484e-03, -1.28219944e+00, -3.52109625e-01,\n",
       "       -1.67353188e+00, -5.32808292e-01, -2.81765881e-01, -4.56358910e-02,\n",
       "       -8.21381685e-01, -3.59939808e-01, -5.22434026e+00, -1.56253606e+00,\n",
       "       -8.20580012e-01, -8.20816240e-02, -3.65994499e+00, -4.32944475e+00,\n",
       "       -1.01176915e+01, -3.75366709e+00, -1.87846193e-01, -4.83409024e-01,\n",
       "       -1.66002774e+00, -1.31015607e-02, -2.29788745e-01, -2.84797626e-02,\n",
       "       -1.34791169e-01, -3.28302695e-01, -1.07850635e-01, -5.77957640e-01])"
      ]
     },
     "execution_count": 24,
     "metadata": {},
     "output_type": "execute_result"
    }
   ],
   "source": [
    "np.median(fits['UoI_Lasso_AIC/r2'], axis=0)"
   ]
  },
  {
   "cell_type": "code",
   "execution_count": 22,
   "metadata": {},
   "outputs": [
    {
     "data": {
      "text/plain": [
       "0.14277233600474917"
      ]
     },
     "execution_count": 22,
     "metadata": {},
     "output_type": "execute_result"
    }
   ],
   "source": [
    "np.count_nonzero(np.median(fits['UoI_Lasso_AIC/coupling_coefs'], axis=0))/np.count_nonzero(np.median(fits['Lasso/coupling_coefs'], axis=0))"
   ]
  },
  {
   "cell_type": "code",
   "execution_count": 8,
   "metadata": {},
   "outputs": [],
   "source": [
    "G_poisson = create_graph(fits_path, dataset='UoI_Poisson_log', directed=False)\n",
    "G_lasso = create_graph(fits_path, dataset='UoI_Lasso_r2', directed=False)\n",
    "G_lasso2 = create_graph(fits_path, dataset='Lasso', directed=False)"
   ]
  },
  {
   "cell_type": "code",
   "execution_count": 9,
   "metadata": {},
   "outputs": [
    {
     "name": "stdout",
     "output_type": "stream",
     "text": [
      "0.9192222546441138\n",
      "0.9463535225491538\n"
     ]
    }
   ],
   "source": [
    "print(np.corrcoef(\n",
    "    np.array(list(nx.algorithms.centrality.degree_centrality(G_poisson).values())),\n",
    "    np.array(list(nx.algorithms.centrality.degree_centrality(G_lasso).values())))[0, 1])\n",
    "\n",
    "\n",
    "print(np.corrcoef(\n",
    "    np.array(list(nx.algorithms.centrality.degree_centrality(G_lasso).values())),\n",
    "    np.array(list(nx.algorithms.centrality.degree_centrality(G_lasso2).values())))[0, 1])"
   ]
  },
  {
   "cell_type": "code",
   "execution_count": 84,
   "metadata": {},
   "outputs": [
    {
     "data": {
      "text/plain": [
       "3990"
      ]
     },
     "execution_count": 84,
     "metadata": {},
     "output_type": "execute_result"
    }
   ],
   "source": []
  },
  {
   "cell_type": "code",
   "execution_count": null,
   "metadata": {},
   "outputs": [],
   "source": [
    "nx.algorithms.smallworld.sigma(G_poisson)"
   ]
  },
  {
   "cell_type": "code",
   "execution_count": 55,
   "metadata": {},
   "outputs": [
    {
     "data": {
      "text/plain": [
       "<matplotlib.collections.PathCollection at 0x1a1e071a20>"
      ]
     },
     "execution_count": 55,
     "metadata": {},
     "output_type": "execute_result"
    },
    {
     "data": {
      "image/png": "[encoded data removed]",
      "text/plain": [
       "<Figure size 432x288 with 1 Axes>"
      ]
     },
     "metadata": {
      "needs_background": "light"
     },
     "output_type": "display_data"
    }
   ],
   "source": [
    "plt.scatter(np.array(list(nx.algorithms.centrality.betweenness_centrality(G_poisson).values())),\n",
    "    np.array(list(nx.algorithms.centrality.betweenness_centrality(G_lasso).values())))"
   ]
  },
  {
   "cell_type": "code",
   "execution_count": 4,
   "metadata": {},
   "outputs": [],
   "source": [
    "uoi_poisson_coefs = np.median(fits['UoI_Poisson_log/coupling_coefs'][:], axis=0)\n",
    "uoi_lasso_coefs = np.median(fits['UoI_Lasso_r2/coupling_coefs'][:], axis=0)\n",
    "glmnet_coefs = np.median(fits['glmnet/coupling_coefs'][:].T, axis=0)"
   ]
  },
  {
   "cell_type": "code",
   "execution_count": 5,
   "metadata": {
    "scrolled": false
   },
   "outputs": [
    {
     "data": {
      "text/plain": [
       "(array([ 1.,  0.,  0.,  1.,  7.,  5., 22., 23., 49., 28.]),\n",
       " array([-0.0023591 ,  0.09209732,  0.18655374,  0.28101015,  0.37546657,\n",
       "         0.46992299,  0.56437941,  0.65883583,  0.75329224,  0.84774866,\n",
       "         0.94220508]),\n",
       " <a list of 10 Patch objects>)"
      ]
     },
     "execution_count": 5,
     "metadata": {},
     "output_type": "execute_result"
    },
    {
     "data": {
      "image/png": "[encoded data removed]",
      "text/plain": [
       "<Figure size 432x288 with 1 Axes>"
      ]
     },
     "metadata": {
      "needs_background": "light"
     },
     "output_type": "display_data"
    }
   ],
   "source": [
    "corrs = coupling_coef_corrs(\n",
    "    fits_path='/Users/psachdeva/fits/uoineuro/nhp/nhp_M1_indy_20160407_02.h5',\n",
    "    dataset1='UoI_Poisson_log',\n",
    "    dataset2='UoI_Lasso_r2')\n",
    "plt.hist(corrs)"
   ]
  },
  {
   "cell_type": "code",
   "execution_count": 8,
   "metadata": {},
   "outputs": [],
   "source": [
    "probs = selection_profiles_by_chance(\n",
    "    fits_path='/Users/psachdeva/fits/uoineuro/nhp/nhp_M1_indy_20160407_02.h5',\n",
    "    dataset1='UoI_Poisson_log',\n",
    "    dataset2='UoI_Lasso_r2'\n",
    ")"
   ]
  },
  {
   "cell_type": "code",
   "execution_count": 11,
   "metadata": {},
   "outputs": [],
   "source": [
    "uoi_poisson_sr = get_dataset(\n",
    "    fits_path='/Users/psachdeva/fits/uoineuro/nhp/nhp_M1_indy_20160407_02.h5',\n",
    "    metric='selection_ratio',\n",
    "    key='UoI_Poisson_log'\n",
    ")\n",
    "\n",
    "uoi_lasso_sr = get_dataset(\n",
    "    fits_path='/Users/psachdeva/fits/uoineuro/nhp/nhp_M1_indy_20160407_02.h5',\n",
    "    metric='selection_ratio',\n",
    "    key='UoI_Lasso_r2'\n",
    ")\n",
    "\n",
    "lasso_sr = get_dataset(\n",
    "    fits_path='/Users/psachdeva/fits/uoineuro/nhp/nhp_M1_indy_20160407_02.h5',\n",
    "    metric='selection_ratio',\n",
    "    key='Lasso'\n",
    ")"
   ]
  },
  {
   "cell_type": "code",
   "execution_count": 10,
   "metadata": {},
   "outputs": [
    {
     "data": {
      "text/plain": [
       "[<matplotlib.lines.Line2D at 0x10cff3908>]"
      ]
     },
     "execution_count": 10,
     "metadata": {},
     "output_type": "execute_result"
    },
    {
     "data": {
      "image/png": "[encoded data removed]",
      "text/plain": [
       "<Figure size 432x288 with 1 Axes>"
      ]
     },
     "metadata": {
      "needs_background": "light"
     },
     "output_type": "display_data"
    }
   ],
   "source": [
    "plt.scatter(uoi_lasso_sr, uoi_poisson_sr)\n",
    "plt.plot([0, 1], [0, 1])"
   ]
  },
  {
   "cell_type": "code",
   "execution_count": 15,
   "metadata": {},
   "outputs": [
    {
     "data": {
      "text/plain": [
       "[<matplotlib.lines.Line2D at 0x1a1fda7550>]"
      ]
     },
     "execution_count": 15,
     "metadata": {},
     "output_type": "execute_result"
    },
    {
     "data": {
      "image/png": "[encoded data removed]",
      "text/plain": [
       "<Figure size 432x288 with 1 Axes>"
      ]
     },
     "metadata": {
      "needs_background": "light"
     },
     "output_type": "display_data"
    }
   ],
   "source": [
    "plt.scatter(lasso_sr, uoi_lasso_sr)\n",
    "plt.plot([0, 1], [0, 1])"
   ]
  },
  {
   "cell_type": "code",
   "execution_count": 7,
   "metadata": {},
   "outputs": [],
   "source": [
    "import networkx as nx"
   ]
  },
  {
   "cell_type": "code",
   "execution_count": 8,
   "metadata": {},
   "outputs": [],
   "source": [
    "G = nx.Graph()"
   ]
  },
  {
   "cell_type": "code",
   "execution_count": 9,
   "metadata": {},
   "outputs": [],
   "source": [
    "G.add_nodes_from(np.arange(5))"
   ]
  },
  {
   "cell_type": "code",
   "execution_count": 13,
   "metadata": {},
   "outputs": [],
   "source": [
    "G.add_edges_from([(0, 1), (1,2), (1, 0)])"
   ]
  },
  {
   "cell_type": "code",
   "execution_count": 14,
   "metadata": {},
   "outputs": [
    {
     "data": {
      "text/plain": [
       "EdgeView([(0, 1), (1, 2)])"
      ]
     },
     "execution_count": 14,
     "metadata": {},
     "output_type": "execute_result"
    }
   ],
   "source": [
    "G.edges()"
   ]
  },
  {
   "cell_type": "code",
   "execution_count": 51,
   "metadata": {},
   "outputs": [],
   "source": [
    "A = np.array([[0, 1.5, 0], [2.3, 0, 300], [0, 0, 0]])\n",
    "G = nx.convert_matrix.from_numpy_matrix(A)"
   ]
  },
  {
   "cell_type": "code",
   "execution_count": 53,
   "metadata": {},
   "outputs": [
    {
     "name": "stdout",
     "output_type": "stream",
     "text": [
      "[[  0.    1.5   0. ]\n",
      " [  2.3   0.  300. ]\n",
      " [  0.    0.    0. ]]\n",
      "[[  0.    1.9   0. ]\n",
      " [  1.9   0.  150. ]\n",
      " [  0.  150.    0. ]]\n"
     ]
    }
   ],
   "source": [
    "print(A)\n",
    "print((A + A.T)/2)"
   ]
  },
  {
   "cell_type": "code",
   "execution_count": 24,
   "metadata": {},
   "outputs": [
    {
     "data": {
      "text/plain": [
       "NodeView((0, 1, 2))"
      ]
     },
     "execution_count": 24,
     "metadata": {},
     "output_type": "execute_result"
    }
   ],
   "source": [
    "G.nodes()"
   ]
  },
  {
   "cell_type": "code",
   "execution_count": 32,
   "metadata": {},
   "outputs": [
    {
     "data": {
      "text/plain": [
       "False"
      ]
     },
     "execution_count": 32,
     "metadata": {},
     "output_type": "execute_result"
    }
   ],
   "source": [
    "G.is_directed()"
   ]
  },
  {
   "cell_type": "code",
   "execution_count": 34,
   "metadata": {},
   "outputs": [],
   "source": [
    "ruff = G.to_directed()"
   ]
  },
  {
   "cell_type": "code",
   "execution_count": 44,
   "metadata": {},
   "outputs": [
    {
     "data": {
      "text/plain": [
       "AtlasView({0: {'weight': 1.5}, 2: {'weight': 300.0}})"
      ]
     },
     "execution_count": 44,
     "metadata": {},
     "output_type": "execute_result"
    }
   ],
   "source": [
    "G."
   ]
  },
  {
   "cell_type": "code",
   "execution_count": null,
   "metadata": {},
   "outputs": [],
   "source": []
  }
 ],
 "metadata": {
  "kernelspec": {
   "display_name": "Python 3 (base)",
   "language": "python",
   "name": "base"
  },
  "language_info": {
   "codemirror_mode": {
    "name": "ipython",
    "version": 3
   },
   "file_extension": ".py",
   "mimetype": "text/x-python",
   "name": "python",
   "nbconvert_exporter": "python",
   "pygments_lexer": "ipython3",
   "version": "3.7.3"
  },
  "varInspector": {
   "cols": {
    "lenName": 16,
    "lenType": 16,
    "lenVar": 40
   },
   "kernels_config": {
    "python": {
     "delete_cmd_postfix": "",
     "delete_cmd_prefix": "del ",
     "library": "var_list.py",
     "varRefreshCmd": "print(var_dic_list())"
    },
    "r": {
     "delete_cmd_postfix": ") ",
     "delete_cmd_prefix": "rm(",
     "library": "var_list.r",
     "varRefreshCmd": "cat(var_dic_list()) "
    }
   },
   "types_to_exclude": [
    "module",
    "function",
    "builtin_function_or_method",
    "instance",
    "_Feature"
   ],
   "window_display": false
  }
 },
 "nbformat": 4,
 "nbformat_minor": 2
}
