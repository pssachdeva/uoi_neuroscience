{
 "cells": [
  {
   "cell_type": "code",
   "execution_count": 24,
   "metadata": {},
   "outputs": [],
   "source": [
    "import h5py\n",
    "import numpy as np\n",
    "import matplotlib.pyplot as plt\n",
    "\n",
    "from pyuoi import UoI_Lasso\n",
    "from neuropacks.PVC11.PVC11 import PVC11\n",
    "\n",
    "%matplotlib inline\n",
    "\n",
    "import warnings\n",
    "warnings.filterwarnings(\"ignore\")"
   ]
  },
  {
   "cell_type": "code",
   "execution_count": 12,
   "metadata": {},
   "outputs": [],
   "source": [
    "pvc11 = PVC11(data_path='/Users/psachdeva/data/pvc11/data/spikes_gratings/data_monkey1_gratings.mat')"
   ]
  },
  {
   "cell_type": "code",
   "execution_count": 13,
   "metadata": {},
   "outputs": [],
   "source": [
    "Y = pvc11.get_response_matrix(transform='square_root')"
   ]
  },
  {
   "cell_type": "code",
   "execution_count": 36,
   "metadata": {},
   "outputs": [],
   "source": [
    "uoi = UoI_Lasso(\n",
    "    n_boots_sel=48,\n",
    "    n_boots_est=48,\n",
    "    selection_frac=0.8,\n",
    "    estimation_score='r2',\n",
    "    n_lambdas=48\n",
    ")"
   ]
  },
  {
   "cell_type": "code",
   "execution_count": 21,
   "metadata": {},
   "outputs": [
    {
     "data": {
      "text/plain": [
       "'r2'"
      ]
     },
     "execution_count": 21,
     "metadata": {},
     "output_type": "execute_result"
    }
   ],
   "source": [
    "uoi.estimation_score"
   ]
  },
  {
   "cell_type": "code",
   "execution_count": 44,
   "metadata": {},
   "outputs": [
    {
     "data": {
      "text/plain": [
       "UoI_Lasso(comm=None, copy_X=True, eps=0.001, estimation_score='r2',\n",
       "     fit_intercept=True, max_iter=None, n_boots_est=48, n_boots_sel=48,\n",
       "     n_lambdas=48, normalize=True, random_state=None, selection_frac=0.8,\n",
       "     stability_selection=1.0, warm_start=None)"
      ]
     },
     "execution_count": 44,
     "metadata": {},
     "output_type": "execute_result"
    }
   ],
   "source": [
    "uoi.fit(np.delete(Y, 2, axis=1), Y[:, 2], verbose=True)"
   ]
  },
  {
   "cell_type": "code",
   "execution_count": 29,
   "metadata": {},
   "outputs": [],
   "source": [
    "from sklearn.linear_model import LassoCV"
   ]
  },
  {
   "cell_type": "code",
   "execution_count": 45,
   "metadata": {},
   "outputs": [
    {
     "data": {
      "text/plain": [
       "LassoCV(alphas=None, copy_X=True, cv='warn', eps=0.001, fit_intercept=True,\n",
       "    max_iter=1000, n_alphas=100, n_jobs=None, normalize=True,\n",
       "    positive=False, precompute='auto', random_state=None,\n",
       "    selection='cyclic', tol=0.0001, verbose=False)"
      ]
     },
     "execution_count": 45,
     "metadata": {},
     "output_type": "execute_result"
    }
   ],
   "source": [
    "lasso = LassoCV(normalize=True)\n",
    "lasso.fit(np.delete(Y, 1, axis=1), Y[:, 1])"
   ]
  },
  {
   "cell_type": "code",
   "execution_count": 46,
   "metadata": {},
   "outputs": [
    {
     "data": {
      "text/plain": [
       "array([ 0.        ,  0.16028209,  0.        ,  0.        ,  0.        ,\n",
       "        0.        ,  0.        ,  0.        ,  0.        ,  0.        ,\n",
       "        0.        ,  0.        , -0.03457259,  0.03850841,  0.        ,\n",
       "        0.        ,  0.        ,  0.        , -0.01293397,  0.        ,\n",
       "        0.02251188, -0.09752166,  0.02384938,  0.        ,  0.        ,\n",
       "        0.        , -0.01501653, -0.1300811 ,  0.11174038,  0.08156768,\n",
       "        0.        , -0.06220066,  0.        ,  0.03116182,  0.        ,\n",
       "        0.        ,  0.        ,  0.05308302, -0.00660373,  0.        ,\n",
       "        0.        , -0.04089379, -0.06445051, -0.01264883,  0.        ,\n",
       "        0.        ,  0.        ,  0.03960113,  0.        ,  0.        ,\n",
       "        0.        , -0.0030085 , -0.04897905,  0.        ,  0.        ,\n",
       "        0.        ,  0.        , -0.04119894,  0.        ,  0.        ,\n",
       "        0.09758256,  0.04822989,  0.04740727, -0.05331685,  0.        ,\n",
       "       -0.02633955,  0.        , -0.05959843, -0.02686937, -0.03796436,\n",
       "        0.02965073,  0.        ,  0.        ,  0.        ,  0.        ,\n",
       "        0.01980626,  0.        ,  0.07557925, -0.05903999, -0.0410959 ,\n",
       "       -0.03720971,  0.        ,  0.        ,  0.06773062,  0.        ,\n",
       "        0.        , -0.02641188,  0.        ,  0.        ,  0.        ,\n",
       "        0.        , -0.03799805,  0.06825382,  0.        ,  0.01785307,\n",
       "        0.04282503,  0.        ,  0.        ,  0.        , -0.02976026,\n",
       "        0.02435947,  0.        ,  0.        ,  0.06055184,  0.        ])"
      ]
     },
     "execution_count": 46,
     "metadata": {},
     "output_type": "execute_result"
    }
   ],
   "source": [
    "uoi.coef_"
   ]
  },
  {
   "cell_type": "code",
   "execution_count": 47,
   "metadata": {},
   "outputs": [
    {
     "data": {
      "text/plain": [
       "array([ 6.79277933e-02,  2.70168087e-01, -3.79591007e-02, -1.88160159e-02,\n",
       "        1.66816383e-01,  2.77605144e-02, -6.76775075e-02,  4.22054407e-02,\n",
       "        4.52458974e-02,  9.41039204e-03,  5.84641931e-02, -3.16430635e-03,\n",
       "        5.98307517e-03,  1.92960234e-02, -3.16389411e-03, -2.15066398e-02,\n",
       "       -2.59680840e-02, -6.64250819e-03,  2.23821856e-02, -6.06555067e-03,\n",
       "        8.51271126e-03, -7.89477314e-03,  9.73687808e-02, -1.90468957e-02,\n",
       "       -5.34202681e-02, -7.89342319e-02, -8.60193525e-03, -1.05586094e-01,\n",
       "       -3.28510228e-02,  8.02498803e-02,  1.09419988e-01, -1.40455133e-02,\n",
       "       -2.37895507e-03, -6.95412853e-02, -5.18255559e-02,  2.59414770e-02,\n",
       "        3.13675073e-02,  2.47369280e-02,  9.28733472e-02, -2.86400837e-02,\n",
       "        0.00000000e+00, -1.55502712e-03,  0.00000000e+00,  6.73738570e-02,\n",
       "        1.06752634e-03,  4.55549484e-02, -5.04265463e-02,  3.70317025e-02,\n",
       "        1.01517491e-02, -0.00000000e+00,  2.27542135e-03, -8.30877210e-03,\n",
       "       -2.62552629e-02, -4.39696615e-02, -4.44348316e-02, -4.60496932e-02,\n",
       "        6.72664901e-02,  9.55133898e-03, -5.25344158e-02, -4.48326147e-02,\n",
       "       -0.00000000e+00,  2.28629288e-02,  4.86442967e-02,  4.21960518e-02,\n",
       "       -1.09951116e-01,  8.10485205e-02,  2.00307302e-02, -1.51256171e-02,\n",
       "        4.38000550e-02, -1.17385096e-02, -6.81304312e-02,  8.78190713e-02,\n",
       "        9.34232505e-03, -7.91417554e-02,  7.58227582e-02,  1.55420356e-01,\n",
       "        6.87488159e-02,  1.10459840e-01,  7.72754067e-02,  3.94185302e-02,\n",
       "        1.16290922e-01,  4.81833784e-02, -1.35660295e-02,  6.64276137e-02,\n",
       "        3.32774448e-02,  4.63413529e-02, -4.92709737e-02, -1.54793561e-02,\n",
       "       -1.24624148e-02, -1.46050868e-02, -2.26516501e-02, -6.47593681e-04,\n",
       "        3.63158635e-02,  0.00000000e+00,  3.79821404e-02,  8.82811349e-02,\n",
       "        3.13469057e-02, -1.92490330e-03, -1.13020745e-02,  8.86123279e-05,\n",
       "        2.14064144e-02,  8.48151947e-03,  8.42175636e-02,  2.45506132e-01,\n",
       "        3.19843617e-02])"
      ]
     },
     "execution_count": 47,
     "metadata": {},
     "output_type": "execute_result"
    }
   ],
   "source": [
    "lasso.coef_"
   ]
  },
  {
   "cell_type": "code",
   "execution_count": 51,
   "metadata": {},
   "outputs": [
    {
     "data": {
      "text/plain": [
       "105"
      ]
     },
     "execution_count": 51,
     "metadata": {},
     "output_type": "execute_result"
    }
   ],
   "source": [
    "lasso.coef_.size"
   ]
  },
  {
   "cell_type": "code",
   "execution_count": 4,
   "metadata": {},
   "outputs": [],
   "source": [
    "# create storage\n",
    "coupling_coefs_lasso = np.zeros((pvc11.n_neurons, pvc11.n_neurons))\n",
    "coupling_coefs_r2 = np.zeros((pvc11.n_neurons, pvc11.n_neurons))\n",
    "coupling_coefs_bic = np.zeros((pvc11.n_neurons, pvc11.n_neurons))\n",
    "coupling_coefs_aic = np.zeros((pvc11.n_neurons, pvc11.n_neurons))\n",
    "\n",
    "intercepts_lasso = np.zeros(pvc11.n_neurons)\n",
    "intercepts_r2 = np.zeros(pvc11.n_neurons)\n",
    "intercepts_bic = np.zeros(pvc11.n_neurons)\n",
    "intercepts_aic = np.zeros(pvc11.n_neurons)\n",
    "\n",
    "# r2, bic, aic\n",
    "scores_lasso = np.zeros((pvc11.n_neurons, 3))\n",
    "scores_r2 = np.zeros((pvc11.n_neurons, 3))\n",
    "scores_bic = np.zeros((pvc11.n_neurons, 3))\n",
    "scores_aic = np.zeros((pvc11.n_neurons, 3))"
   ]
  },
  {
   "cell_type": "code",
   "execution_count": 5,
   "metadata": {},
   "outputs": [
    {
     "name": "stdout",
     "output_type": "stream",
     "text": [
      "0\n",
      "1\n",
      "2\n",
      "3\n",
      "4\n",
      "5\n",
      "6\n",
      "7\n",
      "8\n",
      "9\n",
      "10\n",
      "11\n",
      "12\n",
      "13\n",
      "14\n",
      "15\n",
      "16\n",
      "17\n",
      "18\n",
      "19\n",
      "20\n",
      "21\n",
      "22\n",
      "23\n",
      "24\n",
      "25\n",
      "26\n",
      "27\n",
      "28\n",
      "29\n",
      "30\n",
      "31\n",
      "32\n",
      "33\n",
      "34\n",
      "35\n",
      "36\n",
      "37\n",
      "38\n",
      "39\n",
      "40\n",
      "41\n",
      "42\n",
      "43\n",
      "44\n",
      "45\n",
      "46\n",
      "47\n",
      "48\n",
      "49\n",
      "50\n",
      "51\n",
      "52\n",
      "53\n",
      "54\n",
      "55\n",
      "56\n",
      "57\n",
      "58\n",
      "59\n",
      "60\n",
      "61\n",
      "62\n",
      "63\n",
      "64\n",
      "65\n",
      "66\n",
      "67\n",
      "68\n",
      "69\n",
      "70\n",
      "71\n",
      "72\n",
      "73\n",
      "74\n",
      "75\n",
      "76\n",
      "77\n",
      "78\n",
      "79\n",
      "80\n",
      "81\n",
      "82\n",
      "83\n",
      "84\n",
      "85\n",
      "86\n",
      "87\n",
      "88\n",
      "89\n",
      "90\n",
      "91\n",
      "92\n",
      "93\n",
      "94\n",
      "95\n",
      "96\n",
      "97\n",
      "98\n",
      "99\n",
      "100\n",
      "101\n",
      "102\n",
      "103\n",
      "104\n",
      "105\n"
     ]
    }
   ],
   "source": [
    "for neuron in range(pvc11.n_neurons):\n",
    "    print(neuron)\n",
    "    \n",
    "    # create design and response matrices\n",
    "    X = np.delete(Y, neuron, axis=1)\n",
    "    y = Y[:, neuron]\n",
    "    \n",
    "    # split up into train and test set\n",
    "    X_train, X_test, y_train, y_test = train_test_split(X, y, test_size=0.20)\n",
    "    \n",
    "    ### create fitting objects ###\n",
    "    lasso = LassoCV(\n",
    "        normalize=True,\n",
    "        cv=10,\n",
    "        max_iter=10000\n",
    "    )\n",
    "    \n",
    "    uoi_r2 = UoI_Lasso(\n",
    "        normalize=True,\n",
    "        fit_intercept=True,\n",
    "        n_boots_sel=50,\n",
    "        n_boots_est=50,\n",
    "        n_lambdas=50,\n",
    "        estimation_score='r2',\n",
    "        selection_thres_min=1,\n",
    "        n_selection_thres=1\n",
    "    )\n",
    "\n",
    "    uoi_bic = UoI_Lasso(\n",
    "        normalize=True,\n",
    "        fit_intercept=True,\n",
    "        n_boots_sel=50,\n",
    "        n_boots_est=50,\n",
    "        n_lambdas=50,\n",
    "        estimation_score='BIC',\n",
    "        selection_thres_min=1,\n",
    "        n_selection_thres=1\n",
    "    )\n",
    "\n",
    "    uoi_aic = UoI_Lasso(\n",
    "        normalize=True,\n",
    "        fit_intercept=True,\n",
    "        n_boots_sel=50,\n",
    "        n_boots_est=50,\n",
    "        n_lambdas=50,\n",
    "        estimation_score='AIC',\n",
    "        selection_thres_min=1,\n",
    "        n_selection_thres=1\n",
    "    )\n",
    "    \n",
    "    ### perform fits ###\n",
    "    lasso.fit(\n",
    "        X_train,\n",
    "        y_train\n",
    "    )\n",
    "\n",
    "    uoi_r2.fit(\n",
    "        X_train,\n",
    "        y_train\n",
    "    )\n",
    "\n",
    "    uoi_bic.fit(\n",
    "        X_train,\n",
    "        y_train\n",
    "    )\n",
    "\n",
    "    uoi_aic.fit(\n",
    "        X_train,\n",
    "        y_train\n",
    "    )\n",
    "    \n",
    "    ### store fits ###\n",
    "    coupling_coefs_lasso[neuron, :] = np.insert(lasso.coef_, neuron, 0.)\n",
    "    coupling_coefs_r2[neuron, :] = np.insert(uoi_r2.coef_, neuron, 0.)\n",
    "    coupling_coefs_bic[neuron, :] = np.insert(uoi_bic.coef_, neuron, 0.)\n",
    "    coupling_coefs_aic[neuron, :] = np.insert(uoi_aic.coef_, neuron, 0.)\n",
    "    intercepts_lasso[neuron] = lasso.intercept_\n",
    "    intercepts_r2[neuron] = uoi_r2.intercept_\n",
    "    intercepts_bic[neuron] = uoi_bic.intercept_\n",
    "    intercepts_aic[neuron] = uoi_aic.intercept_\n",
    "    \n",
    "    ### scoring ###\n",
    "    y_pred_lasso = lasso.intercept_ + np.dot(X_test, lasso.coef_)\n",
    "    scores_lasso[neuron, 0] = r2_score(y_test, y_pred_lasso)\n",
    "    scores_lasso[neuron, 1] = pvc11.BIC(y_test, y_pred_lasso, np.count_nonzero(lasso.coef_) + 1)\n",
    "    scores_lasso[neuron, 2] = pvc11.AIC(y_test, y_pred_lasso, np.count_nonzero(lasso.coef_) + 1)\n",
    "    \n",
    "    y_pred_r2 = uoi_r2.intercept_ + np.dot(X_test, uoi_r2.coef_)\n",
    "    scores_r2[neuron, 0] = r2_score(y_test, y_pred_r2)\n",
    "    scores_r2[neuron, 1] = pvc11.BIC(y_test, y_pred_r2, np.count_nonzero(uoi_r2.coef_) + 1)\n",
    "    scores_r2[neuron, 2] = pvc11.AIC(y_test, y_pred_r2, np.count_nonzero(uoi_r2.coef_) + 1)\n",
    "\n",
    "    y_pred_bic = uoi_bic.intercept_ + np.dot(X_test, uoi_bic.coef_)\n",
    "    scores_bic[neuron, 0] = r2_score(y_test, y_pred_bic)\n",
    "    scores_bic[neuron, 1] = pvc11.BIC(y_test, y_pred_bic, np.count_nonzero(uoi_bic.coef_) + 1)\n",
    "    scores_bic[neuron, 2] = pvc11.AIC(y_test, y_pred_bic, np.count_nonzero(uoi_bic.coef_) + 1)\n",
    "\n",
    "    y_pred_aic = uoi_aic.intercept_ + np.dot(X_test, uoi_aic.coef_)\n",
    "    scores_aic[neuron, 0] = r2_score(y_test, y_pred_aic)\n",
    "    scores_aic[neuron, 1] = pvc11.BIC(y_test, y_pred_aic, np.count_nonzero(uoi_aic.coef_) + 1)\n",
    "    scores_aic[neuron, 2] = pvc11.AIC(y_test, y_pred_aic, np.count_nonzero(uoi_aic.coef_) + 1)"
   ]
  },
  {
   "cell_type": "code",
   "execution_count": 22,
   "metadata": {},
   "outputs": [
    {
     "name": "stdout",
     "output_type": "stream",
     "text": [
      "0.5536768624889712\n",
      "0.5449561065691186\n",
      "0.538213586866626\n",
      "0.5178826778583644\n"
     ]
    }
   ],
   "source": [
    "print(np.mean(scores_lasso[:, 0]))\n",
    "print(np.mean(scores_r2[:, 0]))\n",
    "print(np.mean(scores_aic[:, 0]))\n",
    "print(np.mean(scores_bic[:, 0]))"
   ]
  },
  {
   "cell_type": "code",
   "execution_count": 21,
   "metadata": {},
   "outputs": [
    {
     "name": "stdout",
     "output_type": "stream",
     "text": [
      "-350.1872260977994\n",
      "-314.1975381870129\n",
      "-385.58996221205933\n",
      "-374.6830476097298\n"
     ]
    }
   ],
   "source": [
    "print(np.mean(scores_r2[:, 2]))\n",
    "print(np.mean(scores_lasso[:, 2]))\n",
    "print(np.mean(scores_aic[:, 2]))\n",
    "print(np.mean(scores_bic[:, 2]))"
   ]
  },
  {
   "cell_type": "code",
   "execution_count": 23,
   "metadata": {},
   "outputs": [
    {
     "name": "stdout",
     "output_type": "stream",
     "text": [
      "0.197369973161849\n",
      "0.19680160820668924\n"
     ]
    }
   ],
   "source": [
    "print(np.std(scores_aic[:, 0]))\n",
    "print(np.std(scores_lasso[:, 0]))"
   ]
  },
  {
   "cell_type": "code",
   "execution_count": 24,
   "metadata": {},
   "outputs": [],
   "source": [
    "fits = h5py.File('pvc11_fits.h5', 'w')\n",
    "fits['lasso/coupling_coefs'] = coupling_coefs_lasso\n",
    "fits['lasso/intercepts'] = intercepts_lasso\n",
    "fits['lasso/r2s'] = scores_lasso[:, 0]\n",
    "fits['lasso/bics'] = scores_lasso[:, 1]\n",
    "fits['lasso/aics'] = scores_lasso[:, 2]\n",
    "\n",
    "fits['uoi_r2/coupling_coefs'] = coupling_coefs_r2\n",
    "fits['uoi_r2/intercepts'] = intercepts_r2\n",
    "fits['uoi_r2/r2s'] = scores_r2[:, 0]\n",
    "fits['uoi_r2/bics'] = scores_r2[:, 1]\n",
    "fits['uoi_r2/aics'] = scores_r2[:, 2]\n",
    "\n",
    "fits['uoi_bic/coupling_coefs'] = coupling_coefs_bic\n",
    "fits['uoi_bic/intercepts'] = intercepts_bic\n",
    "fits['uoi_bic/r2s'] = scores_bic[:, 0]\n",
    "fits['uoi_bic/bics'] = scores_bic[:, 1]\n",
    "fits['uoi_bic/aics'] = scores_bic[:, 2]\n",
    "\n",
    "fits['uoi_aic/coupling_coefs'] = coupling_coefs_aic\n",
    "fits['uoi_aic/intercepts'] = intercepts_aic\n",
    "fits['uoi_aic/r2s'] = scores_aic[:, 0]\n",
    "fits['uoi_aic/bics'] = scores_aic[:, 1]\n",
    "fits['uoi_aic/aics'] = scores_aic[:, 2]\n",
    "fits.close()"
   ]
  },
  {
   "cell_type": "code",
   "execution_count": null,
   "metadata": {},
   "outputs": [],
   "source": []
  }
 ],
 "metadata": {
  "kernelspec": {
   "display_name": "Python [conda env:anaconda3]",
   "language": "python",
   "name": "conda-env-anaconda3-py"
  },
  "language_info": {
   "codemirror_mode": {
    "name": "ipython",
    "version": 3
   },
   "file_extension": ".py",
   "mimetype": "text/x-python",
   "name": "python",
   "nbconvert_exporter": "python",
   "pygments_lexer": "ipython3",
   "version": "3.6.5"
  },
  "varInspector": {
   "cols": {
    "lenName": 16,
    "lenType": 16,
    "lenVar": 40
   },
   "kernels_config": {
    "python": {
     "delete_cmd_postfix": "",
     "delete_cmd_prefix": "del ",
     "library": "var_list.py",
     "varRefreshCmd": "print(var_dic_list())"
    },
    "r": {
     "delete_cmd_postfix": ") ",
     "delete_cmd_prefix": "rm(",
     "library": "var_list.r",
     "varRefreshCmd": "cat(var_dic_list()) "
    }
   },
   "types_to_exclude": [
    "module",
    "function",
    "builtin_function_or_method",
    "instance",
    "_Feature"
   ],
   "window_display": false
  }
 },
 "nbformat": 4,
 "nbformat_minor": 2
}
